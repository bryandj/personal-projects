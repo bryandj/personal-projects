{
 "cells": [
  {
   "cell_type": "markdown",
   "metadata": {},
   "source": [
    "# <center>FIFA 18 Player Dataset Exploration</center>\n",
    "![fifa](images\\fifa.jpg)\n",
    "\n",
    "# Table of contents\n",
    "1. [Initial Exploration](#initial)\n",
    "2. [Positions](#positions)\n",
    "3. [Height and Weight](#height)\n",
    "4. [Top 5 Leagues](#leagues)\n",
    "5. [England vs. Germany PKs](#PKs)\n",
    "6. [Southpaws](#southpaws)\n",
    "6. [Similarity](#similarity)\n",
    "\n",
    "# Initial Exploration <a name=\"initial\"></a>\n",
    "The FIFA videogame franchise is a worldwide phenomenon, accounting for [roughly 40%](https://www.forbes.com/sites/greatspeculations/2017/10/10/fifa-remains-eas-bread-and-butter/#4b55f3ef2140) of Electronic Arts' yearly revenue. FIFA 18, released in Nov. 2017, sold 5.9 million units in its first week alone, and surpassed 10 million units by the end of the year. In order to meet the demands of soccer fanatics across the globe, EA strives for accuracy, and as such, each FIFA iteration includes an enormous database of player statistics. In this notebook, we explore the FIFA 18 database (retrieved from [Kaggle](https://www.kaggle.com/thec03u5/fifa-18-demo-player-dataset)).\n",
    "\n",
    "Let's begin by getting an idea at the scope of the dataset."
   ]
  },
  {
   "cell_type": "code",
   "execution_count": 1,
   "metadata": {
    "collapsed": true
   },
   "outputs": [],
   "source": [
    "import pandas as pd\n",
    "import seaborn as sns\n",
    "import matplotlib.pyplot as plt\n",
    "%matplotlib inline\n",
    "import numpy as np\n",
    "\n",
    "plt.style.use('seaborn')\n",
    "\n",
    "fifa = pd.read_csv('complete.csv')"
   ]
  },
  {
   "cell_type": "code",
   "execution_count": 2,
   "metadata": {},
   "outputs": [
    {
     "name": "stdout",
     "output_type": "stream",
     "text": [
      "Players:\t17994\n",
      "Nationalities:\t164\n",
      "Clubs:\t\t647\n",
      "Leagues:\t41\n"
     ]
    }
   ],
   "source": [
    "print('Players:', '\\t', fifa.shape[0], '\\n',\n",
    "      'Nationalities:', '\\t', fifa.groupby('nationality')['ID'].count().size, '\\n',\n",
    "      'Clubs:', '\\t\\t', fifa.groupby('club')['ID'].count().size, '\\n',\n",
    "      'Leagues:', '\\t', fifa.groupby('league')['ID'].count().size, sep='')"
   ]
  },
  {
   "cell_type": "markdown",
   "metadata": {},
   "source": [
    "Wow, that is a lot of players and clubs. Now let's look at what data the dataframe actually contains. Note that the players in the dataframe are indexed in descending order based on the **overall** stat, which is commonly viewed as the most important/significant stat for a player."
   ]
  },
  {
   "cell_type": "code",
   "execution_count": 3,
   "metadata": {},
   "outputs": [
    {
     "data": {
      "text/html": [
       "<div>\n",
       "<style>\n",
       "    .dataframe thead tr:only-child th {\n",
       "        text-align: right;\n",
       "    }\n",
       "\n",
       "    .dataframe thead th {\n",
       "        text-align: left;\n",
       "    }\n",
       "\n",
       "    .dataframe tbody tr th {\n",
       "        vertical-align: top;\n",
       "    }\n",
       "</style>\n",
       "<table border=\"1\" class=\"dataframe\">\n",
       "  <thead>\n",
       "    <tr style=\"text-align: right;\">\n",
       "      <th></th>\n",
       "      <th>ID</th>\n",
       "      <th>name</th>\n",
       "      <th>full_name</th>\n",
       "      <th>club</th>\n",
       "      <th>club_logo</th>\n",
       "      <th>special</th>\n",
       "      <th>age</th>\n",
       "      <th>league</th>\n",
       "      <th>birth_date</th>\n",
       "      <th>height_cm</th>\n",
       "      <th>weight_kg</th>\n",
       "      <th>body_type</th>\n",
       "      <th>real_face</th>\n",
       "      <th>flag</th>\n",
       "      <th>nationality</th>\n",
       "      <th>photo</th>\n",
       "      <th>eur_value</th>\n",
       "      <th>eur_wage</th>\n",
       "      <th>eur_release_clause</th>\n",
       "      <th>overall</th>\n",
       "      <th>potential</th>\n",
       "      <th>pac</th>\n",
       "      <th>sho</th>\n",
       "      <th>pas</th>\n",
       "      <th>dri</th>\n",
       "      <th>def</th>\n",
       "      <th>phy</th>\n",
       "      <th>international_reputation</th>\n",
       "      <th>skill_moves</th>\n",
       "      <th>weak_foot</th>\n",
       "      <th>work_rate_att</th>\n",
       "      <th>work_rate_def</th>\n",
       "      <th>preferred_foot</th>\n",
       "      <th>crossing</th>\n",
       "      <th>finishing</th>\n",
       "      <th>heading_accuracy</th>\n",
       "      <th>short_passing</th>\n",
       "      <th>volleys</th>\n",
       "      <th>dribbling</th>\n",
       "      <th>curve</th>\n",
       "      <th>free_kick_accuracy</th>\n",
       "      <th>long_passing</th>\n",
       "      <th>ball_control</th>\n",
       "      <th>acceleration</th>\n",
       "      <th>sprint_speed</th>\n",
       "      <th>agility</th>\n",
       "      <th>reactions</th>\n",
       "      <th>balance</th>\n",
       "      <th>shot_power</th>\n",
       "      <th>jumping</th>\n",
       "      <th>stamina</th>\n",
       "      <th>strength</th>\n",
       "      <th>long_shots</th>\n",
       "      <th>aggression</th>\n",
       "      <th>interceptions</th>\n",
       "      <th>positioning</th>\n",
       "      <th>vision</th>\n",
       "      <th>penalties</th>\n",
       "      <th>composure</th>\n",
       "      <th>marking</th>\n",
       "      <th>standing_tackle</th>\n",
       "      <th>sliding_tackle</th>\n",
       "      <th>gk_diving</th>\n",
       "      <th>gk_handling</th>\n",
       "      <th>gk_kicking</th>\n",
       "      <th>gk_positioning</th>\n",
       "      <th>gk_reflexes</th>\n",
       "      <th>rs</th>\n",
       "      <th>rw</th>\n",
       "      <th>rf</th>\n",
       "      <th>ram</th>\n",
       "      <th>rcm</th>\n",
       "      <th>rm</th>\n",
       "      <th>rdm</th>\n",
       "      <th>rcb</th>\n",
       "      <th>rb</th>\n",
       "      <th>rwb</th>\n",
       "      <th>st</th>\n",
       "      <th>lw</th>\n",
       "      <th>cf</th>\n",
       "      <th>cam</th>\n",
       "      <th>cm</th>\n",
       "      <th>lm</th>\n",
       "      <th>cdm</th>\n",
       "      <th>cb</th>\n",
       "      <th>lb</th>\n",
       "      <th>lwb</th>\n",
       "      <th>ls</th>\n",
       "      <th>lf</th>\n",
       "      <th>lam</th>\n",
       "      <th>lcm</th>\n",
       "      <th>ldm</th>\n",
       "      <th>lcb</th>\n",
       "      <th>gk</th>\n",
       "      <th>1_on_1_rush_trait</th>\n",
       "      <th>acrobatic_clearance_trait</th>\n",
       "      <th>argues_with_officials_trait</th>\n",
       "      <th>avoids_using_weaker_foot_trait</th>\n",
       "      <th>backs_into_player_trait</th>\n",
       "      <th>bicycle_kicks_trait</th>\n",
       "      <th>cautious_with_crosses_trait</th>\n",
       "      <th>chip_shot_trait</th>\n",
       "      <th>chipped_penalty_trait</th>\n",
       "      <th>comes_for_crosses_trait</th>\n",
       "      <th>corner_specialist_trait</th>\n",
       "      <th>diver_trait</th>\n",
       "      <th>dives_into_tackles_trait</th>\n",
       "      <th>diving_header_trait</th>\n",
       "      <th>driven_pass_trait</th>\n",
       "      <th>early_crosser_trait</th>\n",
       "      <th>fan's_favourite_trait</th>\n",
       "      <th>fancy_flicks_trait</th>\n",
       "      <th>finesse_shot_trait</th>\n",
       "      <th>flair_trait</th>\n",
       "      <th>flair_passes_trait</th>\n",
       "      <th>gk_flat_kick_trait</th>\n",
       "      <th>gk_long_throw_trait</th>\n",
       "      <th>gk_up_for_corners_trait</th>\n",
       "      <th>giant_throw_in_trait</th>\n",
       "      <th>inflexible_trait</th>\n",
       "      <th>injury_free_trait</th>\n",
       "      <th>injury_prone_trait</th>\n",
       "      <th>leadership_trait</th>\n",
       "      <th>long_passer_trait</th>\n",
       "      <th>long_shot_taker_trait</th>\n",
       "      <th>long_throw_in_trait</th>\n",
       "      <th>one_club_player_trait</th>\n",
       "      <th>outside_foot_shot_trait</th>\n",
       "      <th>playmaker_trait</th>\n",
       "      <th>power_free_kick_trait</th>\n",
       "      <th>power_header_trait</th>\n",
       "      <th>puncher_trait</th>\n",
       "      <th>rushes_out_of_goal_trait</th>\n",
       "      <th>saves_with_feet_trait</th>\n",
       "      <th>second_wind_trait</th>\n",
       "      <th>selfish_trait</th>\n",
       "      <th>skilled_dribbling_trait</th>\n",
       "      <th>stutter_penalty_trait</th>\n",
       "      <th>swerve_pass_trait</th>\n",
       "      <th>takes_finesse_free_kicks_trait</th>\n",
       "      <th>target_forward_trait</th>\n",
       "      <th>team_player_trait</th>\n",
       "      <th>technical_dribbler_trait</th>\n",
       "      <th>tries_to_beat_defensive_line_trait</th>\n",
       "      <th>poacher_speciality</th>\n",
       "      <th>speedster_speciality</th>\n",
       "      <th>aerial_threat_speciality</th>\n",
       "      <th>dribbler_speciality</th>\n",
       "      <th>playmaker_speciality</th>\n",
       "      <th>engine_speciality</th>\n",
       "      <th>distance_shooter_speciality</th>\n",
       "      <th>crosser_speciality</th>\n",
       "      <th>free_kick_specialist_speciality</th>\n",
       "      <th>tackling_speciality</th>\n",
       "      <th>tactician_speciality</th>\n",
       "      <th>acrobat_speciality</th>\n",
       "      <th>strength_speciality</th>\n",
       "      <th>clinical_finisher_speciality</th>\n",
       "      <th>prefers_rs</th>\n",
       "      <th>prefers_rw</th>\n",
       "      <th>prefers_rf</th>\n",
       "      <th>prefers_ram</th>\n",
       "      <th>prefers_rcm</th>\n",
       "      <th>prefers_rm</th>\n",
       "      <th>prefers_rdm</th>\n",
       "      <th>prefers_rcb</th>\n",
       "      <th>prefers_rb</th>\n",
       "      <th>prefers_rwb</th>\n",
       "      <th>prefers_st</th>\n",
       "      <th>prefers_lw</th>\n",
       "      <th>prefers_cf</th>\n",
       "      <th>prefers_cam</th>\n",
       "      <th>prefers_cm</th>\n",
       "      <th>prefers_lm</th>\n",
       "      <th>prefers_cdm</th>\n",
       "      <th>prefers_cb</th>\n",
       "      <th>prefers_lb</th>\n",
       "      <th>prefers_lwb</th>\n",
       "      <th>prefers_ls</th>\n",
       "      <th>prefers_lf</th>\n",
       "      <th>prefers_lam</th>\n",
       "      <th>prefers_lcm</th>\n",
       "      <th>prefers_ldm</th>\n",
       "      <th>prefers_lcb</th>\n",
       "      <th>prefers_gk</th>\n",
       "    </tr>\n",
       "  </thead>\n",
       "  <tbody>\n",
       "    <tr>\n",
       "      <th>0</th>\n",
       "      <td>20801</td>\n",
       "      <td>Cristiano Ronaldo</td>\n",
       "      <td>C. Ronaldo dos Santos Aveiro</td>\n",
       "      <td>Real Madrid CF</td>\n",
       "      <td>https://cdn.sofifa.org/18/teams/243.png</td>\n",
       "      <td>2228</td>\n",
       "      <td>32</td>\n",
       "      <td>Spanish Primera División</td>\n",
       "      <td>1985-02-05</td>\n",
       "      <td>185.0</td>\n",
       "      <td>80.0</td>\n",
       "      <td>C. Ronaldo</td>\n",
       "      <td>True</td>\n",
       "      <td>https://cdn.sofifa.org/flags/38@3x.png</td>\n",
       "      <td>Portugal</td>\n",
       "      <td>https://cdn.sofifa.org/18/players/20801.png</td>\n",
       "      <td>95500000.0</td>\n",
       "      <td>565000.0</td>\n",
       "      <td>195800000.0</td>\n",
       "      <td>94</td>\n",
       "      <td>94</td>\n",
       "      <td>90</td>\n",
       "      <td>93</td>\n",
       "      <td>82</td>\n",
       "      <td>90</td>\n",
       "      <td>33</td>\n",
       "      <td>80</td>\n",
       "      <td>5</td>\n",
       "      <td>5</td>\n",
       "      <td>4</td>\n",
       "      <td>High</td>\n",
       "      <td>Low</td>\n",
       "      <td>Right</td>\n",
       "      <td>85</td>\n",
       "      <td>94</td>\n",
       "      <td>88</td>\n",
       "      <td>83</td>\n",
       "      <td>88</td>\n",
       "      <td>91</td>\n",
       "      <td>81</td>\n",
       "      <td>76</td>\n",
       "      <td>77</td>\n",
       "      <td>93</td>\n",
       "      <td>89</td>\n",
       "      <td>91</td>\n",
       "      <td>89</td>\n",
       "      <td>96</td>\n",
       "      <td>63</td>\n",
       "      <td>94</td>\n",
       "      <td>95</td>\n",
       "      <td>92</td>\n",
       "      <td>80</td>\n",
       "      <td>92</td>\n",
       "      <td>63</td>\n",
       "      <td>29</td>\n",
       "      <td>95</td>\n",
       "      <td>85</td>\n",
       "      <td>85</td>\n",
       "      <td>95</td>\n",
       "      <td>22</td>\n",
       "      <td>31</td>\n",
       "      <td>23</td>\n",
       "      <td>7</td>\n",
       "      <td>11</td>\n",
       "      <td>15</td>\n",
       "      <td>14</td>\n",
       "      <td>11</td>\n",
       "      <td>92.0</td>\n",
       "      <td>91.0</td>\n",
       "      <td>91.0</td>\n",
       "      <td>89.0</td>\n",
       "      <td>82.0</td>\n",
       "      <td>89.0</td>\n",
       "      <td>62.0</td>\n",
       "      <td>53.0</td>\n",
       "      <td>61.0</td>\n",
       "      <td>66.0</td>\n",
       "      <td>92.0</td>\n",
       "      <td>91.0</td>\n",
       "      <td>91.0</td>\n",
       "      <td>89.0</td>\n",
       "      <td>82.0</td>\n",
       "      <td>89.0</td>\n",
       "      <td>62.0</td>\n",
       "      <td>53.0</td>\n",
       "      <td>61.0</td>\n",
       "      <td>66.0</td>\n",
       "      <td>92.0</td>\n",
       "      <td>91.0</td>\n",
       "      <td>89.0</td>\n",
       "      <td>82.0</td>\n",
       "      <td>62.0</td>\n",
       "      <td>53.0</td>\n",
       "      <td>NaN</td>\n",
       "      <td>False</td>\n",
       "      <td>False</td>\n",
       "      <td>False</td>\n",
       "      <td>False</td>\n",
       "      <td>False</td>\n",
       "      <td>False</td>\n",
       "      <td>False</td>\n",
       "      <td>False</td>\n",
       "      <td>False</td>\n",
       "      <td>False</td>\n",
       "      <td>False</td>\n",
       "      <td>False</td>\n",
       "      <td>False</td>\n",
       "      <td>False</td>\n",
       "      <td>False</td>\n",
       "      <td>False</td>\n",
       "      <td>False</td>\n",
       "      <td>False</td>\n",
       "      <td>False</td>\n",
       "      <td>True</td>\n",
       "      <td>False</td>\n",
       "      <td>False</td>\n",
       "      <td>False</td>\n",
       "      <td>False</td>\n",
       "      <td>False</td>\n",
       "      <td>False</td>\n",
       "      <td>False</td>\n",
       "      <td>False</td>\n",
       "      <td>False</td>\n",
       "      <td>False</td>\n",
       "      <td>True</td>\n",
       "      <td>False</td>\n",
       "      <td>False</td>\n",
       "      <td>False</td>\n",
       "      <td>False</td>\n",
       "      <td>True</td>\n",
       "      <td>False</td>\n",
       "      <td>False</td>\n",
       "      <td>False</td>\n",
       "      <td>False</td>\n",
       "      <td>False</td>\n",
       "      <td>False</td>\n",
       "      <td>True</td>\n",
       "      <td>False</td>\n",
       "      <td>False</td>\n",
       "      <td>False</td>\n",
       "      <td>False</td>\n",
       "      <td>False</td>\n",
       "      <td>False</td>\n",
       "      <td>False</td>\n",
       "      <td>False</td>\n",
       "      <td>True</td>\n",
       "      <td>False</td>\n",
       "      <td>True</td>\n",
       "      <td>False</td>\n",
       "      <td>False</td>\n",
       "      <td>True</td>\n",
       "      <td>False</td>\n",
       "      <td>False</td>\n",
       "      <td>False</td>\n",
       "      <td>False</td>\n",
       "      <td>True</td>\n",
       "      <td>False</td>\n",
       "      <td>True</td>\n",
       "      <td>False</td>\n",
       "      <td>False</td>\n",
       "      <td>False</td>\n",
       "      <td>False</td>\n",
       "      <td>False</td>\n",
       "      <td>False</td>\n",
       "      <td>False</td>\n",
       "      <td>False</td>\n",
       "      <td>False</td>\n",
       "      <td>False</td>\n",
       "      <td>True</td>\n",
       "      <td>True</td>\n",
       "      <td>False</td>\n",
       "      <td>False</td>\n",
       "      <td>False</td>\n",
       "      <td>False</td>\n",
       "      <td>False</td>\n",
       "      <td>False</td>\n",
       "      <td>False</td>\n",
       "      <td>False</td>\n",
       "      <td>False</td>\n",
       "      <td>False</td>\n",
       "      <td>False</td>\n",
       "      <td>False</td>\n",
       "      <td>False</td>\n",
       "      <td>False</td>\n",
       "      <td>False</td>\n",
       "    </tr>\n",
       "    <tr>\n",
       "      <th>1</th>\n",
       "      <td>158023</td>\n",
       "      <td>L. Messi</td>\n",
       "      <td>Lionel Messi</td>\n",
       "      <td>FC Barcelona</td>\n",
       "      <td>https://cdn.sofifa.org/18/teams/241.png</td>\n",
       "      <td>2158</td>\n",
       "      <td>30</td>\n",
       "      <td>Spanish Primera División</td>\n",
       "      <td>1987-06-24</td>\n",
       "      <td>170.0</td>\n",
       "      <td>72.0</td>\n",
       "      <td>Messi</td>\n",
       "      <td>True</td>\n",
       "      <td>https://cdn.sofifa.org/flags/52@3x.png</td>\n",
       "      <td>Argentina</td>\n",
       "      <td>https://cdn.sofifa.org/18/players/158023.png</td>\n",
       "      <td>105000000.0</td>\n",
       "      <td>565000.0</td>\n",
       "      <td>215300000.0</td>\n",
       "      <td>93</td>\n",
       "      <td>93</td>\n",
       "      <td>89</td>\n",
       "      <td>90</td>\n",
       "      <td>86</td>\n",
       "      <td>96</td>\n",
       "      <td>26</td>\n",
       "      <td>61</td>\n",
       "      <td>5</td>\n",
       "      <td>4</td>\n",
       "      <td>4</td>\n",
       "      <td>Medium</td>\n",
       "      <td>Medium</td>\n",
       "      <td>Left</td>\n",
       "      <td>77</td>\n",
       "      <td>95</td>\n",
       "      <td>71</td>\n",
       "      <td>88</td>\n",
       "      <td>85</td>\n",
       "      <td>97</td>\n",
       "      <td>89</td>\n",
       "      <td>90</td>\n",
       "      <td>87</td>\n",
       "      <td>95</td>\n",
       "      <td>92</td>\n",
       "      <td>87</td>\n",
       "      <td>90</td>\n",
       "      <td>95</td>\n",
       "      <td>95</td>\n",
       "      <td>85</td>\n",
       "      <td>68</td>\n",
       "      <td>73</td>\n",
       "      <td>59</td>\n",
       "      <td>88</td>\n",
       "      <td>48</td>\n",
       "      <td>22</td>\n",
       "      <td>93</td>\n",
       "      <td>90</td>\n",
       "      <td>78</td>\n",
       "      <td>96</td>\n",
       "      <td>13</td>\n",
       "      <td>28</td>\n",
       "      <td>26</td>\n",
       "      <td>6</td>\n",
       "      <td>11</td>\n",
       "      <td>15</td>\n",
       "      <td>14</td>\n",
       "      <td>8</td>\n",
       "      <td>88.0</td>\n",
       "      <td>91.0</td>\n",
       "      <td>92.0</td>\n",
       "      <td>92.0</td>\n",
       "      <td>84.0</td>\n",
       "      <td>90.0</td>\n",
       "      <td>59.0</td>\n",
       "      <td>45.0</td>\n",
       "      <td>57.0</td>\n",
       "      <td>62.0</td>\n",
       "      <td>88.0</td>\n",
       "      <td>91.0</td>\n",
       "      <td>92.0</td>\n",
       "      <td>92.0</td>\n",
       "      <td>84.0</td>\n",
       "      <td>90.0</td>\n",
       "      <td>59.0</td>\n",
       "      <td>45.0</td>\n",
       "      <td>57.0</td>\n",
       "      <td>62.0</td>\n",
       "      <td>88.0</td>\n",
       "      <td>92.0</td>\n",
       "      <td>92.0</td>\n",
       "      <td>84.0</td>\n",
       "      <td>59.0</td>\n",
       "      <td>45.0</td>\n",
       "      <td>NaN</td>\n",
       "      <td>False</td>\n",
       "      <td>False</td>\n",
       "      <td>False</td>\n",
       "      <td>False</td>\n",
       "      <td>False</td>\n",
       "      <td>False</td>\n",
       "      <td>False</td>\n",
       "      <td>True</td>\n",
       "      <td>False</td>\n",
       "      <td>False</td>\n",
       "      <td>False</td>\n",
       "      <td>False</td>\n",
       "      <td>False</td>\n",
       "      <td>False</td>\n",
       "      <td>False</td>\n",
       "      <td>False</td>\n",
       "      <td>False</td>\n",
       "      <td>False</td>\n",
       "      <td>True</td>\n",
       "      <td>False</td>\n",
       "      <td>False</td>\n",
       "      <td>False</td>\n",
       "      <td>False</td>\n",
       "      <td>False</td>\n",
       "      <td>False</td>\n",
       "      <td>False</td>\n",
       "      <td>False</td>\n",
       "      <td>False</td>\n",
       "      <td>False</td>\n",
       "      <td>False</td>\n",
       "      <td>True</td>\n",
       "      <td>False</td>\n",
       "      <td>True</td>\n",
       "      <td>False</td>\n",
       "      <td>True</td>\n",
       "      <td>False</td>\n",
       "      <td>False</td>\n",
       "      <td>False</td>\n",
       "      <td>False</td>\n",
       "      <td>False</td>\n",
       "      <td>False</td>\n",
       "      <td>False</td>\n",
       "      <td>True</td>\n",
       "      <td>False</td>\n",
       "      <td>False</td>\n",
       "      <td>False</td>\n",
       "      <td>False</td>\n",
       "      <td>False</td>\n",
       "      <td>False</td>\n",
       "      <td>False</td>\n",
       "      <td>False</td>\n",
       "      <td>False</td>\n",
       "      <td>False</td>\n",
       "      <td>True</td>\n",
       "      <td>False</td>\n",
       "      <td>False</td>\n",
       "      <td>False</td>\n",
       "      <td>False</td>\n",
       "      <td>True</td>\n",
       "      <td>False</td>\n",
       "      <td>False</td>\n",
       "      <td>True</td>\n",
       "      <td>False</td>\n",
       "      <td>True</td>\n",
       "      <td>False</td>\n",
       "      <td>True</td>\n",
       "      <td>False</td>\n",
       "      <td>False</td>\n",
       "      <td>False</td>\n",
       "      <td>False</td>\n",
       "      <td>False</td>\n",
       "      <td>False</td>\n",
       "      <td>False</td>\n",
       "      <td>False</td>\n",
       "      <td>True</td>\n",
       "      <td>False</td>\n",
       "      <td>True</td>\n",
       "      <td>False</td>\n",
       "      <td>False</td>\n",
       "      <td>False</td>\n",
       "      <td>False</td>\n",
       "      <td>False</td>\n",
       "      <td>False</td>\n",
       "      <td>False</td>\n",
       "      <td>False</td>\n",
       "      <td>False</td>\n",
       "      <td>False</td>\n",
       "      <td>False</td>\n",
       "      <td>False</td>\n",
       "      <td>False</td>\n",
       "      <td>False</td>\n",
       "    </tr>\n",
       "    <tr>\n",
       "      <th>2</th>\n",
       "      <td>190871</td>\n",
       "      <td>Neymar</td>\n",
       "      <td>Neymar da Silva Santos Jr.</td>\n",
       "      <td>Paris Saint-Germain</td>\n",
       "      <td>https://cdn.sofifa.org/18/teams/73.png</td>\n",
       "      <td>2100</td>\n",
       "      <td>25</td>\n",
       "      <td>French Ligue 1</td>\n",
       "      <td>1992-02-05</td>\n",
       "      <td>175.0</td>\n",
       "      <td>68.0</td>\n",
       "      <td>Neymar</td>\n",
       "      <td>True</td>\n",
       "      <td>https://cdn.sofifa.org/flags/54@3x.png</td>\n",
       "      <td>Brazil</td>\n",
       "      <td>https://cdn.sofifa.org/18/players/190871.png</td>\n",
       "      <td>123000000.0</td>\n",
       "      <td>280000.0</td>\n",
       "      <td>236800000.0</td>\n",
       "      <td>92</td>\n",
       "      <td>94</td>\n",
       "      <td>92</td>\n",
       "      <td>84</td>\n",
       "      <td>79</td>\n",
       "      <td>95</td>\n",
       "      <td>30</td>\n",
       "      <td>60</td>\n",
       "      <td>5</td>\n",
       "      <td>5</td>\n",
       "      <td>5</td>\n",
       "      <td>High</td>\n",
       "      <td>Medium</td>\n",
       "      <td>Right</td>\n",
       "      <td>75</td>\n",
       "      <td>89</td>\n",
       "      <td>62</td>\n",
       "      <td>81</td>\n",
       "      <td>83</td>\n",
       "      <td>96</td>\n",
       "      <td>81</td>\n",
       "      <td>84</td>\n",
       "      <td>75</td>\n",
       "      <td>95</td>\n",
       "      <td>94</td>\n",
       "      <td>90</td>\n",
       "      <td>96</td>\n",
       "      <td>88</td>\n",
       "      <td>82</td>\n",
       "      <td>80</td>\n",
       "      <td>61</td>\n",
       "      <td>78</td>\n",
       "      <td>53</td>\n",
       "      <td>77</td>\n",
       "      <td>56</td>\n",
       "      <td>36</td>\n",
       "      <td>90</td>\n",
       "      <td>80</td>\n",
       "      <td>81</td>\n",
       "      <td>92</td>\n",
       "      <td>21</td>\n",
       "      <td>24</td>\n",
       "      <td>33</td>\n",
       "      <td>9</td>\n",
       "      <td>9</td>\n",
       "      <td>15</td>\n",
       "      <td>15</td>\n",
       "      <td>11</td>\n",
       "      <td>84.0</td>\n",
       "      <td>89.0</td>\n",
       "      <td>88.0</td>\n",
       "      <td>88.0</td>\n",
       "      <td>79.0</td>\n",
       "      <td>87.0</td>\n",
       "      <td>59.0</td>\n",
       "      <td>46.0</td>\n",
       "      <td>59.0</td>\n",
       "      <td>64.0</td>\n",
       "      <td>84.0</td>\n",
       "      <td>89.0</td>\n",
       "      <td>88.0</td>\n",
       "      <td>88.0</td>\n",
       "      <td>79.0</td>\n",
       "      <td>87.0</td>\n",
       "      <td>59.0</td>\n",
       "      <td>46.0</td>\n",
       "      <td>59.0</td>\n",
       "      <td>64.0</td>\n",
       "      <td>84.0</td>\n",
       "      <td>88.0</td>\n",
       "      <td>88.0</td>\n",
       "      <td>79.0</td>\n",
       "      <td>59.0</td>\n",
       "      <td>46.0</td>\n",
       "      <td>NaN</td>\n",
       "      <td>False</td>\n",
       "      <td>False</td>\n",
       "      <td>False</td>\n",
       "      <td>False</td>\n",
       "      <td>False</td>\n",
       "      <td>False</td>\n",
       "      <td>False</td>\n",
       "      <td>False</td>\n",
       "      <td>False</td>\n",
       "      <td>False</td>\n",
       "      <td>False</td>\n",
       "      <td>True</td>\n",
       "      <td>False</td>\n",
       "      <td>False</td>\n",
       "      <td>False</td>\n",
       "      <td>False</td>\n",
       "      <td>False</td>\n",
       "      <td>False</td>\n",
       "      <td>False</td>\n",
       "      <td>True</td>\n",
       "      <td>False</td>\n",
       "      <td>False</td>\n",
       "      <td>False</td>\n",
       "      <td>False</td>\n",
       "      <td>False</td>\n",
       "      <td>False</td>\n",
       "      <td>False</td>\n",
       "      <td>False</td>\n",
       "      <td>False</td>\n",
       "      <td>False</td>\n",
       "      <td>False</td>\n",
       "      <td>False</td>\n",
       "      <td>False</td>\n",
       "      <td>False</td>\n",
       "      <td>False</td>\n",
       "      <td>False</td>\n",
       "      <td>False</td>\n",
       "      <td>False</td>\n",
       "      <td>False</td>\n",
       "      <td>False</td>\n",
       "      <td>False</td>\n",
       "      <td>False</td>\n",
       "      <td>True</td>\n",
       "      <td>False</td>\n",
       "      <td>False</td>\n",
       "      <td>True</td>\n",
       "      <td>False</td>\n",
       "      <td>False</td>\n",
       "      <td>True</td>\n",
       "      <td>False</td>\n",
       "      <td>False</td>\n",
       "      <td>True</td>\n",
       "      <td>False</td>\n",
       "      <td>True</td>\n",
       "      <td>False</td>\n",
       "      <td>False</td>\n",
       "      <td>False</td>\n",
       "      <td>False</td>\n",
       "      <td>False</td>\n",
       "      <td>False</td>\n",
       "      <td>False</td>\n",
       "      <td>True</td>\n",
       "      <td>False</td>\n",
       "      <td>False</td>\n",
       "      <td>False</td>\n",
       "      <td>False</td>\n",
       "      <td>False</td>\n",
       "      <td>False</td>\n",
       "      <td>False</td>\n",
       "      <td>False</td>\n",
       "      <td>False</td>\n",
       "      <td>False</td>\n",
       "      <td>False</td>\n",
       "      <td>False</td>\n",
       "      <td>False</td>\n",
       "      <td>True</td>\n",
       "      <td>False</td>\n",
       "      <td>False</td>\n",
       "      <td>False</td>\n",
       "      <td>False</td>\n",
       "      <td>False</td>\n",
       "      <td>False</td>\n",
       "      <td>False</td>\n",
       "      <td>False</td>\n",
       "      <td>False</td>\n",
       "      <td>False</td>\n",
       "      <td>False</td>\n",
       "      <td>False</td>\n",
       "      <td>False</td>\n",
       "      <td>False</td>\n",
       "      <td>False</td>\n",
       "    </tr>\n",
       "    <tr>\n",
       "      <th>3</th>\n",
       "      <td>176580</td>\n",
       "      <td>L. Suárez</td>\n",
       "      <td>Luis Suárez</td>\n",
       "      <td>FC Barcelona</td>\n",
       "      <td>https://cdn.sofifa.org/18/teams/241.png</td>\n",
       "      <td>2291</td>\n",
       "      <td>30</td>\n",
       "      <td>Spanish Primera División</td>\n",
       "      <td>1987-01-24</td>\n",
       "      <td>182.0</td>\n",
       "      <td>86.0</td>\n",
       "      <td>Normal</td>\n",
       "      <td>True</td>\n",
       "      <td>https://cdn.sofifa.org/flags/60@3x.png</td>\n",
       "      <td>Uruguay</td>\n",
       "      <td>https://cdn.sofifa.org/18/players/176580.png</td>\n",
       "      <td>97000000.0</td>\n",
       "      <td>510000.0</td>\n",
       "      <td>198900000.0</td>\n",
       "      <td>92</td>\n",
       "      <td>92</td>\n",
       "      <td>82</td>\n",
       "      <td>90</td>\n",
       "      <td>79</td>\n",
       "      <td>87</td>\n",
       "      <td>42</td>\n",
       "      <td>81</td>\n",
       "      <td>5</td>\n",
       "      <td>4</td>\n",
       "      <td>4</td>\n",
       "      <td>High</td>\n",
       "      <td>Medium</td>\n",
       "      <td>Right</td>\n",
       "      <td>77</td>\n",
       "      <td>94</td>\n",
       "      <td>77</td>\n",
       "      <td>83</td>\n",
       "      <td>88</td>\n",
       "      <td>86</td>\n",
       "      <td>86</td>\n",
       "      <td>84</td>\n",
       "      <td>64</td>\n",
       "      <td>91</td>\n",
       "      <td>88</td>\n",
       "      <td>77</td>\n",
       "      <td>86</td>\n",
       "      <td>93</td>\n",
       "      <td>60</td>\n",
       "      <td>87</td>\n",
       "      <td>69</td>\n",
       "      <td>89</td>\n",
       "      <td>80</td>\n",
       "      <td>86</td>\n",
       "      <td>78</td>\n",
       "      <td>41</td>\n",
       "      <td>92</td>\n",
       "      <td>84</td>\n",
       "      <td>85</td>\n",
       "      <td>83</td>\n",
       "      <td>30</td>\n",
       "      <td>45</td>\n",
       "      <td>38</td>\n",
       "      <td>27</td>\n",
       "      <td>25</td>\n",
       "      <td>31</td>\n",
       "      <td>33</td>\n",
       "      <td>37</td>\n",
       "      <td>88.0</td>\n",
       "      <td>87.0</td>\n",
       "      <td>88.0</td>\n",
       "      <td>87.0</td>\n",
       "      <td>80.0</td>\n",
       "      <td>85.0</td>\n",
       "      <td>65.0</td>\n",
       "      <td>58.0</td>\n",
       "      <td>64.0</td>\n",
       "      <td>68.0</td>\n",
       "      <td>88.0</td>\n",
       "      <td>87.0</td>\n",
       "      <td>88.0</td>\n",
       "      <td>87.0</td>\n",
       "      <td>80.0</td>\n",
       "      <td>85.0</td>\n",
       "      <td>65.0</td>\n",
       "      <td>58.0</td>\n",
       "      <td>64.0</td>\n",
       "      <td>68.0</td>\n",
       "      <td>88.0</td>\n",
       "      <td>88.0</td>\n",
       "      <td>87.0</td>\n",
       "      <td>80.0</td>\n",
       "      <td>65.0</td>\n",
       "      <td>58.0</td>\n",
       "      <td>NaN</td>\n",
       "      <td>False</td>\n",
       "      <td>False</td>\n",
       "      <td>False</td>\n",
       "      <td>False</td>\n",
       "      <td>False</td>\n",
       "      <td>False</td>\n",
       "      <td>False</td>\n",
       "      <td>False</td>\n",
       "      <td>False</td>\n",
       "      <td>False</td>\n",
       "      <td>False</td>\n",
       "      <td>True</td>\n",
       "      <td>False</td>\n",
       "      <td>False</td>\n",
       "      <td>False</td>\n",
       "      <td>False</td>\n",
       "      <td>False</td>\n",
       "      <td>False</td>\n",
       "      <td>False</td>\n",
       "      <td>False</td>\n",
       "      <td>False</td>\n",
       "      <td>False</td>\n",
       "      <td>False</td>\n",
       "      <td>False</td>\n",
       "      <td>False</td>\n",
       "      <td>False</td>\n",
       "      <td>False</td>\n",
       "      <td>False</td>\n",
       "      <td>False</td>\n",
       "      <td>False</td>\n",
       "      <td>False</td>\n",
       "      <td>False</td>\n",
       "      <td>False</td>\n",
       "      <td>False</td>\n",
       "      <td>False</td>\n",
       "      <td>False</td>\n",
       "      <td>False</td>\n",
       "      <td>False</td>\n",
       "      <td>False</td>\n",
       "      <td>False</td>\n",
       "      <td>False</td>\n",
       "      <td>False</td>\n",
       "      <td>False</td>\n",
       "      <td>False</td>\n",
       "      <td>False</td>\n",
       "      <td>False</td>\n",
       "      <td>False</td>\n",
       "      <td>False</td>\n",
       "      <td>True</td>\n",
       "      <td>True</td>\n",
       "      <td>False</td>\n",
       "      <td>False</td>\n",
       "      <td>False</td>\n",
       "      <td>False</td>\n",
       "      <td>False</td>\n",
       "      <td>False</td>\n",
       "      <td>False</td>\n",
       "      <td>False</td>\n",
       "      <td>False</td>\n",
       "      <td>False</td>\n",
       "      <td>False</td>\n",
       "      <td>True</td>\n",
       "      <td>False</td>\n",
       "      <td>True</td>\n",
       "      <td>False</td>\n",
       "      <td>False</td>\n",
       "      <td>False</td>\n",
       "      <td>False</td>\n",
       "      <td>False</td>\n",
       "      <td>False</td>\n",
       "      <td>False</td>\n",
       "      <td>False</td>\n",
       "      <td>False</td>\n",
       "      <td>False</td>\n",
       "      <td>True</td>\n",
       "      <td>False</td>\n",
       "      <td>False</td>\n",
       "      <td>False</td>\n",
       "      <td>False</td>\n",
       "      <td>False</td>\n",
       "      <td>False</td>\n",
       "      <td>False</td>\n",
       "      <td>False</td>\n",
       "      <td>False</td>\n",
       "      <td>False</td>\n",
       "      <td>False</td>\n",
       "      <td>False</td>\n",
       "      <td>False</td>\n",
       "      <td>False</td>\n",
       "      <td>False</td>\n",
       "      <td>False</td>\n",
       "    </tr>\n",
       "    <tr>\n",
       "      <th>4</th>\n",
       "      <td>167495</td>\n",
       "      <td>M. Neuer</td>\n",
       "      <td>Manuel Neuer</td>\n",
       "      <td>FC Bayern Munich</td>\n",
       "      <td>https://cdn.sofifa.org/18/teams/21.png</td>\n",
       "      <td>1493</td>\n",
       "      <td>31</td>\n",
       "      <td>German Bundesliga</td>\n",
       "      <td>1986-03-27</td>\n",
       "      <td>193.0</td>\n",
       "      <td>92.0</td>\n",
       "      <td>Normal</td>\n",
       "      <td>True</td>\n",
       "      <td>https://cdn.sofifa.org/flags/21@3x.png</td>\n",
       "      <td>Germany</td>\n",
       "      <td>https://cdn.sofifa.org/18/players/167495.png</td>\n",
       "      <td>61000000.0</td>\n",
       "      <td>230000.0</td>\n",
       "      <td>100700000.0</td>\n",
       "      <td>92</td>\n",
       "      <td>92</td>\n",
       "      <td>91</td>\n",
       "      <td>90</td>\n",
       "      <td>95</td>\n",
       "      <td>89</td>\n",
       "      <td>60</td>\n",
       "      <td>91</td>\n",
       "      <td>5</td>\n",
       "      <td>1</td>\n",
       "      <td>4</td>\n",
       "      <td>Medium</td>\n",
       "      <td>Medium</td>\n",
       "      <td>Right</td>\n",
       "      <td>15</td>\n",
       "      <td>13</td>\n",
       "      <td>25</td>\n",
       "      <td>55</td>\n",
       "      <td>11</td>\n",
       "      <td>30</td>\n",
       "      <td>14</td>\n",
       "      <td>11</td>\n",
       "      <td>59</td>\n",
       "      <td>48</td>\n",
       "      <td>58</td>\n",
       "      <td>61</td>\n",
       "      <td>52</td>\n",
       "      <td>85</td>\n",
       "      <td>35</td>\n",
       "      <td>25</td>\n",
       "      <td>78</td>\n",
       "      <td>44</td>\n",
       "      <td>83</td>\n",
       "      <td>16</td>\n",
       "      <td>29</td>\n",
       "      <td>30</td>\n",
       "      <td>12</td>\n",
       "      <td>70</td>\n",
       "      <td>47</td>\n",
       "      <td>70</td>\n",
       "      <td>10</td>\n",
       "      <td>10</td>\n",
       "      <td>11</td>\n",
       "      <td>91</td>\n",
       "      <td>90</td>\n",
       "      <td>95</td>\n",
       "      <td>91</td>\n",
       "      <td>89</td>\n",
       "      <td>NaN</td>\n",
       "      <td>NaN</td>\n",
       "      <td>NaN</td>\n",
       "      <td>NaN</td>\n",
       "      <td>NaN</td>\n",
       "      <td>NaN</td>\n",
       "      <td>NaN</td>\n",
       "      <td>NaN</td>\n",
       "      <td>NaN</td>\n",
       "      <td>NaN</td>\n",
       "      <td>NaN</td>\n",
       "      <td>NaN</td>\n",
       "      <td>NaN</td>\n",
       "      <td>NaN</td>\n",
       "      <td>NaN</td>\n",
       "      <td>NaN</td>\n",
       "      <td>NaN</td>\n",
       "      <td>NaN</td>\n",
       "      <td>NaN</td>\n",
       "      <td>NaN</td>\n",
       "      <td>NaN</td>\n",
       "      <td>NaN</td>\n",
       "      <td>NaN</td>\n",
       "      <td>NaN</td>\n",
       "      <td>NaN</td>\n",
       "      <td>NaN</td>\n",
       "      <td>92.0</td>\n",
       "      <td>True</td>\n",
       "      <td>False</td>\n",
       "      <td>False</td>\n",
       "      <td>False</td>\n",
       "      <td>False</td>\n",
       "      <td>False</td>\n",
       "      <td>False</td>\n",
       "      <td>False</td>\n",
       "      <td>False</td>\n",
       "      <td>True</td>\n",
       "      <td>False</td>\n",
       "      <td>False</td>\n",
       "      <td>False</td>\n",
       "      <td>False</td>\n",
       "      <td>False</td>\n",
       "      <td>False</td>\n",
       "      <td>False</td>\n",
       "      <td>False</td>\n",
       "      <td>False</td>\n",
       "      <td>False</td>\n",
       "      <td>False</td>\n",
       "      <td>False</td>\n",
       "      <td>True</td>\n",
       "      <td>False</td>\n",
       "      <td>False</td>\n",
       "      <td>False</td>\n",
       "      <td>False</td>\n",
       "      <td>False</td>\n",
       "      <td>False</td>\n",
       "      <td>False</td>\n",
       "      <td>False</td>\n",
       "      <td>False</td>\n",
       "      <td>False</td>\n",
       "      <td>False</td>\n",
       "      <td>False</td>\n",
       "      <td>False</td>\n",
       "      <td>False</td>\n",
       "      <td>False</td>\n",
       "      <td>True</td>\n",
       "      <td>False</td>\n",
       "      <td>False</td>\n",
       "      <td>False</td>\n",
       "      <td>False</td>\n",
       "      <td>False</td>\n",
       "      <td>False</td>\n",
       "      <td>False</td>\n",
       "      <td>False</td>\n",
       "      <td>False</td>\n",
       "      <td>False</td>\n",
       "      <td>False</td>\n",
       "      <td>False</td>\n",
       "      <td>False</td>\n",
       "      <td>False</td>\n",
       "      <td>False</td>\n",
       "      <td>False</td>\n",
       "      <td>False</td>\n",
       "      <td>False</td>\n",
       "      <td>False</td>\n",
       "      <td>False</td>\n",
       "      <td>False</td>\n",
       "      <td>False</td>\n",
       "      <td>False</td>\n",
       "      <td>False</td>\n",
       "      <td>False</td>\n",
       "      <td>False</td>\n",
       "      <td>False</td>\n",
       "      <td>False</td>\n",
       "      <td>False</td>\n",
       "      <td>False</td>\n",
       "      <td>False</td>\n",
       "      <td>False</td>\n",
       "      <td>False</td>\n",
       "      <td>False</td>\n",
       "      <td>False</td>\n",
       "      <td>False</td>\n",
       "      <td>False</td>\n",
       "      <td>False</td>\n",
       "      <td>False</td>\n",
       "      <td>False</td>\n",
       "      <td>False</td>\n",
       "      <td>False</td>\n",
       "      <td>False</td>\n",
       "      <td>False</td>\n",
       "      <td>False</td>\n",
       "      <td>False</td>\n",
       "      <td>False</td>\n",
       "      <td>False</td>\n",
       "      <td>False</td>\n",
       "      <td>False</td>\n",
       "      <td>False</td>\n",
       "      <td>True</td>\n",
       "    </tr>\n",
       "  </tbody>\n",
       "</table>\n",
       "</div>"
      ],
      "text/plain": [
       "       ID               name                     full_name  \\\n",
       "0   20801  Cristiano Ronaldo  C. Ronaldo dos Santos Aveiro   \n",
       "1  158023           L. Messi                  Lionel Messi   \n",
       "2  190871             Neymar    Neymar da Silva Santos Jr.   \n",
       "3  176580          L. Suárez                   Luis Suárez   \n",
       "4  167495           M. Neuer                  Manuel Neuer   \n",
       "\n",
       "                  club                                club_logo  special  age  \\\n",
       "0       Real Madrid CF  https://cdn.sofifa.org/18/teams/243.png     2228   32   \n",
       "1         FC Barcelona  https://cdn.sofifa.org/18/teams/241.png     2158   30   \n",
       "2  Paris Saint-Germain   https://cdn.sofifa.org/18/teams/73.png     2100   25   \n",
       "3         FC Barcelona  https://cdn.sofifa.org/18/teams/241.png     2291   30   \n",
       "4     FC Bayern Munich   https://cdn.sofifa.org/18/teams/21.png     1493   31   \n",
       "\n",
       "                     league  birth_date  height_cm  weight_kg   body_type  \\\n",
       "0  Spanish Primera División  1985-02-05      185.0       80.0  C. Ronaldo   \n",
       "1  Spanish Primera División  1987-06-24      170.0       72.0       Messi   \n",
       "2            French Ligue 1  1992-02-05      175.0       68.0      Neymar   \n",
       "3  Spanish Primera División  1987-01-24      182.0       86.0      Normal   \n",
       "4         German Bundesliga  1986-03-27      193.0       92.0      Normal   \n",
       "\n",
       "   real_face                                    flag nationality  \\\n",
       "0       True  https://cdn.sofifa.org/flags/38@3x.png    Portugal   \n",
       "1       True  https://cdn.sofifa.org/flags/52@3x.png   Argentina   \n",
       "2       True  https://cdn.sofifa.org/flags/54@3x.png      Brazil   \n",
       "3       True  https://cdn.sofifa.org/flags/60@3x.png     Uruguay   \n",
       "4       True  https://cdn.sofifa.org/flags/21@3x.png     Germany   \n",
       "\n",
       "                                          photo    eur_value  eur_wage  \\\n",
       "0   https://cdn.sofifa.org/18/players/20801.png   95500000.0  565000.0   \n",
       "1  https://cdn.sofifa.org/18/players/158023.png  105000000.0  565000.0   \n",
       "2  https://cdn.sofifa.org/18/players/190871.png  123000000.0  280000.0   \n",
       "3  https://cdn.sofifa.org/18/players/176580.png   97000000.0  510000.0   \n",
       "4  https://cdn.sofifa.org/18/players/167495.png   61000000.0  230000.0   \n",
       "\n",
       "   eur_release_clause  overall  potential  pac  sho  pas  dri  def  phy  \\\n",
       "0         195800000.0       94         94   90   93   82   90   33   80   \n",
       "1         215300000.0       93         93   89   90   86   96   26   61   \n",
       "2         236800000.0       92         94   92   84   79   95   30   60   \n",
       "3         198900000.0       92         92   82   90   79   87   42   81   \n",
       "4         100700000.0       92         92   91   90   95   89   60   91   \n",
       "\n",
       "   international_reputation  skill_moves  weak_foot work_rate_att  \\\n",
       "0                         5            5          4          High   \n",
       "1                         5            4          4        Medium   \n",
       "2                         5            5          5          High   \n",
       "3                         5            4          4          High   \n",
       "4                         5            1          4        Medium   \n",
       "\n",
       "  work_rate_def preferred_foot  crossing  finishing  heading_accuracy  \\\n",
       "0           Low          Right        85         94                88   \n",
       "1        Medium           Left        77         95                71   \n",
       "2        Medium          Right        75         89                62   \n",
       "3        Medium          Right        77         94                77   \n",
       "4        Medium          Right        15         13                25   \n",
       "\n",
       "   short_passing  volleys  dribbling  curve  free_kick_accuracy  long_passing  \\\n",
       "0             83       88         91     81                  76            77   \n",
       "1             88       85         97     89                  90            87   \n",
       "2             81       83         96     81                  84            75   \n",
       "3             83       88         86     86                  84            64   \n",
       "4             55       11         30     14                  11            59   \n",
       "\n",
       "   ball_control  acceleration  sprint_speed  agility  reactions  balance  \\\n",
       "0            93            89            91       89         96       63   \n",
       "1            95            92            87       90         95       95   \n",
       "2            95            94            90       96         88       82   \n",
       "3            91            88            77       86         93       60   \n",
       "4            48            58            61       52         85       35   \n",
       "\n",
       "   shot_power  jumping  stamina  strength  long_shots  aggression  \\\n",
       "0          94       95       92        80          92          63   \n",
       "1          85       68       73        59          88          48   \n",
       "2          80       61       78        53          77          56   \n",
       "3          87       69       89        80          86          78   \n",
       "4          25       78       44        83          16          29   \n",
       "\n",
       "   interceptions  positioning  vision  penalties  composure  marking  \\\n",
       "0             29           95      85         85         95       22   \n",
       "1             22           93      90         78         96       13   \n",
       "2             36           90      80         81         92       21   \n",
       "3             41           92      84         85         83       30   \n",
       "4             30           12      70         47         70       10   \n",
       "\n",
       "   standing_tackle  sliding_tackle  gk_diving  gk_handling  gk_kicking  \\\n",
       "0               31              23          7           11          15   \n",
       "1               28              26          6           11          15   \n",
       "2               24              33          9            9          15   \n",
       "3               45              38         27           25          31   \n",
       "4               10              11         91           90          95   \n",
       "\n",
       "   gk_positioning  gk_reflexes    rs    rw    rf   ram   rcm    rm   rdm  \\\n",
       "0              14           11  92.0  91.0  91.0  89.0  82.0  89.0  62.0   \n",
       "1              14            8  88.0  91.0  92.0  92.0  84.0  90.0  59.0   \n",
       "2              15           11  84.0  89.0  88.0  88.0  79.0  87.0  59.0   \n",
       "3              33           37  88.0  87.0  88.0  87.0  80.0  85.0  65.0   \n",
       "4              91           89   NaN   NaN   NaN   NaN   NaN   NaN   NaN   \n",
       "\n",
       "    rcb    rb   rwb    st    lw    cf   cam    cm    lm   cdm    cb    lb  \\\n",
       "0  53.0  61.0  66.0  92.0  91.0  91.0  89.0  82.0  89.0  62.0  53.0  61.0   \n",
       "1  45.0  57.0  62.0  88.0  91.0  92.0  92.0  84.0  90.0  59.0  45.0  57.0   \n",
       "2  46.0  59.0  64.0  84.0  89.0  88.0  88.0  79.0  87.0  59.0  46.0  59.0   \n",
       "3  58.0  64.0  68.0  88.0  87.0  88.0  87.0  80.0  85.0  65.0  58.0  64.0   \n",
       "4   NaN   NaN   NaN   NaN   NaN   NaN   NaN   NaN   NaN   NaN   NaN   NaN   \n",
       "\n",
       "    lwb    ls    lf   lam   lcm   ldm   lcb    gk  1_on_1_rush_trait  \\\n",
       "0  66.0  92.0  91.0  89.0  82.0  62.0  53.0   NaN              False   \n",
       "1  62.0  88.0  92.0  92.0  84.0  59.0  45.0   NaN              False   \n",
       "2  64.0  84.0  88.0  88.0  79.0  59.0  46.0   NaN              False   \n",
       "3  68.0  88.0  88.0  87.0  80.0  65.0  58.0   NaN              False   \n",
       "4   NaN   NaN   NaN   NaN   NaN   NaN   NaN  92.0               True   \n",
       "\n",
       "   acrobatic_clearance_trait  argues_with_officials_trait  \\\n",
       "0                      False                        False   \n",
       "1                      False                        False   \n",
       "2                      False                        False   \n",
       "3                      False                        False   \n",
       "4                      False                        False   \n",
       "\n",
       "   avoids_using_weaker_foot_trait  backs_into_player_trait  \\\n",
       "0                           False                    False   \n",
       "1                           False                    False   \n",
       "2                           False                    False   \n",
       "3                           False                    False   \n",
       "4                           False                    False   \n",
       "\n",
       "   bicycle_kicks_trait  cautious_with_crosses_trait  chip_shot_trait  \\\n",
       "0                False                        False            False   \n",
       "1                False                        False             True   \n",
       "2                False                        False            False   \n",
       "3                False                        False            False   \n",
       "4                False                        False            False   \n",
       "\n",
       "   chipped_penalty_trait  comes_for_crosses_trait  corner_specialist_trait  \\\n",
       "0                  False                    False                    False   \n",
       "1                  False                    False                    False   \n",
       "2                  False                    False                    False   \n",
       "3                  False                    False                    False   \n",
       "4                  False                     True                    False   \n",
       "\n",
       "   diver_trait  dives_into_tackles_trait  diving_header_trait  \\\n",
       "0        False                     False                False   \n",
       "1        False                     False                False   \n",
       "2         True                     False                False   \n",
       "3         True                     False                False   \n",
       "4        False                     False                False   \n",
       "\n",
       "   driven_pass_trait  early_crosser_trait  fan's_favourite_trait  \\\n",
       "0              False                False                  False   \n",
       "1              False                False                  False   \n",
       "2              False                False                  False   \n",
       "3              False                False                  False   \n",
       "4              False                False                  False   \n",
       "\n",
       "   fancy_flicks_trait  finesse_shot_trait  flair_trait  flair_passes_trait  \\\n",
       "0               False               False         True               False   \n",
       "1               False                True        False               False   \n",
       "2               False               False         True               False   \n",
       "3               False               False        False               False   \n",
       "4               False               False        False               False   \n",
       "\n",
       "   gk_flat_kick_trait  gk_long_throw_trait  gk_up_for_corners_trait  \\\n",
       "0               False                False                    False   \n",
       "1               False                False                    False   \n",
       "2               False                False                    False   \n",
       "3               False                False                    False   \n",
       "4               False                 True                    False   \n",
       "\n",
       "   giant_throw_in_trait  inflexible_trait  injury_free_trait  \\\n",
       "0                 False             False              False   \n",
       "1                 False             False              False   \n",
       "2                 False             False              False   \n",
       "3                 False             False              False   \n",
       "4                 False             False              False   \n",
       "\n",
       "   injury_prone_trait  leadership_trait  long_passer_trait  \\\n",
       "0               False             False              False   \n",
       "1               False             False              False   \n",
       "2               False             False              False   \n",
       "3               False             False              False   \n",
       "4               False             False              False   \n",
       "\n",
       "   long_shot_taker_trait  long_throw_in_trait  one_club_player_trait  \\\n",
       "0                   True                False                  False   \n",
       "1                   True                False                   True   \n",
       "2                  False                False                  False   \n",
       "3                  False                False                  False   \n",
       "4                  False                False                  False   \n",
       "\n",
       "   outside_foot_shot_trait  playmaker_trait  power_free_kick_trait  \\\n",
       "0                    False            False                   True   \n",
       "1                    False             True                  False   \n",
       "2                    False            False                  False   \n",
       "3                    False            False                  False   \n",
       "4                    False            False                  False   \n",
       "\n",
       "   power_header_trait  puncher_trait  rushes_out_of_goal_trait  \\\n",
       "0               False          False                     False   \n",
       "1               False          False                     False   \n",
       "2               False          False                     False   \n",
       "3               False          False                     False   \n",
       "4               False          False                      True   \n",
       "\n",
       "   saves_with_feet_trait  second_wind_trait  selfish_trait  \\\n",
       "0                  False              False          False   \n",
       "1                  False              False          False   \n",
       "2                  False              False          False   \n",
       "3                  False              False          False   \n",
       "4                  False              False          False   \n",
       "\n",
       "   skilled_dribbling_trait  stutter_penalty_trait  swerve_pass_trait  \\\n",
       "0                     True                  False              False   \n",
       "1                     True                  False              False   \n",
       "2                     True                  False              False   \n",
       "3                    False                  False              False   \n",
       "4                    False                  False              False   \n",
       "\n",
       "   takes_finesse_free_kicks_trait  target_forward_trait  team_player_trait  \\\n",
       "0                           False                 False              False   \n",
       "1                           False                 False              False   \n",
       "2                            True                 False              False   \n",
       "3                           False                 False              False   \n",
       "4                           False                 False              False   \n",
       "\n",
       "   technical_dribbler_trait  tries_to_beat_defensive_line_trait  \\\n",
       "0                     False                               False   \n",
       "1                     False                               False   \n",
       "2                      True                               False   \n",
       "3                      True                                True   \n",
       "4                     False                               False   \n",
       "\n",
       "   poacher_speciality  speedster_speciality  aerial_threat_speciality  \\\n",
       "0               False                  True                     False   \n",
       "1               False                 False                     False   \n",
       "2               False                  True                     False   \n",
       "3               False                 False                     False   \n",
       "4               False                 False                     False   \n",
       "\n",
       "   dribbler_speciality  playmaker_speciality  engine_speciality  \\\n",
       "0                 True                 False              False   \n",
       "1                 True                 False              False   \n",
       "2                 True                 False              False   \n",
       "3                False                 False              False   \n",
       "4                False                 False              False   \n",
       "\n",
       "   distance_shooter_speciality  crosser_speciality  \\\n",
       "0                         True               False   \n",
       "1                        False               False   \n",
       "2                        False               False   \n",
       "3                        False               False   \n",
       "4                        False               False   \n",
       "\n",
       "   free_kick_specialist_speciality  tackling_speciality  tactician_speciality  \\\n",
       "0                            False                False                 False   \n",
       "1                             True                False                 False   \n",
       "2                            False                False                 False   \n",
       "3                            False                False                 False   \n",
       "4                            False                False                 False   \n",
       "\n",
       "   acrobat_speciality  strength_speciality  clinical_finisher_speciality  \\\n",
       "0                True                False                          True   \n",
       "1                True                False                          True   \n",
       "2                True                False                         False   \n",
       "3                True                False                          True   \n",
       "4               False                False                         False   \n",
       "\n",
       "   prefers_rs  prefers_rw  prefers_rf  prefers_ram  prefers_rcm  prefers_rm  \\\n",
       "0       False       False       False        False        False       False   \n",
       "1       False        True       False        False        False       False   \n",
       "2       False       False       False        False        False       False   \n",
       "3       False       False       False        False        False       False   \n",
       "4       False       False       False        False        False       False   \n",
       "\n",
       "   prefers_rdm  prefers_rcb  prefers_rb  prefers_rwb  prefers_st  prefers_lw  \\\n",
       "0        False        False       False        False        True        True   \n",
       "1        False        False       False        False        True       False   \n",
       "2        False        False       False        False       False        True   \n",
       "3        False        False       False        False        True       False   \n",
       "4        False        False       False        False       False       False   \n",
       "\n",
       "   prefers_cf  prefers_cam  prefers_cm  prefers_lm  prefers_cdm  prefers_cb  \\\n",
       "0       False        False       False       False        False       False   \n",
       "1        True        False       False       False        False       False   \n",
       "2       False        False       False       False        False       False   \n",
       "3       False        False       False       False        False       False   \n",
       "4       False        False       False       False        False       False   \n",
       "\n",
       "   prefers_lb  prefers_lwb  prefers_ls  prefers_lf  prefers_lam  prefers_lcm  \\\n",
       "0       False        False       False       False        False        False   \n",
       "1       False        False       False       False        False        False   \n",
       "2       False        False       False       False        False        False   \n",
       "3       False        False       False       False        False        False   \n",
       "4       False        False       False       False        False        False   \n",
       "\n",
       "   prefers_ldm  prefers_lcb  prefers_gk  \n",
       "0        False        False       False  \n",
       "1        False        False       False  \n",
       "2        False        False       False  \n",
       "3        False        False       False  \n",
       "4        False        False        True  "
      ]
     },
     "metadata": {},
     "output_type": "display_data"
    }
   ],
   "source": [
    "with pd.option_context('display.max_rows', None, 'display.max_columns', None):\n",
    "    display(fifa.head())"
   ]
  },
  {
   "cell_type": "markdown",
   "metadata": {},
   "source": [
    "Each row represents a different player, and each player has 185 different stat fields in the dataframe. The columns contain a variety of different data types including strings, ints, and booleans. Let's examine the most common nationalities over the entire dataframe. (We also add a \"Rank\" column, in case our grouping later on changes the initial indexing.)"
   ]
  },
  {
   "cell_type": "code",
   "execution_count": 4,
   "metadata": {},
   "outputs": [
    {
     "data": {
      "text/plain": [
       "nationality\n",
       "England        1631\n",
       "Germany        1147\n",
       "Spain          1020\n",
       "France          966\n",
       "Argentina       962\n",
       "Brazil          806\n",
       "Italy           800\n",
       "Colombia        593\n",
       "Japan           471\n",
       "Netherlands     430\n",
       "Name: ID, dtype: int64"
      ]
     },
     "execution_count": 4,
     "metadata": {},
     "output_type": "execute_result"
    }
   ],
   "source": [
    "fifa['Rank']=fifa.index+1\n",
    "fifa.groupby('nationality')['ID'].count().sort_values(ascending=False).head(10)"
   ]
  },
  {
   "cell_type": "markdown",
   "metadata": {},
   "source": [
    "Let's also take a look at the 30 least common nationalities."
   ]
  },
  {
   "cell_type": "code",
   "execution_count": 5,
   "metadata": {},
   "outputs": [
    {
     "data": {
      "text/plain": [
       "nationality\n",
       "New Caledonia          2\n",
       "Kuwait                 2\n",
       "Namibia                2\n",
       "Cuba                   2\n",
       "Ethiopia               2\n",
       "Mauritania             2\n",
       "Libya                  2\n",
       "Gibraltar              2\n",
       "Liberia                2\n",
       "El Salvador            2\n",
       "Oman                   1\n",
       "São Tomé & Príncipe    1\n",
       "Kyrgyzstan             1\n",
       "Hong Kong              1\n",
       "Turkmenistan           1\n",
       "Barbados               1\n",
       "Guatemala              1\n",
       "Vietnam                1\n",
       "Fiji                   1\n",
       "Eritrea                1\n",
       "Swaziland              1\n",
       "Belize                 1\n",
       "Guam                   1\n",
       "St Lucia               1\n",
       "Sri Lanka              1\n",
       "Somalia                1\n",
       "San Marino             1\n",
       "Burundi                1\n",
       "Mauritius              1\n",
       "Grenada                1\n",
       "Name: ID, dtype: int64"
      ]
     },
     "execution_count": 5,
     "metadata": {},
     "output_type": "execute_result"
    }
   ],
   "source": [
    "fifa.groupby('nationality')['ID'].count().sort_values(ascending=False).tail(30)"
   ]
  },
  {
   "cell_type": "markdown",
   "metadata": {},
   "source": [
    "In later explorations, for statistical significance, we will filter out countries that have very few players.\n",
    "\n",
    "Instead of just looking at the raw number of players from each country, let's see how many players from each country have an overall FIFA rating of 80 or above. (80 is a very high score; these players are ranked as the top 524 players in the world)."
   ]
  },
  {
   "cell_type": "code",
   "execution_count": 6,
   "metadata": {},
   "outputs": [
    {
     "data": {
      "text/plain": [
       "nationality\n",
       "Spain        80\n",
       "Germany      48\n",
       "Brazil       48\n",
       "France       47\n",
       "Italy        37\n",
       "England      33\n",
       "Argentina    31\n",
       "Portugal     21\n",
       "Belgium      19\n",
       "Croatia      13\n",
       "Name: ID, dtype: int64"
      ]
     },
     "execution_count": 6,
     "metadata": {},
     "output_type": "execute_result"
    }
   ],
   "source": [
    "fifa[fifa.overall>=80].groupby('nationality')['ID'].count().sort_values(ascending=False).head(10)"
   ]
  },
  {
   "cell_type": "markdown",
   "metadata": {},
   "source": [
    "Comparing this filtered player count to the raw player count, we see that Spain vastly outperforms expectations in terms of great players with 80 players out of 1020 with an overall ranking 80 or higher. On the other hand, England seems to be underperforming with only 33 players out of 1631 meeting the same ranking requirement. Let's compare the distribution of the overall ratings."
   ]
  },
  {
   "cell_type": "code",
   "execution_count": 7,
   "metadata": {},
   "outputs": [
    {
     "data": {
      "text/plain": [
       "Text(0,0.5,'Probability Density')"
      ]
     },
     "execution_count": 7,
     "metadata": {},
     "output_type": "execute_result"
    },
    {
     "data": {
      "image/png": "[encoded data removed]",
      "text/plain": [
       "<matplotlib.figure.Figure at 0x29e6292a470>"
      ]
     },
     "metadata": {},
     "output_type": "display_data"
    }
   ],
   "source": [
    "sns.kdeplot(fifa[fifa.nationality=='Spain']['overall'], label='Spain', shade=True)\n",
    "sns.kdeplot(fifa[fifa.nationality=='England']['overall'], label='England', shade=True)\n",
    "plt.xlabel('Overall Rating')\n",
    "plt.ylabel('Probability Density')"
   ]
  },
  {
   "cell_type": "markdown",
   "metadata": {},
   "source": [
    "This PDF comparison is illuminating, showing how many more elite-level players Spain has as compared to England.\n",
    "\n",
    "# Positions <a name=\"positions\"></a>\n",
    "Let's shift our focus towards positions. At the very basic level, soccer positions can be split into Goalkeepers, Defenders, Midfielders, and Forwards. At a more detailed level, there are more nuanced positions and roles such as the False 9, Poacher, No. 10, etc. Let's choose to take a middling approach and categorize the positions into\n",
    "\n",
    "* GK\n",
    "* Center-back\n",
    "* Outside-back\n",
    "* Center-mid\n",
    "* Outside-mid\n",
    "* Forward\n",
    "\n",
    "The dataframe includes columns indicating which (highly specific) position the player prefers to play. Let's write some code to perform our categorization."
   ]
  },
  {
   "cell_type": "code",
   "execution_count": 8,
   "metadata": {
    "collapsed": true
   },
   "outputs": [],
   "source": [
    "fifa['Position']= np.nan\n",
    "\n",
    "fifa.loc[fifa.prefers_lm == True, ['Position']] = 'Outside-mid'\n",
    "fifa.loc[fifa.prefers_rm == True, ['Position']] = 'Outside-mid'\n",
    "fifa.loc[fifa.prefers_lw == True, ['Position']] = 'Outside-mid'\n",
    "fifa.loc[fifa.prefers_rw == True, ['Position']] = 'Outside-mid'\n",
    "fifa.loc[fifa.prefers_cam == True, ['Position']] = 'Center-mid'\n",
    "fifa.loc[fifa.prefers_cm == True, ['Position']] = 'Center-mid'\n",
    "fifa.loc[fifa.prefers_cdm == True, ['Position']] = 'Center-mid'\n",
    "fifa.loc[fifa.prefers_rb == True, ['Position']] = 'Outside-back'\n",
    "fifa.loc[fifa.prefers_lb == True, ['Position']] = 'Outside-back'\n",
    "fifa.loc[fifa.prefers_cb == True, ['Position']] = 'Center-back'\n",
    "fifa.loc[fifa.prefers_st == True, ['Position']] = 'Forward'\n",
    "fifa.loc[fifa.prefers_cf == True, ['Position']] = 'Forward'\n",
    "fifa.loc[fifa.prefers_gk == True, ['Position']] = 'GK'\n",
    "\n",
    "pos_order = ['GK', 'Center-back', 'Outside-back', 'Center-mid', 'Outside-mid', 'Forward']"
   ]
  },
  {
   "cell_type": "markdown",
   "metadata": {},
   "source": [
    "I wonder if any countries excel at producing world-class soccer players for specific positions. Let's take a look at the top 50 players per position, counting the number from each country."
   ]
  },
  {
   "cell_type": "code",
   "execution_count": 9,
   "metadata": {},
   "outputs": [
    {
     "data": {
      "text/plain": [
       "nationality\n",
       "Spain      8\n",
       "Germany    7\n",
       "France     5\n",
       "Italy      5\n",
       "England    3\n",
       "Name: ID, dtype: int64"
      ]
     },
     "execution_count": 9,
     "metadata": {},
     "output_type": "execute_result"
    }
   ],
   "source": [
    "top_gk = fifa[fifa.Position=='GK'].head(50)\n",
    "top_gk.groupby('nationality')['ID'].count().sort_values(ascending=False).head(5)"
   ]
  },
  {
   "cell_type": "code",
   "execution_count": 10,
   "metadata": {},
   "outputs": [
    {
     "data": {
      "text/plain": [
       "nationality\n",
       "Germany      7\n",
       "Spain        5\n",
       "Brazil       5\n",
       "France       5\n",
       "Argentina    4\n",
       "Name: ID, dtype: int64"
      ]
     },
     "execution_count": 10,
     "metadata": {},
     "output_type": "execute_result"
    }
   ],
   "source": [
    "top_cb = fifa[fifa.Position=='Center-back'].head(50)\n",
    "top_cb.groupby('nationality')['ID'].count().sort_values(ascending=False).head(5)"
   ]
  },
  {
   "cell_type": "code",
   "execution_count": 11,
   "metadata": {},
   "outputs": [
    {
     "data": {
      "text/plain": [
       "nationality\n",
       "Spain       10\n",
       "England      7\n",
       "Brazil       6\n",
       "Portugal     5\n",
       "Germany      4\n",
       "Name: ID, dtype: int64"
      ]
     },
     "execution_count": 11,
     "metadata": {},
     "output_type": "execute_result"
    }
   ],
   "source": [
    "top_def = fifa[fifa.Position=='Outside-back'].head(50)\n",
    "top_def.groupby('nationality')['ID'].count().sort_values(ascending=False).head(5)"
   ]
  },
  {
   "cell_type": "code",
   "execution_count": 12,
   "metadata": {},
   "outputs": [
    {
     "data": {
      "text/plain": [
       "nationality\n",
       "Spain      12\n",
       "Germany     6\n",
       "Brazil      5\n",
       "France      4\n",
       "Croatia     3\n",
       "Name: ID, dtype: int64"
      ]
     },
     "execution_count": 12,
     "metadata": {},
     "output_type": "execute_result"
    }
   ],
   "source": [
    "top_cm = fifa[fifa.Position=='Center-mid'].head(50)\n",
    "top_cm.groupby('nationality')['ID'].count().sort_values(ascending=False).head(5)"
   ]
  },
  {
   "cell_type": "code",
   "execution_count": 13,
   "metadata": {},
   "outputs": [
    {
     "data": {
      "text/plain": [
       "nationality\n",
       "Spain       9\n",
       "Brazil      5\n",
       "Portugal    4\n",
       "France      4\n",
       "Italy       3\n",
       "Name: ID, dtype: int64"
      ]
     },
     "execution_count": 13,
     "metadata": {},
     "output_type": "execute_result"
    }
   ],
   "source": [
    "top_om = fifa[fifa.Position=='Outside-mid'].head(50)\n",
    "top_om.groupby('nationality')['ID'].count().sort_values(ascending=False).head(5)"
   ]
  },
  {
   "cell_type": "code",
   "execution_count": 14,
   "metadata": {},
   "outputs": [
    {
     "data": {
      "text/plain": [
       "nationality\n",
       "Argentina    6\n",
       "Italy        6\n",
       "France       6\n",
       "Spain        5\n",
       "Germany      4\n",
       "Name: ID, dtype: int64"
      ]
     },
     "execution_count": 14,
     "metadata": {},
     "output_type": "execute_result"
    }
   ],
   "source": [
    "top_for = fifa[fifa.Position=='Forward'].head(50)\n",
    "top_for.groupby('nationality')['ID'].count().sort_values(ascending=False).head(5)"
   ]
  },
  {
   "cell_type": "markdown",
   "metadata": {},
   "source": [
    "We see that Spain tops 4 out of the 6 lists. The most impressive figure here is surely the fact that 12 of the top 50 center midfielders (including attacking and defensive) are Spanish. Let's take a look to see who they are. Soccer fans will recognize these names as some of the best in the world."
   ]
  },
  {
   "cell_type": "code",
   "execution_count": 15,
   "metadata": {},
   "outputs": [
    {
     "data": {
      "text/html": [
       "<div>\n",
       "<style>\n",
       "    .dataframe thead tr:only-child th {\n",
       "        text-align: right;\n",
       "    }\n",
       "\n",
       "    .dataframe thead th {\n",
       "        text-align: left;\n",
       "    }\n",
       "\n",
       "    .dataframe tbody tr th {\n",
       "        vertical-align: top;\n",
       "    }\n",
       "</style>\n",
       "<table border=\"1\" class=\"dataframe\">\n",
       "  <thead>\n",
       "    <tr style=\"text-align: right;\">\n",
       "      <th></th>\n",
       "      <th>name</th>\n",
       "      <th>overall</th>\n",
       "      <th>club</th>\n",
       "      <th>league</th>\n",
       "      <th>nationality</th>\n",
       "    </tr>\n",
       "  </thead>\n",
       "  <tbody>\n",
       "    <tr>\n",
       "      <th>22</th>\n",
       "      <td>Thiago</td>\n",
       "      <td>88</td>\n",
       "      <td>FC Bayern Munich</td>\n",
       "      <td>German Bundesliga</td>\n",
       "      <td>Spain</td>\n",
       "    </tr>\n",
       "    <tr>\n",
       "      <th>42</th>\n",
       "      <td>David Silva</td>\n",
       "      <td>87</td>\n",
       "      <td>Manchester City</td>\n",
       "      <td>English Premier League</td>\n",
       "      <td>Spain</td>\n",
       "    </tr>\n",
       "    <tr>\n",
       "      <th>45</th>\n",
       "      <td>Iniesta</td>\n",
       "      <td>87</td>\n",
       "      <td>FC Barcelona</td>\n",
       "      <td>Spanish Primera División</td>\n",
       "      <td>Spain</td>\n",
       "    </tr>\n",
       "    <tr>\n",
       "      <th>48</th>\n",
       "      <td>Isco</td>\n",
       "      <td>86</td>\n",
       "      <td>Real Madrid CF</td>\n",
       "      <td>Spanish Primera División</td>\n",
       "      <td>Spain</td>\n",
       "    </tr>\n",
       "    <tr>\n",
       "      <th>53</th>\n",
       "      <td>Sergio Busquets</td>\n",
       "      <td>86</td>\n",
       "      <td>FC Barcelona</td>\n",
       "      <td>Spanish Primera División</td>\n",
       "      <td>Spain</td>\n",
       "    </tr>\n",
       "    <tr>\n",
       "      <th>65</th>\n",
       "      <td>Cesc Fàbregas</td>\n",
       "      <td>86</td>\n",
       "      <td>Chelsea</td>\n",
       "      <td>English Premier League</td>\n",
       "      <td>Spain</td>\n",
       "    </tr>\n",
       "    <tr>\n",
       "      <th>74</th>\n",
       "      <td>Koke</td>\n",
       "      <td>85</td>\n",
       "      <td>Atlético Madrid</td>\n",
       "      <td>Spanish Primera División</td>\n",
       "      <td>Spain</td>\n",
       "    </tr>\n",
       "    <tr>\n",
       "      <th>95</th>\n",
       "      <td>Marco Asensio</td>\n",
       "      <td>84</td>\n",
       "      <td>Real Madrid CF</td>\n",
       "      <td>Spanish Primera División</td>\n",
       "      <td>Spain</td>\n",
       "    </tr>\n",
       "    <tr>\n",
       "      <th>107</th>\n",
       "      <td>Ander Herrera</td>\n",
       "      <td>84</td>\n",
       "      <td>Manchester United</td>\n",
       "      <td>English Premier League</td>\n",
       "      <td>Spain</td>\n",
       "    </tr>\n",
       "    <tr>\n",
       "      <th>112</th>\n",
       "      <td>Bruno</td>\n",
       "      <td>84</td>\n",
       "      <td>Villarreal CF</td>\n",
       "      <td>Spanish Primera División</td>\n",
       "      <td>Spain</td>\n",
       "    </tr>\n",
       "    <tr>\n",
       "      <th>119</th>\n",
       "      <td>Juan Mata</td>\n",
       "      <td>84</td>\n",
       "      <td>Manchester United</td>\n",
       "      <td>English Premier League</td>\n",
       "      <td>Spain</td>\n",
       "    </tr>\n",
       "    <tr>\n",
       "      <th>158</th>\n",
       "      <td>Parejo</td>\n",
       "      <td>83</td>\n",
       "      <td>Valencia CF</td>\n",
       "      <td>Spanish Primera División</td>\n",
       "      <td>Spain</td>\n",
       "    </tr>\n",
       "  </tbody>\n",
       "</table>\n",
       "</div>"
      ],
      "text/plain": [
       "                name  overall               club                    league  \\\n",
       "22            Thiago       88   FC Bayern Munich         German Bundesliga   \n",
       "42       David Silva       87    Manchester City    English Premier League   \n",
       "45           Iniesta       87       FC Barcelona  Spanish Primera División   \n",
       "48              Isco       86     Real Madrid CF  Spanish Primera División   \n",
       "53   Sergio Busquets       86       FC Barcelona  Spanish Primera División   \n",
       "65     Cesc Fàbregas       86            Chelsea    English Premier League   \n",
       "74              Koke       85    Atlético Madrid  Spanish Primera División   \n",
       "95     Marco Asensio       84     Real Madrid CF  Spanish Primera División   \n",
       "107    Ander Herrera       84  Manchester United    English Premier League   \n",
       "112            Bruno       84      Villarreal CF  Spanish Primera División   \n",
       "119        Juan Mata       84  Manchester United    English Premier League   \n",
       "158           Parejo       83        Valencia CF  Spanish Primera División   \n",
       "\n",
       "    nationality  \n",
       "22        Spain  \n",
       "42        Spain  \n",
       "45        Spain  \n",
       "48        Spain  \n",
       "53        Spain  \n",
       "65        Spain  \n",
       "74        Spain  \n",
       "95        Spain  \n",
       "107       Spain  \n",
       "112       Spain  \n",
       "119       Spain  \n",
       "158       Spain  "
      ]
     },
     "execution_count": 15,
     "metadata": {},
     "output_type": "execute_result"
    }
   ],
   "source": [
    "key_attr = ['name', 'overall', 'club', 'league', 'nationality']\n",
    "top_cm[top_cm.nationality=='Spain'][key_attr]"
   ]
  },
  {
   "cell_type": "markdown",
   "metadata": {},
   "source": [
    "# Height and Weight <a name=\"height\"></a>\n",
    "At the professional level, soccer players must be in peak physical shape to be competitive. However, players come in all shapes and sizes. Let's take a look at a KDE plot with height on the x_axis and weight on the y_axis. Also, the marginal distributions are included outside the plot."
   ]
  },
  {
   "cell_type": "code",
   "execution_count": 16,
   "metadata": {},
   "outputs": [
    {
     "data": {
      "text/plain": [
       "<seaborn.axisgrid.JointGrid at 0x29e62c23588>"
      ]
     },
     "execution_count": 16,
     "metadata": {},
     "output_type": "execute_result"
    },
    {
     "data": {
      "image/png": "[encoded data removed]",
      "text/plain": [
       "<matplotlib.figure.Figure at 0x29e62c231d0>"
      ]
     },
     "metadata": {},
     "output_type": "display_data"
    }
   ],
   "source": [
    "sns.jointplot(x='height_cm', y='weight_kg', data=fifa, kind=\"kde\")"
   ]
  },
  {
   "cell_type": "markdown",
   "metadata": {},
   "source": [
    "Let's take a quick glance at the statistics for the height and weight metrics."
   ]
  },
  {
   "cell_type": "code",
   "execution_count": 17,
   "metadata": {},
   "outputs": [
    {
     "data": {
      "text/plain": [
       "count    17994.000000\n",
       "mean       181.271980\n",
       "std          6.690392\n",
       "min        155.000000\n",
       "25%        177.000000\n",
       "50%        181.000000\n",
       "75%        186.000000\n",
       "max        205.000000\n",
       "Name: height_cm, dtype: float64"
      ]
     },
     "execution_count": 17,
     "metadata": {},
     "output_type": "execute_result"
    }
   ],
   "source": [
    "fifa.height_cm.describe()"
   ]
  },
  {
   "cell_type": "code",
   "execution_count": 18,
   "metadata": {},
   "outputs": [
    {
     "data": {
      "text/plain": [
       "count    17994.000000\n",
       "mean        75.400856\n",
       "std          6.994824\n",
       "min         49.000000\n",
       "25%         70.000000\n",
       "50%         75.000000\n",
       "75%         80.000000\n",
       "max        110.000000\n",
       "Name: weight_kg, dtype: float64"
      ]
     },
     "execution_count": 18,
     "metadata": {},
     "output_type": "execute_result"
    }
   ],
   "source": [
    "fifa.weight_kg.describe()"
   ]
  },
  {
   "cell_type": "markdown",
   "metadata": {},
   "source": [
    "Converting to imperial units, we see that the average height is 5'11.4\" (min: 5'1\", max: 6'8.7\"), and the average weight is 166.2 lbs (min: 108 lbs, max: 242.5 lbs).\n",
    "\n",
    "Let's see if there are any countries that produce significantly taller or shorter players than other countries. We first filter out any countries that contain fewer than 50 players in the dataframe. Then, we find the countries with the tallest and shortest average heights for their players.\n"
   ]
  },
  {
   "cell_type": "code",
   "execution_count": 19,
   "metadata": {},
   "outputs": [
    {
     "data": {
      "text/plain": [
       "nationality\n",
       "Bosnia Herzegovina    185.625000\n",
       "Serbia                184.736842\n",
       "Czech Republic        184.698630\n",
       "Croatia               184.373832\n",
       "Senegal               183.952381\n",
       "Name: height_cm, dtype: float64"
      ]
     },
     "execution_count": 19,
     "metadata": {},
     "output_type": "execute_result"
    }
   ],
   "source": [
    "fifa_sig = fifa.groupby('nationality')\n",
    "fifa_sig = fifa_sig.filter(lambda x:x['nationality'].count()>=50)\n",
    "fifa_sig.groupby('nationality')['height_cm'].mean().sort_values(ascending=False).head(5)"
   ]
  },
  {
   "cell_type": "code",
   "execution_count": 20,
   "metadata": {},
   "outputs": [
    {
     "data": {
      "text/plain": [
       "nationality\n",
       "Saudi Arabia    175.654434\n",
       "South Africa    176.387500\n",
       "Mexico          176.980609\n",
       "Japan           177.794055\n",
       "Ghana           178.280702\n",
       "Name: height_cm, dtype: float64"
      ]
     },
     "execution_count": 20,
     "metadata": {},
     "output_type": "execute_result"
    }
   ],
   "source": [
    "fifa_sig.groupby('nationality')['height_cm'].mean().sort_values(ascending=False).head(5)\n",
    "fifa_sig.groupby('nationality')['height_cm'].mean().sort_values().head(5)"
   ]
  },
  {
   "cell_type": "markdown",
   "metadata": {},
   "source": [
    "Let's create a KDE plot comparing the heights and weights of the two countries at the extremes."
   ]
  },
  {
   "cell_type": "code",
   "execution_count": 21,
   "metadata": {},
   "outputs": [
    {
     "data": {
      "text/plain": [
       "<matplotlib.axes._subplots.AxesSubplot at 0x29e635b2390>"
      ]
     },
     "execution_count": 21,
     "metadata": {},
     "output_type": "execute_result"
    },
    {
     "data": {
      "image/png": "[encoded data removed]",
      "text/plain": [
       "<matplotlib.figure.Figure at 0x29e635c8438>"
      ]
     },
     "metadata": {},
     "output_type": "display_data"
    }
   ],
   "source": [
    "bosnia=fifa[fifa.nationality=='Bosnia Herzegovina']\n",
    "saudi=fifa[fifa.nationality=='Saudi Arabia']\n",
    "sns.kdeplot(bosnia.height_cm, bosnia.weight_kg, cmap='Reds')\n",
    "sns.kdeplot(saudi.height_cm, saudi.weight_kg, cmap='Blues')"
   ]
  },
  {
   "cell_type": "markdown",
   "metadata": {},
   "source": [
    "The plots clearly shows that players from Bosnia Herzegovina tend to be significantly taller and heavier than the players from Saudi Arabia. This agrees with various lists of [average human height worldwide](https://en.wikipedia.org/wiki/List_of_average_human_height_worldwide), all of which list Bosnia Herzegovina either first or second in terms of average height (and Saudi Arabia near the bottom).\n",
    "\n",
    "Let's shift our attention to the body composition per position. We use a boxplot; the box itself contains the interquartile range (IQR), i.e., from 25% to 75%. The whiskers extend above and below the box, each with a length of $1.5*IQR$. Outside of the whiskers, the outliers are included as marks. The notch in the box displays the median of the data."
   ]
  },
  {
   "cell_type": "code",
   "execution_count": 22,
   "metadata": {},
   "outputs": [
    {
     "data": {
      "text/plain": [
       "<matplotlib.axes._subplots.AxesSubplot at 0x29e639911d0>"
      ]
     },
     "execution_count": 22,
     "metadata": {},
     "output_type": "execute_result"
    },
    {
     "data": {
      "image/png": "[encoded data removed]",
      "text/plain": [
       "<matplotlib.figure.Figure at 0x29e6292a2e8>"
      ]
     },
     "metadata": {},
     "output_type": "display_data"
    }
   ],
   "source": [
    "sns.boxplot(x='Position', y='height_cm', data=fifa, order=pos_order)"
   ]
  },
  {
   "cell_type": "markdown",
   "metadata": {},
   "source": [
    "Wow, there are a few notable things to point out.\n",
    "\n",
    "* The goalkeepers are tallest, which is to be expected since there is a high correlation between height and wingspan.\n",
    "* The IQR of the center-backs and the outside-backs do not even overlap! This makes sense and highlights why we separated the two defender positions. Center-backs tend to be tall so that they can win headers in and around the 18-yard box. Outside-backs need to man-mark speedy forwards, and thus tend to be smaller in stature.\n",
    "* The outside-mids are the shortest on average. They need to be able to fly down the wings at incredible speeds to deliver crosses to the trailing forwards.\n",
    "\n",
    "It appears that forwards have the most spread out height distribution. Let's glance at the violin plot for further details."
   ]
  },
  {
   "cell_type": "code",
   "execution_count": 23,
   "metadata": {},
   "outputs": [
    {
     "data": {
      "text/plain": [
       "<matplotlib.axes._subplots.AxesSubplot at 0x29e644576d8>"
      ]
     },
     "execution_count": 23,
     "metadata": {},
     "output_type": "execute_result"
    },
    {
     "data": {
      "image/png": "[encoded data removed]",
      "text/plain": [
       "<matplotlib.figure.Figure at 0x29e62fb1d30>"
      ]
     },
     "metadata": {},
     "output_type": "display_data"
    }
   ],
   "source": [
    "sns.violinplot(x='Position', y='height_cm', data=fifa, order=pos_order)"
   ]
  },
  {
   "cell_type": "markdown",
   "metadata": {},
   "source": [
    "Yes, it is clear that the forwards are the most spread out in terms of height. For numerical data, we can turn to the standard deviation."
   ]
  },
  {
   "cell_type": "code",
   "execution_count": 24,
   "metadata": {},
   "outputs": [
    {
     "data": {
      "text/plain": [
       "Position\n",
       "Center-back     4.766720\n",
       "Center-mid      5.793662\n",
       "Forward         6.515699\n",
       "GK              4.604998\n",
       "Outside-back    5.088083\n",
       "Outside-mid     5.319471\n",
       "Name: height_cm, dtype: float64"
      ]
     },
     "execution_count": 24,
     "metadata": {},
     "output_type": "execute_result"
    }
   ],
   "source": [
    "fifa.groupby('Position')['height_cm'].std()"
   ]
  },
  {
   "cell_type": "markdown",
   "metadata": {},
   "source": [
    "Let's calculate the linear correlation between height and weight per position."
   ]
  },
  {
   "cell_type": "code",
   "execution_count": 25,
   "metadata": {},
   "outputs": [
    {
     "data": {
      "text/html": [
       "<div>\n",
       "<style>\n",
       "    .dataframe thead tr:only-child th {\n",
       "        text-align: right;\n",
       "    }\n",
       "\n",
       "    .dataframe thead th {\n",
       "        text-align: left;\n",
       "    }\n",
       "\n",
       "    .dataframe tbody tr th {\n",
       "        vertical-align: top;\n",
       "    }\n",
       "</style>\n",
       "<table border=\"1\" class=\"dataframe\">\n",
       "  <thead>\n",
       "    <tr style=\"text-align: right;\">\n",
       "      <th></th>\n",
       "      <th></th>\n",
       "      <th>height_cm</th>\n",
       "      <th>weight_kg</th>\n",
       "    </tr>\n",
       "    <tr>\n",
       "      <th>Position</th>\n",
       "      <th></th>\n",
       "      <th></th>\n",
       "      <th></th>\n",
       "    </tr>\n",
       "  </thead>\n",
       "  <tbody>\n",
       "    <tr>\n",
       "      <th rowspan=\"2\" valign=\"top\">Center-back</th>\n",
       "      <th>height_cm</th>\n",
       "      <td>1.000000</td>\n",
       "      <td>0.625164</td>\n",
       "    </tr>\n",
       "    <tr>\n",
       "      <th>weight_kg</th>\n",
       "      <td>0.625164</td>\n",
       "      <td>1.000000</td>\n",
       "    </tr>\n",
       "    <tr>\n",
       "      <th rowspan=\"2\" valign=\"top\">Center-mid</th>\n",
       "      <th>height_cm</th>\n",
       "      <td>1.000000</td>\n",
       "      <td>0.700717</td>\n",
       "    </tr>\n",
       "    <tr>\n",
       "      <th>weight_kg</th>\n",
       "      <td>0.700717</td>\n",
       "      <td>1.000000</td>\n",
       "    </tr>\n",
       "    <tr>\n",
       "      <th rowspan=\"2\" valign=\"top\">Forward</th>\n",
       "      <th>height_cm</th>\n",
       "      <td>1.000000</td>\n",
       "      <td>0.731472</td>\n",
       "    </tr>\n",
       "    <tr>\n",
       "      <th>weight_kg</th>\n",
       "      <td>0.731472</td>\n",
       "      <td>1.000000</td>\n",
       "    </tr>\n",
       "    <tr>\n",
       "      <th rowspan=\"2\" valign=\"top\">GK</th>\n",
       "      <th>height_cm</th>\n",
       "      <td>1.000000</td>\n",
       "      <td>0.587178</td>\n",
       "    </tr>\n",
       "    <tr>\n",
       "      <th>weight_kg</th>\n",
       "      <td>0.587178</td>\n",
       "      <td>1.000000</td>\n",
       "    </tr>\n",
       "    <tr>\n",
       "      <th rowspan=\"2\" valign=\"top\">Outside-back</th>\n",
       "      <th>height_cm</th>\n",
       "      <td>1.000000</td>\n",
       "      <td>0.633062</td>\n",
       "    </tr>\n",
       "    <tr>\n",
       "      <th>weight_kg</th>\n",
       "      <td>0.633062</td>\n",
       "      <td>1.000000</td>\n",
       "    </tr>\n",
       "    <tr>\n",
       "      <th rowspan=\"2\" valign=\"top\">Outside-mid</th>\n",
       "      <th>height_cm</th>\n",
       "      <td>1.000000</td>\n",
       "      <td>0.665286</td>\n",
       "    </tr>\n",
       "    <tr>\n",
       "      <th>weight_kg</th>\n",
       "      <td>0.665286</td>\n",
       "      <td>1.000000</td>\n",
       "    </tr>\n",
       "  </tbody>\n",
       "</table>\n",
       "</div>"
      ],
      "text/plain": [
       "                        height_cm  weight_kg\n",
       "Position                                    \n",
       "Center-back  height_cm   1.000000   0.625164\n",
       "             weight_kg   0.625164   1.000000\n",
       "Center-mid   height_cm   1.000000   0.700717\n",
       "             weight_kg   0.700717   1.000000\n",
       "Forward      height_cm   1.000000   0.731472\n",
       "             weight_kg   0.731472   1.000000\n",
       "GK           height_cm   1.000000   0.587178\n",
       "             weight_kg   0.587178   1.000000\n",
       "Outside-back height_cm   1.000000   0.633062\n",
       "             weight_kg   0.633062   1.000000\n",
       "Outside-mid  height_cm   1.000000   0.665286\n",
       "             weight_kg   0.665286   1.000000"
      ]
     },
     "execution_count": 25,
     "metadata": {},
     "output_type": "execute_result"
    }
   ],
   "source": [
    "fifa.groupby('Position')[['height_cm', 'weight_kg']].corr()"
   ]
  },
  {
   "cell_type": "markdown",
   "metadata": {},
   "source": [
    "The position with the lowest correlation between height and weight is goalkeeper. Since goalkeepers aren't required to run miles on end during the game, they can come in a variety of shapes and sizes. While some goalkeepers are extremely tall and lanky, others are short and stout (with unusually long arms)."
   ]
  },
  {
   "cell_type": "markdown",
   "metadata": {},
   "source": [
    "# Top 5 Leagues <a name=\"leagues\"></a>\n",
    "\n",
    "It is widely acknowledged that the top 5 leagues in the world are the\n",
    "* Spanish Primera División\n",
    "* English Premier League\n",
    "* Italian Serie A\n",
    "* German Bundesliga\n",
    "* French Ligue 1.\n",
    "\n",
    "While the exact order is up for debate, I will keep them in this order, as per the [current UEFA coefficients](https://www.uefa.com/memberassociations/uefarankings/country/).\n",
    " To begin with, let's take a look at the average overall score per player per league."
   ]
  },
  {
   "cell_type": "code",
   "execution_count": 26,
   "metadata": {},
   "outputs": [
    {
     "data": {
      "text/plain": [
       "league\n",
       "English Premier League      72.409786\n",
       "French Ligue 1              70.453177\n",
       "German Bundesliga           72.428305\n",
       "Italian Serie A             72.588551\n",
       "Spanish Primera División    73.686047\n",
       "Name: overall, dtype: float64"
      ]
     },
     "execution_count": 26,
     "metadata": {},
     "output_type": "execute_result"
    }
   ],
   "source": [
    "leagues=['Spanish Primera División', 'English Premier League', 'Italian Serie A', 'German Bundesliga', 'French Ligue 1']\n",
    "fifa_sub = fifa.loc[fifa.league.isin(leagues)]\n",
    "fifa_sub.groupby('league')['overall'].mean()"
   ]
  },
  {
   "cell_type": "markdown",
   "metadata": {},
   "source": [
    "It seems that the Spanish league has the highest average quality of players and that the French league is far behind the other 4. Let's look at a strip plot, conditioned on position, to get a better sense of things."
   ]
  },
  {
   "cell_type": "code",
   "execution_count": 27,
   "metadata": {},
   "outputs": [
    {
     "data": {
      "text/plain": [
       "<matplotlib.legend.Legend at 0x29e646b2b70>"
      ]
     },
     "execution_count": 27,
     "metadata": {},
     "output_type": "execute_result"
    },
    {
     "data": {
      "image/png": "[encoded data removed]",
      "text/plain": [
       "<matplotlib.figure.Figure at 0x29e644e7668>"
      ]
     },
     "metadata": {},
     "output_type": "display_data"
    }
   ],
   "source": [
    "_ = sns.stripplot(x='league', y='overall', hue='Position', data=fifa_sub, dodge=0.6, jitter=True, alpha=.5, order=leagues, hue_order=pos_order)\n",
    "loc, labels = plt.xticks()\n",
    "_.set_xticklabels(labels, rotation=45)\n",
    "plt.legend(bbox_to_anchor=(1.04,1), loc=\"upper left\")"
   ]
  },
  {
   "cell_type": "markdown",
   "metadata": {},
   "source": [
    "It's tough to glean insight from this plot due to the sheer number of points. A boxplot will be more useful."
   ]
  },
  {
   "cell_type": "code",
   "execution_count": 28,
   "metadata": {},
   "outputs": [
    {
     "data": {
      "text/plain": [
       "<matplotlib.legend.Legend at 0x29e646b65c0>"
      ]
     },
     "execution_count": 28,
     "metadata": {},
     "output_type": "execute_result"
    },
    {
     "data": {
      "image/png": "[encoded data removed]",
      "text/plain": [
       "<matplotlib.figure.Figure at 0x29e646648d0>"
      ]
     },
     "metadata": {},
     "output_type": "display_data"
    }
   ],
   "source": [
    "_=sns.boxplot(x='league', y='overall', hue='Position', data=fifa_sub, order=leagues, hue_order=pos_order)\n",
    "loc, labels = plt.xticks()\n",
    "_.set_xticklabels(labels, rotation=45)\n",
    "plt.legend(bbox_to_anchor=(1.04,1), loc=\"upper left\")"
   ]
  },
  {
   "cell_type": "markdown",
   "metadata": {},
   "source": [
    "It is clear that the Spanish teams have a higher lower-floor, i.e., their teams have much greater depth from the bench. While the English league seems to be well balanced by position, note that the outside-mids in the Italian league are far worse than the other positions, while the outside-mids in the German league are far better. To savvy soccer fans, this last observation makes perfect sense; the Bundesliga is known for its frenetic pace, sending wingers tearing down the sidelines, while the Serie A has a slower, more defense, play-not-to-lose style.\n",
    "\n",
    "Let's take a look at the rankings of the top 50 players in each league. (Since this is a ranking, the lower the number the better)."
   ]
  },
  {
   "cell_type": "code",
   "execution_count": 29,
   "metadata": {},
   "outputs": [
    {
     "data": {
      "text/plain": [
       "[Text(0,0,'Spanish Primera División'),\n",
       " Text(0,0,'English Premier League'),\n",
       " Text(0,0,'Italian Serie A'),\n",
       " Text(0,0,'German Bundesliga'),\n",
       " Text(0,0,'French Ligue 1')]"
      ]
     },
     "execution_count": 29,
     "metadata": {},
     "output_type": "execute_result"
    },
    {
     "data": {
      "image/png": "[encoded data removed]",
      "text/plain": [
       "<matplotlib.figure.Figure at 0x29e5c14f240>"
      ]
     },
     "metadata": {},
     "output_type": "display_data"
    }
   ],
   "source": [
    "fifa_sub_top = fifa_sub.groupby('league').head(50)\n",
    "_ = sns.boxplot(x='league', y='Rank', data=fifa_sub_top, order=leagues)\n",
    "_ = sns.stripplot(x='league', y='Rank', data=fifa_sub_top, order=leagues)\n",
    "loc, labels = plt.xticks()\n",
    "_.set_xticklabels(labels, rotation=45)"
   ]
  },
  {
   "cell_type": "markdown",
   "metadata": {},
   "source": [
    "It's very interesting to see that when just looking at the top 50 players in each league, the English league appears have the best ranking. However, with rankings, there are some nuances with boxplots that don't make them the best visual representation. Let's instead turn to a stackplot. The x-axis will represent the cumulative rankings, and the y-axis shows the percentage of players ranked at that point (i.e., at x=10, players ranked 1-10 will be represented) per country. Let's first perform this visual up to rank 100, then we will expand to 1000. "
   ]
  },
  {
   "cell_type": "code",
   "execution_count": 30,
   "metadata": {},
   "outputs": [
    {
     "data": {
      "text/plain": [
       "Text(0.5,0,'Player Ranking')"
      ]
     },
     "execution_count": 30,
     "metadata": {},
     "output_type": "execute_result"
    },
    {
     "data": {
      "image/png": "[encoded data removed]",
      "text/plain": [
       "<matplotlib.figure.Figure at 0x29e6491b518>"
      ]
     },
     "metadata": {},
     "output_type": "display_data"
    }
   ],
   "source": [
    "top=100\n",
    "fifa_top = fifa.head(top)\n",
    "\n",
    "top_vec=[None]*(len(leagues))\n",
    "for L in range(len(leagues)):\n",
    "    top_vec[L] = [((fifa_top.Rank<=x+1) & (fifa_top.league==leagues[L])).sum() for x in range(top)]\n",
    "#need to calculate the 'other' league\n",
    "other = [None]*top\n",
    "top_vec_numpy = np.array(top_vec)\n",
    "for r in range(top):\n",
    "    other[r] = r-np.sum(top_vec_numpy[:,r])+1\n",
    "\n",
    "#now let's make the data frame\n",
    "top_df = pd.DataFrame({leagues[0]:top_vec[0],\n",
    "                     leagues[1]:top_vec[1],\n",
    "                     leagues[2]:top_vec[2],\n",
    "                     leagues[3]:top_vec[3],\n",
    "                     leagues[4]:top_vec[4],\n",
    "                     'Other Leagues':other}, index=range(1,top+1))\n",
    "\n",
    "top_df_perc = top_df.divide(top_df.sum(axis=1), axis=0)\n",
    "plt.stackplot(range(1,top+1), top_df_perc[leagues[0]], top_df_perc[leagues[1]],\n",
    "              top_df_perc[leagues[2]], top_df_perc[leagues[3]],\n",
    "              top_df_perc[leagues[4]], top_df_perc['Other Leagues'],\n",
    "              labels=[*leagues, 'Other Leagues'])\n",
    "plt.legend(bbox_to_anchor=(1.04,1), loc=\"upper left\")\n",
    "plt.margins(0,0)\n",
    "plt.title('Player Ranking Stacked Chart per League')\n",
    "plt.xlabel('Player Ranking')"
   ]
  },
  {
   "cell_type": "markdown",
   "metadata": {},
   "source": [
    "It appears that the Spanish league has a high-percentage of the very, very best players in the world. The French league gets an early boost from Neymar, ranked 3rd in the world, but doesn't get another player ranked until rank 30. Let's take a look at the percentages at the top 10 and the top 100."
   ]
  },
  {
   "cell_type": "code",
   "execution_count": 31,
   "metadata": {},
   "outputs": [
    {
     "data": {
      "text/plain": [
       "English Premier League      0.2\n",
       "French Ligue 1              0.1\n",
       "German Bundesliga           0.2\n",
       "Italian Serie A             0.1\n",
       "Other Leagues               0.0\n",
       "Spanish Primera División    0.4\n",
       "Name: 10, dtype: float64"
      ]
     },
     "execution_count": 31,
     "metadata": {},
     "output_type": "execute_result"
    }
   ],
   "source": [
    "#top-10\n",
    "top_df_perc.iloc[9]"
   ]
  },
  {
   "cell_type": "code",
   "execution_count": 32,
   "metadata": {},
   "outputs": [
    {
     "data": {
      "text/plain": [
       "English Premier League      0.32\n",
       "French Ligue 1              0.08\n",
       "German Bundesliga           0.16\n",
       "Italian Serie A             0.16\n",
       "Other Leagues               0.01\n",
       "Spanish Primera División    0.27\n",
       "Name: 100, dtype: float64"
      ]
     },
     "execution_count": 32,
     "metadata": {},
     "output_type": "execute_result"
    }
   ],
   "source": [
    "#top-100\n",
    "top_df_perc.iloc[-1]"
   ]
  },
  {
   "cell_type": "markdown",
   "metadata": {},
   "source": [
    "While the English league gets off to a slow start, they actually have more top-100 players than any other league. One thing that is remarkable is the utter dominance of the top 5 leagues. There is only 1 player ranked in the top 100 who is not in the main 5 leagues. Let's find out who it is."
   ]
  },
  {
   "cell_type": "code",
   "execution_count": 33,
   "metadata": {},
   "outputs": [
    {
     "data": {
      "text/html": [
       "<div>\n",
       "<style>\n",
       "    .dataframe thead tr:only-child th {\n",
       "        text-align: right;\n",
       "    }\n",
       "\n",
       "    .dataframe thead th {\n",
       "        text-align: left;\n",
       "    }\n",
       "\n",
       "    .dataframe tbody tr th {\n",
       "        vertical-align: top;\n",
       "    }\n",
       "</style>\n",
       "<table border=\"1\" class=\"dataframe\">\n",
       "  <thead>\n",
       "    <tr style=\"text-align: right;\">\n",
       "      <th></th>\n",
       "      <th>name</th>\n",
       "      <th>Rank</th>\n",
       "      <th>club</th>\n",
       "      <th>league</th>\n",
       "      <th>nationality</th>\n",
       "      <th>overall</th>\n",
       "    </tr>\n",
       "  </thead>\n",
       "  <tbody>\n",
       "    <tr>\n",
       "      <th>67</th>\n",
       "      <td>Pepe</td>\n",
       "      <td>68</td>\n",
       "      <td>Beşiktaş JK</td>\n",
       "      <td>Turkish Süper Lig</td>\n",
       "      <td>Portugal</td>\n",
       "      <td>86</td>\n",
       "    </tr>\n",
       "  </tbody>\n",
       "</table>\n",
       "</div>"
      ],
      "text/plain": [
       "    name  Rank         club             league nationality  overall\n",
       "67  Pepe    68  Beşiktaş JK  Turkish Süper Lig    Portugal       86"
      ]
     },
     "execution_count": 33,
     "metadata": {},
     "output_type": "execute_result"
    }
   ],
   "source": [
    "fifa.loc[~fifa.league.isin(leagues)][['name', 'Rank', 'club', 'league', 'nationality', 'overall']].head(1)"
   ]
  },
  {
   "cell_type": "markdown",
   "metadata": {},
   "source": [
    "We now perform the same actions, but this time we get the stack plot for the top 1000 players instead of the top 100."
   ]
  },
  {
   "cell_type": "code",
   "execution_count": 34,
   "metadata": {},
   "outputs": [
    {
     "data": {
      "text/plain": [
       "Text(0.5,0,'Player Ranking')"
      ]
     },
     "execution_count": 34,
     "metadata": {},
     "output_type": "execute_result"
    },
    {
     "data": {
      "image/png": "[encoded data removed]",
      "text/plain": [
       "<matplotlib.figure.Figure at 0x29e64a0f358>"
      ]
     },
     "metadata": {},
     "output_type": "display_data"
    }
   ],
   "source": [
    "top=1000\n",
    "fifa_top = fifa.head(top)\n",
    "\n",
    "top_vec=[None]*(len(leagues))\n",
    "for L in range(len(leagues)):\n",
    "    top_vec[L] = [((fifa_top.Rank<=x+1) & (fifa_top.league==leagues[L])).sum() for x in range(top)]\n",
    "#need to calculate the 'other' league\n",
    "other = [None]*top\n",
    "top_vec_numpy = np.array(top_vec)\n",
    "for r in range(top):\n",
    "    other[r] = r-np.sum(top_vec_numpy[:,r])+1\n",
    "\n",
    "#now let's make the data frame\n",
    "top_df = pd.DataFrame({leagues[0]:top_vec[0],\n",
    "                     leagues[1]:top_vec[1],\n",
    "                     leagues[2]:top_vec[2],\n",
    "                     leagues[3]:top_vec[3],\n",
    "                     leagues[4]:top_vec[4],\n",
    "                     'Other Leagues':other}, index=range(1,top+1))\n",
    "\n",
    "top_df_perc = top_df.divide(top_df.sum(axis=1), axis=0)\n",
    "plt.stackplot(range(1,top+1), top_df_perc[leagues[0]], top_df_perc[leagues[1]],\n",
    "              top_df_perc[leagues[2]], top_df_perc[leagues[3]],\n",
    "              top_df_perc[leagues[4]], top_df_perc['Other Leagues'],\n",
    "              labels=[*leagues, 'Other Leagues'])\n",
    "plt.legend(bbox_to_anchor=(1.04,1), loc=\"upper left\")\n",
    "plt.margins(0,0)\n",
    "plt.title('Player Ranking Stacked Chart per League')\n",
    "plt.xlabel('Player Ranking')"
   ]
  },
  {
   "cell_type": "code",
   "execution_count": 35,
   "metadata": {},
   "outputs": [
    {
     "data": {
      "text/plain": [
       "English Premier League      0.205\n",
       "French Ligue 1              0.077\n",
       "German Bundesliga           0.139\n",
       "Italian Serie A             0.137\n",
       "Other Leagues               0.241\n",
       "Spanish Primera División    0.201\n",
       "Name: 1000, dtype: float64"
      ]
     },
     "execution_count": 35,
     "metadata": {},
     "output_type": "execute_result"
    }
   ],
   "source": [
    "#top-1000\n",
    "top_df_perc.iloc[-1]"
   ]
  },
  {
   "cell_type": "markdown",
   "metadata": {},
   "source": [
    "These figures clearly demonstrate that the English and Spanish leagues are ahead of their competitors. Almost every starting player in these two leagues are ranked in the top 1000."
   ]
  },
  {
   "cell_type": "markdown",
   "metadata": {},
   "source": [
    "# England vs. Germany PKs <a name=\"PKs\"></a>"
   ]
  },
  {
   "cell_type": "markdown",
   "metadata": {
    "collapsed": true
   },
   "source": [
    "When it comes to Penalty Kicks in international competitions, two teams clearly stand out from the norm: England and Germany. England has a woeful history with PKs, losing all 3 in World Cup competitions, and winning only 1 out of 7 including the European Cup. Their relentless choking during PKs is well documented ([1](https://www.theguardian.com/football/2016/jun/27/england-penalties-20-years-hurt-iceland-germany), [2](https://www.telegraph.co.uk/men/the-filter/10843004/Why-are-England-so-bad-at-penalty-shoot-outs.html), [3](http://blogs.bcu.ac.uk/views/2016/06/15/why-are-england-so-bad-at-penalty-shootouts/), [4](https://www.ft.com/content/f32c2ac6-ec4a-11e3-ab1b-00144feabdc0)) and may be adding to the continuing pressure in a [feedback loop](http://www.popularsocialscience.com/2012/11/28/the-psychology-of-penalty-shootouts-why-do-england-always-lose/). At the opposite end of the spectrum, the German team is legendary for their calm demeanor in expertly executing PKs, winning [all 4](https://en.wikipedia.org/wiki/List_of_FIFA_World_Cup_penalty_shoot-outs) of their PKs during World Cups. In fact, their last PK loss (in the WC or Euro) dates back more than 42 years, at the Euro 1976. There are very few things in international soccer as sure bets as England losing a PK and Germany winning.\n",
    "\n",
    "FIFA 18 includes a **Penalty** stat that describes how good a player is at taking a penalty kick. Let's investigate the differences between England and Germany."
   ]
  },
  {
   "cell_type": "code",
   "execution_count": 36,
   "metadata": {},
   "outputs": [
    {
     "data": {
      "text/plain": [
       "<matplotlib.axes._subplots.AxesSubplot at 0x29e6496a438>"
      ]
     },
     "execution_count": 36,
     "metadata": {},
     "output_type": "execute_result"
    },
    {
     "data": {
      "image/png": "[encoded data removed]",
      "text/plain": [
       "<matplotlib.figure.Figure at 0x29e62c1e6d8>"
      ]
     },
     "metadata": {},
     "output_type": "display_data"
    }
   ],
   "source": [
    "countries = ['England', 'Germany']\n",
    "fifa_pen = fifa.loc[fifa.nationality.isin(countries)]\n",
    "sns.violinplot(x='nationality', y='penalties',  data=fifa_pen, inner='quartile')"
   ]
  },
  {
   "cell_type": "markdown",
   "metadata": {},
   "source": [
    "This plot is surprising, it seems that English players have the slight edge over German player in the penalties stat. Let's break this down by position; it could be that players who are unlikely to take PKs in the first place are bringing down the German distribution."
   ]
  },
  {
   "cell_type": "code",
   "execution_count": 37,
   "metadata": {},
   "outputs": [
    {
     "data": {
      "text/plain": [
       "<matplotlib.axes._subplots.AxesSubplot at 0x29e64b3a5f8>"
      ]
     },
     "execution_count": 37,
     "metadata": {},
     "output_type": "execute_result"
    },
    {
     "data": {
      "image/png": "[encoded data removed]",
      "text/plain": [
       "<matplotlib.figure.Figure at 0x29e62bd9668>"
      ]
     },
     "metadata": {},
     "output_type": "display_data"
    }
   ],
   "source": [
    "sns.violinplot(x='Position', y='penalties', hue='nationality', data=fifa_pen, split=True, inner='quartile', order=pos_order)"
   ]
  },
  {
   "cell_type": "markdown",
   "metadata": {},
   "source": [
    "Wow, it seems like England really does have the edge over Germany in penalty stats for offensive players.\n",
    "\n",
    "PKs are a two-sided coin though, and goalkeepers play a huge role in the outcome. Let's see if there are any differences in the overall quality of GKs between these two countries."
   ]
  },
  {
   "cell_type": "code",
   "execution_count": 38,
   "metadata": {},
   "outputs": [
    {
     "data": {
      "text/plain": [
       "<matplotlib.axes._subplots.AxesSubplot at 0x29e64b58cf8>"
      ]
     },
     "execution_count": 38,
     "metadata": {},
     "output_type": "execute_result"
    },
    {
     "data": {
      "image/png": "[encoded data removed]",
      "text/plain": [
       "<matplotlib.figure.Figure at 0x29e64ab17f0>"
      ]
     },
     "metadata": {},
     "output_type": "display_data"
    }
   ],
   "source": [
    "sns.violinplot(x='nationality', y='overall', data=fifa_pen[fifa_pen.Position=='GK'], inner='quartile')"
   ]
  },
  {
   "cell_type": "markdown",
   "metadata": {},
   "source": [
    "This is quite illuminating. The median overall metric for German GKs is at the same level as the 75th percentile overall metric for English GKs. Also note that England doesn't seem to really have any world-class GKs at the top of the violin plot. Since only the very best GKs per country really matter during an international tournament, let's see how the top GKs from each country compare."
   ]
  },
  {
   "cell_type": "code",
   "execution_count": 39,
   "metadata": {},
   "outputs": [
    {
     "data": {
      "text/html": [
       "<div>\n",
       "<style>\n",
       "    .dataframe thead tr:only-child th {\n",
       "        text-align: right;\n",
       "    }\n",
       "\n",
       "    .dataframe thead th {\n",
       "        text-align: left;\n",
       "    }\n",
       "\n",
       "    .dataframe tbody tr th {\n",
       "        vertical-align: top;\n",
       "    }\n",
       "</style>\n",
       "<table border=\"1\" class=\"dataframe\">\n",
       "  <thead>\n",
       "    <tr style=\"text-align: right;\">\n",
       "      <th></th>\n",
       "      <th>name</th>\n",
       "      <th>club</th>\n",
       "      <th>overall</th>\n",
       "    </tr>\n",
       "  </thead>\n",
       "  <tbody>\n",
       "    <tr>\n",
       "      <th>4</th>\n",
       "      <td>M. Neuer</td>\n",
       "      <td>FC Bayern Munich</td>\n",
       "      <td>92</td>\n",
       "    </tr>\n",
       "    <tr>\n",
       "      <th>79</th>\n",
       "      <td>B. Leno</td>\n",
       "      <td>Bayer 04 Leverkusen</td>\n",
       "      <td>85</td>\n",
       "    </tr>\n",
       "    <tr>\n",
       "      <th>80</th>\n",
       "      <td>M. ter Stegen</td>\n",
       "      <td>FC Barcelona</td>\n",
       "      <td>85</td>\n",
       "    </tr>\n",
       "    <tr>\n",
       "      <th>104</th>\n",
       "      <td>T. Horn</td>\n",
       "      <td>1. FC Köln</td>\n",
       "      <td>84</td>\n",
       "    </tr>\n",
       "    <tr>\n",
       "      <th>117</th>\n",
       "      <td>R. Fährmann</td>\n",
       "      <td>FC Schalke 04</td>\n",
       "      <td>84</td>\n",
       "    </tr>\n",
       "    <tr>\n",
       "      <th>240</th>\n",
       "      <td>O. Baumann</td>\n",
       "      <td>TSG 1899 Hoffenheim</td>\n",
       "      <td>82</td>\n",
       "    </tr>\n",
       "    <tr>\n",
       "      <th>353</th>\n",
       "      <td>K. Trapp</td>\n",
       "      <td>Paris Saint-Germain</td>\n",
       "      <td>81</td>\n",
       "    </tr>\n",
       "  </tbody>\n",
       "</table>\n",
       "</div>"
      ],
      "text/plain": [
       "              name                 club  overall\n",
       "4         M. Neuer     FC Bayern Munich       92\n",
       "79         B. Leno  Bayer 04 Leverkusen       85\n",
       "80   M. ter Stegen         FC Barcelona       85\n",
       "104        T. Horn           1. FC Köln       84\n",
       "117    R. Fährmann        FC Schalke 04       84\n",
       "240     O. Baumann  TSG 1899 Hoffenheim       82\n",
       "353       K. Trapp  Paris Saint-Germain       81"
      ]
     },
     "execution_count": 39,
     "metadata": {},
     "output_type": "execute_result"
    }
   ],
   "source": [
    "fifa_pen.loc[(fifa_pen['Position']=='GK') & (fifa_pen['nationality']=='Germany')][['name', 'club', 'overall']].head(7)"
   ]
  },
  {
   "cell_type": "code",
   "execution_count": 40,
   "metadata": {},
   "outputs": [
    {
     "data": {
      "text/html": [
       "<div>\n",
       "<style>\n",
       "    .dataframe thead tr:only-child th {\n",
       "        text-align: right;\n",
       "    }\n",
       "\n",
       "    .dataframe thead th {\n",
       "        text-align: left;\n",
       "    }\n",
       "\n",
       "    .dataframe tbody tr th {\n",
       "        vertical-align: top;\n",
       "    }\n",
       "</style>\n",
       "<table border=\"1\" class=\"dataframe\">\n",
       "  <thead>\n",
       "    <tr style=\"text-align: right;\">\n",
       "      <th></th>\n",
       "      <th>name</th>\n",
       "      <th>club</th>\n",
       "      <th>overall</th>\n",
       "    </tr>\n",
       "  </thead>\n",
       "  <tbody>\n",
       "    <tr>\n",
       "      <th>288</th>\n",
       "      <td>J. Hart</td>\n",
       "      <td>West Ham United</td>\n",
       "      <td>82</td>\n",
       "    </tr>\n",
       "    <tr>\n",
       "      <th>320</th>\n",
       "      <td>J. Butland</td>\n",
       "      <td>Stoke City</td>\n",
       "      <td>81</td>\n",
       "    </tr>\n",
       "    <tr>\n",
       "      <th>376</th>\n",
       "      <td>T. Heaton</td>\n",
       "      <td>Burnley</td>\n",
       "      <td>81</td>\n",
       "    </tr>\n",
       "    <tr>\n",
       "      <th>502</th>\n",
       "      <td>B. Foster</td>\n",
       "      <td>West Bromwich Albion</td>\n",
       "      <td>80</td>\n",
       "    </tr>\n",
       "    <tr>\n",
       "      <th>1057</th>\n",
       "      <td>J. Pickford</td>\n",
       "      <td>Everton</td>\n",
       "      <td>77</td>\n",
       "    </tr>\n",
       "    <tr>\n",
       "      <th>1109</th>\n",
       "      <td>F. Forster</td>\n",
       "      <td>Southampton</td>\n",
       "      <td>77</td>\n",
       "    </tr>\n",
       "    <tr>\n",
       "      <th>1812</th>\n",
       "      <td>A. McCarthy</td>\n",
       "      <td>Southampton</td>\n",
       "      <td>75</td>\n",
       "    </tr>\n",
       "  </tbody>\n",
       "</table>\n",
       "</div>"
      ],
      "text/plain": [
       "             name                  club  overall\n",
       "288       J. Hart       West Ham United       82\n",
       "320    J. Butland            Stoke City       81\n",
       "376     T. Heaton               Burnley       81\n",
       "502     B. Foster  West Bromwich Albion       80\n",
       "1057  J. Pickford               Everton       77\n",
       "1109   F. Forster           Southampton       77\n",
       "1812  A. McCarthy           Southampton       75"
      ]
     },
     "execution_count": 40,
     "metadata": {},
     "output_type": "execute_result"
    }
   ],
   "source": [
    "fifa_pen.loc[(fifa_pen['Position']=='GK') & (fifa_pen['nationality']=='England')][['name', 'club', 'overall']].head(7)"
   ]
  },
  {
   "cell_type": "markdown",
   "metadata": {},
   "source": [
    "These latest stats provide some deep insight. The 6 best German GKs are all ranked higher than J. Hart, the highest rated English GK. In addition to the mounting pressure the English players feel to break the PK curse, it can't help that they do not have a single choice for a world-class GK. On the other hand, the German players can keep their nerve, knowing they have a choice between some of the best GKs in the world."
   ]
  },
  {
   "cell_type": "markdown",
   "metadata": {},
   "source": [
    "# Southpaws <a name=\"southpaws\"></a>\n",
    "Lefties make up roughly [10%](https://en.wikipedia.org/wiki/Handedness) of the population. However, it is well documented that in some sports, lefties make up a much larger proportion (e.g., 39% of hitters and 28% of pitchers [played left-handed](http://www.gamesensesports.com/knowledge/2017/3/17/righties-vs-lefties-the-importance-of-handedness-training-in-baseball-hitting) in the 2012 MLB season).\n",
    "\n",
    "In soccer, we expect to see higher than 10% of players as left-footed since being left-footed is an advantage when playing on the left side of the field. This is especially true for left wingers who race down the sideline in order to whip in a cross. Let's investigate the percentages."
   ]
  },
  {
   "cell_type": "code",
   "execution_count": 41,
   "metadata": {},
   "outputs": [
    {
     "data": {
      "text/plain": [
       "0.23624541513837946"
      ]
     },
     "execution_count": 41,
     "metadata": {},
     "output_type": "execute_result"
    }
   ],
   "source": [
    "fifa[fifa.preferred_foot=='Left']['ID'].count()/fifa.shape[0]"
   ]
  },
  {
   "cell_type": "markdown",
   "metadata": {},
   "source": [
    "We see that 23% of the players in the dataframe are left-footed, which agrees with our intuition. Let's see if there is any significant difference in the overall quality of players based on foot preference."
   ]
  },
  {
   "cell_type": "code",
   "execution_count": 42,
   "metadata": {},
   "outputs": [
    {
     "data": {
      "text/plain": [
       "preferred_foot\n",
       "Left     66.679840\n",
       "Right    66.121007\n",
       "Name: overall, dtype: float64"
      ]
     },
     "execution_count": 42,
     "metadata": {},
     "output_type": "execute_result"
    }
   ],
   "source": [
    "fifa.groupby('preferred_foot')['overall'].mean()"
   ]
  },
  {
   "cell_type": "markdown",
   "metadata": {},
   "source": [
    "These scores are very close together, hinting that there is no discernable difference between the overall quality of left-footed player and right-footed players on average. However, in order to see if this difference of 0.5 is likely due to noise, our analysis must go one level deeper. Here, we use the [bootstrapping method](https://en.wikipedia.org/wiki/Bootstrapping_(statistics)), in which we resample our players (with replacement). The advantage of the bootstrapping method is that it gives us intuition as to whether this 0.5 difference is statistically significant without having to assume any underlying distribution."
   ]
  },
  {
   "cell_type": "code",
   "execution_count": 43,
   "metadata": {},
   "outputs": [
    {
     "data": {
      "text/plain": [
       "<matplotlib.axes._subplots.AxesSubplot at 0x29e664d26a0>"
      ]
     },
     "execution_count": 43,
     "metadata": {},
     "output_type": "execute_result"
    },
    {
     "data": {
      "image/png": "[encoded data removed]",
      "text/plain": [
       "<matplotlib.figure.Figure at 0x29e661066a0>"
      ]
     },
     "metadata": {},
     "output_type": "display_data"
    }
   ],
   "source": [
    "iterations=10000\n",
    "boot=[]\n",
    "for i in range(iterations):\n",
    "    boot_mean = fifa.sample(frac=1, replace=True).groupby('preferred_foot')['overall'].mean()\n",
    "    boot.append(boot_mean)\n",
    "    \n",
    "boot=pd.DataFrame(boot)\n",
    "boot.plot.kde()"
   ]
  },
  {
   "cell_type": "markdown",
   "metadata": {},
   "source": [
    "It does appear that the difference, albeit small, is real. In fact, over the 10000 bootstrapping iterations, not once did the right-footers have a higher overall mean than the left-footers (as shown with the following code)."
   ]
  },
  {
   "cell_type": "code",
   "execution_count": 44,
   "metadata": {},
   "outputs": [
    {
     "data": {
      "text/plain": [
       "0"
      ]
     },
     "execution_count": 44,
     "metadata": {},
     "output_type": "execute_result"
    }
   ],
   "source": [
    "((boot['Left']-boot['Right'])<0).sum()"
   ]
  },
  {
   "cell_type": "markdown",
   "metadata": {},
   "source": [
    "Let's breakdown the left-footed percentages by nationality. We only consider countries that have 100 or more players in the dataframe."
   ]
  },
  {
   "cell_type": "code",
   "execution_count": 45,
   "metadata": {},
   "outputs": [
    {
     "data": {
      "text/plain": [
       "Text(0,0.5,'Percentage of Players Left-Footed')"
      ]
     },
     "execution_count": 45,
     "metadata": {},
     "output_type": "execute_result"
    },
    {
     "data": {
      "image/png": "[encoded data removed]",
      "text/plain": [
       "<matplotlib.figure.Figure at 0x29e66513a20>"
      ]
     },
     "metadata": {},
     "output_type": "display_data"
    }
   ],
   "source": [
    "fifa_sig = fifa.groupby('nationality')\n",
    "fifa_sig = fifa_sig.filter(lambda x:x['nationality'].count()>=100)\n",
    "\n",
    "fifa_left = pd.DataFrame(fifa_sig[fifa_sig.preferred_foot=='Left'].groupby('nationality')['ID'].count())\n",
    "fifa_left['left_perc']= fifa_left['ID'].divide(fifa_sig.groupby('nationality')['ID'].count())\n",
    "fifa_left_sorted = fifa_left.sort_values('left_perc')\n",
    "\n",
    "_ = fifa_left_sorted.left_perc.plot.bar(rot=90)\n",
    "plt.ylabel('Percentage of Players Left-Footed')"
   ]
  },
  {
   "cell_type": "markdown",
   "metadata": {},
   "source": [
    "Glancing at the order of countries, there doesn't appear to be any geographic or political correlations with the percentage of left-footed players.\n",
    "\n",
    "Let's try to go one step deeper with a bubble plot.\n",
    "* On the x-axis, we take the average overall score for the best 11 players per country.\n",
    "* On the y-axis, we have the percentage of total players in the country that are left-footed.\n",
    "* The size of the bubble corresponds to the raw number of player (for the given country) that are ranked in the top 1500."
   ]
  },
  {
   "cell_type": "code",
   "execution_count": 46,
   "metadata": {},
   "outputs": [
    {
     "data": {
      "text/plain": [
       "Text(0.5,0,'Average Overall Rating if Top 11 Players')"
      ]
     },
     "execution_count": 46,
     "metadata": {},
     "output_type": "execute_result"
    },
    {
     "data": {
      "image/png": "[encoded data removed]",
      "text/plain": [
       "<matplotlib.figure.Figure at 0x29e663e27f0>"
      ]
     },
     "metadata": {},
     "output_type": "display_data"
    }
   ],
   "source": [
    "fifa_best11 = fifa_sig.groupby('nationality').head(11)\n",
    "#calculate average overall raiting per coutnries best 11\n",
    "fifa_best11 = fifa_best11.groupby('nationality')['overall'].mean()\n",
    "fifa_left['Overall'] = fifa_best11\n",
    "#now we want to calculate the number per country in the top 1000\n",
    "fifa_top1000 = fifa_sig[fifa_sig.Rank<=1500].groupby('nationality')['ID'].count()\n",
    "\n",
    "#bubble plot\n",
    "plt.scatter(fifa_best11, fifa_left.left_perc, s=10*fifa_top1000, alpha=0.5)\n",
    "plt.ylabel('Percentage of Players Left-Footed')\n",
    "plt.xlabel('Average Overall Rating if Top 11 Players')"
   ]
  },
  {
   "cell_type": "markdown",
   "metadata": {},
   "source": [
    "It is impossible to draw correlation/causation results from this plot. However, it is worthwhile to note that the 7 countries at the elite level (who's average overall score for their starting-11 is over 85) also have a higher than average percentage of left-footed players."
   ]
  },
  {
   "cell_type": "markdown",
   "metadata": {},
   "source": [
    "# Similarity <a name=\"similarity\"></a>"
   ]
  },
  {
   "cell_type": "markdown",
   "metadata": {},
   "source": [
    "For fun, let's build a function such that when given a name, it returns the 5 players who are the most similar. The idea of similarity when it comes to soccer players is subjective, but we will be basing it solely on the subjective numeric stats. We will not include any categorical features such as club, league, nationality, position, etc. We also will not include objective physical features such as age, height and weight. There are two major steps to this process.\n",
    "* First, we perform principle component analysis (PCA). We will be using 45 different metrics to begin with, but many of these are highly correlated with one another. We will use PCA to reduce this number to 10. This reduction in dimension helps to reduce the bias possibly introduced by EA's selection of specific metrics that are similar. Note that these remaining 10 dimensions do not necessarily correspond to any specific metrics, but rather a correlated cluster of them.\n",
    "* Second, we perform the nearest neighbors calculation to find the closest neighbors based on the numbers in reduced dimensions."
   ]
  },
  {
   "cell_type": "code",
   "execution_count": 47,
   "metadata": {},
   "outputs": [
    {
     "data": {
      "text/html": [
       "<div>\n",
       "<style>\n",
       "    .dataframe thead tr:only-child th {\n",
       "        text-align: right;\n",
       "    }\n",
       "\n",
       "    .dataframe thead th {\n",
       "        text-align: left;\n",
       "    }\n",
       "\n",
       "    .dataframe tbody tr th {\n",
       "        vertical-align: top;\n",
       "    }\n",
       "</style>\n",
       "<table border=\"1\" class=\"dataframe\">\n",
       "  <thead>\n",
       "    <tr style=\"text-align: right;\">\n",
       "      <th></th>\n",
       "      <th>overall</th>\n",
       "      <th>potential</th>\n",
       "      <th>pac</th>\n",
       "      <th>sho</th>\n",
       "      <th>pas</th>\n",
       "      <th>dri</th>\n",
       "      <th>def</th>\n",
       "      <th>phy</th>\n",
       "      <th>international_reputation</th>\n",
       "      <th>skill_moves</th>\n",
       "      <th>weak_foot</th>\n",
       "      <th>crossing</th>\n",
       "      <th>finishing</th>\n",
       "      <th>heading_accuracy</th>\n",
       "      <th>short_passing</th>\n",
       "      <th>volleys</th>\n",
       "      <th>dribbling</th>\n",
       "      <th>curve</th>\n",
       "      <th>free_kick_accuracy</th>\n",
       "      <th>long_passing</th>\n",
       "      <th>ball_control</th>\n",
       "      <th>acceleration</th>\n",
       "      <th>sprint_speed</th>\n",
       "      <th>agility</th>\n",
       "      <th>reactions</th>\n",
       "      <th>balance</th>\n",
       "      <th>shot_power</th>\n",
       "      <th>jumping</th>\n",
       "      <th>stamina</th>\n",
       "      <th>strength</th>\n",
       "      <th>long_shots</th>\n",
       "      <th>aggression</th>\n",
       "      <th>interceptions</th>\n",
       "      <th>positioning</th>\n",
       "      <th>vision</th>\n",
       "      <th>penalties</th>\n",
       "      <th>composure</th>\n",
       "      <th>marking</th>\n",
       "      <th>standing_tackle</th>\n",
       "      <th>sliding_tackle</th>\n",
       "      <th>gk_diving</th>\n",
       "      <th>gk_handling</th>\n",
       "      <th>gk_kicking</th>\n",
       "      <th>gk_positioning</th>\n",
       "      <th>gk_reflexes</th>\n",
       "    </tr>\n",
       "  </thead>\n",
       "  <tbody>\n",
       "    <tr>\n",
       "      <th>0</th>\n",
       "      <td>94</td>\n",
       "      <td>94</td>\n",
       "      <td>90</td>\n",
       "      <td>93</td>\n",
       "      <td>82</td>\n",
       "      <td>90</td>\n",
       "      <td>33</td>\n",
       "      <td>80</td>\n",
       "      <td>5</td>\n",
       "      <td>5</td>\n",
       "      <td>4</td>\n",
       "      <td>85</td>\n",
       "      <td>94</td>\n",
       "      <td>88</td>\n",
       "      <td>83</td>\n",
       "      <td>88</td>\n",
       "      <td>91</td>\n",
       "      <td>81</td>\n",
       "      <td>76</td>\n",
       "      <td>77</td>\n",
       "      <td>93</td>\n",
       "      <td>89</td>\n",
       "      <td>91</td>\n",
       "      <td>89</td>\n",
       "      <td>96</td>\n",
       "      <td>63</td>\n",
       "      <td>94</td>\n",
       "      <td>95</td>\n",
       "      <td>92</td>\n",
       "      <td>80</td>\n",
       "      <td>92</td>\n",
       "      <td>63</td>\n",
       "      <td>29</td>\n",
       "      <td>95</td>\n",
       "      <td>85</td>\n",
       "      <td>85</td>\n",
       "      <td>95</td>\n",
       "      <td>22</td>\n",
       "      <td>31</td>\n",
       "      <td>23</td>\n",
       "      <td>7</td>\n",
       "      <td>11</td>\n",
       "      <td>15</td>\n",
       "      <td>14</td>\n",
       "      <td>11</td>\n",
       "    </tr>\n",
       "    <tr>\n",
       "      <th>1</th>\n",
       "      <td>93</td>\n",
       "      <td>93</td>\n",
       "      <td>89</td>\n",
       "      <td>90</td>\n",
       "      <td>86</td>\n",
       "      <td>96</td>\n",
       "      <td>26</td>\n",
       "      <td>61</td>\n",
       "      <td>5</td>\n",
       "      <td>4</td>\n",
       "      <td>4</td>\n",
       "      <td>77</td>\n",
       "      <td>95</td>\n",
       "      <td>71</td>\n",
       "      <td>88</td>\n",
       "      <td>85</td>\n",
       "      <td>97</td>\n",
       "      <td>89</td>\n",
       "      <td>90</td>\n",
       "      <td>87</td>\n",
       "      <td>95</td>\n",
       "      <td>92</td>\n",
       "      <td>87</td>\n",
       "      <td>90</td>\n",
       "      <td>95</td>\n",
       "      <td>95</td>\n",
       "      <td>85</td>\n",
       "      <td>68</td>\n",
       "      <td>73</td>\n",
       "      <td>59</td>\n",
       "      <td>88</td>\n",
       "      <td>48</td>\n",
       "      <td>22</td>\n",
       "      <td>93</td>\n",
       "      <td>90</td>\n",
       "      <td>78</td>\n",
       "      <td>96</td>\n",
       "      <td>13</td>\n",
       "      <td>28</td>\n",
       "      <td>26</td>\n",
       "      <td>6</td>\n",
       "      <td>11</td>\n",
       "      <td>15</td>\n",
       "      <td>14</td>\n",
       "      <td>8</td>\n",
       "    </tr>\n",
       "    <tr>\n",
       "      <th>2</th>\n",
       "      <td>92</td>\n",
       "      <td>94</td>\n",
       "      <td>92</td>\n",
       "      <td>84</td>\n",
       "      <td>79</td>\n",
       "      <td>95</td>\n",
       "      <td>30</td>\n",
       "      <td>60</td>\n",
       "      <td>5</td>\n",
       "      <td>5</td>\n",
       "      <td>5</td>\n",
       "      <td>75</td>\n",
       "      <td>89</td>\n",
       "      <td>62</td>\n",
       "      <td>81</td>\n",
       "      <td>83</td>\n",
       "      <td>96</td>\n",
       "      <td>81</td>\n",
       "      <td>84</td>\n",
       "      <td>75</td>\n",
       "      <td>95</td>\n",
       "      <td>94</td>\n",
       "      <td>90</td>\n",
       "      <td>96</td>\n",
       "      <td>88</td>\n",
       "      <td>82</td>\n",
       "      <td>80</td>\n",
       "      <td>61</td>\n",
       "      <td>78</td>\n",
       "      <td>53</td>\n",
       "      <td>77</td>\n",
       "      <td>56</td>\n",
       "      <td>36</td>\n",
       "      <td>90</td>\n",
       "      <td>80</td>\n",
       "      <td>81</td>\n",
       "      <td>92</td>\n",
       "      <td>21</td>\n",
       "      <td>24</td>\n",
       "      <td>33</td>\n",
       "      <td>9</td>\n",
       "      <td>9</td>\n",
       "      <td>15</td>\n",
       "      <td>15</td>\n",
       "      <td>11</td>\n",
       "    </tr>\n",
       "    <tr>\n",
       "      <th>3</th>\n",
       "      <td>92</td>\n",
       "      <td>92</td>\n",
       "      <td>82</td>\n",
       "      <td>90</td>\n",
       "      <td>79</td>\n",
       "      <td>87</td>\n",
       "      <td>42</td>\n",
       "      <td>81</td>\n",
       "      <td>5</td>\n",
       "      <td>4</td>\n",
       "      <td>4</td>\n",
       "      <td>77</td>\n",
       "      <td>94</td>\n",
       "      <td>77</td>\n",
       "      <td>83</td>\n",
       "      <td>88</td>\n",
       "      <td>86</td>\n",
       "      <td>86</td>\n",
       "      <td>84</td>\n",
       "      <td>64</td>\n",
       "      <td>91</td>\n",
       "      <td>88</td>\n",
       "      <td>77</td>\n",
       "      <td>86</td>\n",
       "      <td>93</td>\n",
       "      <td>60</td>\n",
       "      <td>87</td>\n",
       "      <td>69</td>\n",
       "      <td>89</td>\n",
       "      <td>80</td>\n",
       "      <td>86</td>\n",
       "      <td>78</td>\n",
       "      <td>41</td>\n",
       "      <td>92</td>\n",
       "      <td>84</td>\n",
       "      <td>85</td>\n",
       "      <td>83</td>\n",
       "      <td>30</td>\n",
       "      <td>45</td>\n",
       "      <td>38</td>\n",
       "      <td>27</td>\n",
       "      <td>25</td>\n",
       "      <td>31</td>\n",
       "      <td>33</td>\n",
       "      <td>37</td>\n",
       "    </tr>\n",
       "    <tr>\n",
       "      <th>4</th>\n",
       "      <td>92</td>\n",
       "      <td>92</td>\n",
       "      <td>91</td>\n",
       "      <td>90</td>\n",
       "      <td>95</td>\n",
       "      <td>89</td>\n",
       "      <td>60</td>\n",
       "      <td>91</td>\n",
       "      <td>5</td>\n",
       "      <td>1</td>\n",
       "      <td>4</td>\n",
       "      <td>15</td>\n",
       "      <td>13</td>\n",
       "      <td>25</td>\n",
       "      <td>55</td>\n",
       "      <td>11</td>\n",
       "      <td>30</td>\n",
       "      <td>14</td>\n",
       "      <td>11</td>\n",
       "      <td>59</td>\n",
       "      <td>48</td>\n",
       "      <td>58</td>\n",
       "      <td>61</td>\n",
       "      <td>52</td>\n",
       "      <td>85</td>\n",
       "      <td>35</td>\n",
       "      <td>25</td>\n",
       "      <td>78</td>\n",
       "      <td>44</td>\n",
       "      <td>83</td>\n",
       "      <td>16</td>\n",
       "      <td>29</td>\n",
       "      <td>30</td>\n",
       "      <td>12</td>\n",
       "      <td>70</td>\n",
       "      <td>47</td>\n",
       "      <td>70</td>\n",
       "      <td>10</td>\n",
       "      <td>10</td>\n",
       "      <td>11</td>\n",
       "      <td>91</td>\n",
       "      <td>90</td>\n",
       "      <td>95</td>\n",
       "      <td>91</td>\n",
       "      <td>89</td>\n",
       "    </tr>\n",
       "  </tbody>\n",
       "</table>\n",
       "</div>"
      ],
      "text/plain": [
       "   overall  potential  pac  sho  pas  dri  def  phy  international_reputation  \\\n",
       "0       94         94   90   93   82   90   33   80                         5   \n",
       "1       93         93   89   90   86   96   26   61                         5   \n",
       "2       92         94   92   84   79   95   30   60                         5   \n",
       "3       92         92   82   90   79   87   42   81                         5   \n",
       "4       92         92   91   90   95   89   60   91                         5   \n",
       "\n",
       "   skill_moves  weak_foot  crossing  finishing  heading_accuracy  \\\n",
       "0            5          4        85         94                88   \n",
       "1            4          4        77         95                71   \n",
       "2            5          5        75         89                62   \n",
       "3            4          4        77         94                77   \n",
       "4            1          4        15         13                25   \n",
       "\n",
       "   short_passing  volleys  dribbling  curve  free_kick_accuracy  long_passing  \\\n",
       "0             83       88         91     81                  76            77   \n",
       "1             88       85         97     89                  90            87   \n",
       "2             81       83         96     81                  84            75   \n",
       "3             83       88         86     86                  84            64   \n",
       "4             55       11         30     14                  11            59   \n",
       "\n",
       "   ball_control  acceleration  sprint_speed  agility  reactions  balance  \\\n",
       "0            93            89            91       89         96       63   \n",
       "1            95            92            87       90         95       95   \n",
       "2            95            94            90       96         88       82   \n",
       "3            91            88            77       86         93       60   \n",
       "4            48            58            61       52         85       35   \n",
       "\n",
       "   shot_power  jumping  stamina  strength  long_shots  aggression  \\\n",
       "0          94       95       92        80          92          63   \n",
       "1          85       68       73        59          88          48   \n",
       "2          80       61       78        53          77          56   \n",
       "3          87       69       89        80          86          78   \n",
       "4          25       78       44        83          16          29   \n",
       "\n",
       "   interceptions  positioning  vision  penalties  composure  marking  \\\n",
       "0             29           95      85         85         95       22   \n",
       "1             22           93      90         78         96       13   \n",
       "2             36           90      80         81         92       21   \n",
       "3             41           92      84         85         83       30   \n",
       "4             30           12      70         47         70       10   \n",
       "\n",
       "   standing_tackle  sliding_tackle  gk_diving  gk_handling  gk_kicking  \\\n",
       "0               31              23          7           11          15   \n",
       "1               28              26          6           11          15   \n",
       "2               24              33          9            9          15   \n",
       "3               45              38         27           25          31   \n",
       "4               10              11         91           90          95   \n",
       "\n",
       "   gk_positioning  gk_reflexes  \n",
       "0              14           11  \n",
       "1              14            8  \n",
       "2              15           11  \n",
       "3              33           37  \n",
       "4              91           89  "
      ]
     },
     "metadata": {},
     "output_type": "display_data"
    }
   ],
   "source": [
    "fifa_stats1 = fifa.loc[:,'overall':'weak_foot']\n",
    "fifa_stats2 = fifa.loc[:,'crossing':'gk_reflexes']\n",
    "fifa_stats = pd.concat([fifa_stats1, fifa_stats2], axis=1)\n",
    "with pd.option_context('display.max_rows', None, 'display.max_columns', None):\n",
    "    display(fifa_stats.head())"
   ]
  },
  {
   "cell_type": "markdown",
   "metadata": {},
   "source": [
    "First we standardize all the metrics to have a mean of zero and unit variance. This standardization provides a fair way to measure the various attributes since they have different means and distributions."
   ]
  },
  {
   "cell_type": "code",
   "execution_count": 48,
   "metadata": {
    "collapsed": true
   },
   "outputs": [],
   "source": [
    "from sklearn.preprocessing import StandardScaler\n",
    "fifa_stats = StandardScaler().fit_transform(fifa_stats)"
   ]
  },
  {
   "cell_type": "code",
   "execution_count": 49,
   "metadata": {
    "collapsed": true
   },
   "outputs": [],
   "source": [
    "#PCA\n",
    "from sklearn.decomposition import PCA\n",
    "pca = PCA(n_components=10)\n",
    "components = pca.fit_transform(fifa_stats)"
   ]
  },
  {
   "cell_type": "code",
   "execution_count": 50,
   "metadata": {
    "collapsed": true
   },
   "outputs": [],
   "source": [
    "#NearestNeighbors\n",
    "from sklearn.neighbors import NearestNeighbors\n",
    "nbrs = NearestNeighbors(n_neighbors=6).fit(components)\n",
    "distances, indices = nbrs.kneighbors(components)"
   ]
  },
  {
   "cell_type": "markdown",
   "metadata": {},
   "source": [
    "Now that we have the nearest neighbors indices, we are ready to create our function. (Both the *fifa* dataframe and the *indices* numpy array are accessible in the scope of the following function.)"
   ]
  },
  {
   "cell_type": "code",
   "execution_count": 51,
   "metadata": {
    "collapsed": true
   },
   "outputs": [],
   "source": [
    "def similar_players(player):\n",
    "    #First let's make sure there is exactly one player with the matching name\n",
    "    if fifa[fifa.name==player].size==0:\n",
    "        print('No player by that name.')\n",
    "        return\n",
    "    elif fifa[fifa.name==player].shape[0]>1:\n",
    "        print('Multiple players by that name, sorry.')\n",
    "        return\n",
    "    #First we get the index of the player\n",
    "    idx = fifa[fifa.name==player].index[0]\n",
    "    #Get the indices of the 5 neighbors\n",
    "    n_idx = indices[idx,1:]\n",
    "    #Subset the fifa dataframe\n",
    "    fifa_similar = fifa.iloc[n_idx]\n",
    "    #Print out the results\n",
    "    display(fifa_similar.loc[:,['name', 'club', 'league', 'nationality', 'Position']])\n",
    "    "
   ]
  },
  {
   "cell_type": "markdown",
   "metadata": {},
   "source": [
    "Now it's time to try it out. Even though we didn't pass in information about the players’ position, it stands to reason that the most similar players would have similar roles. Let's try the function with a few players."
   ]
  },
  {
   "cell_type": "code",
   "execution_count": 52,
   "metadata": {},
   "outputs": [
    {
     "data": {
      "text/html": [
       "<div>\n",
       "<style>\n",
       "    .dataframe thead tr:only-child th {\n",
       "        text-align: right;\n",
       "    }\n",
       "\n",
       "    .dataframe thead th {\n",
       "        text-align: left;\n",
       "    }\n",
       "\n",
       "    .dataframe tbody tr th {\n",
       "        vertical-align: top;\n",
       "    }\n",
       "</style>\n",
       "<table border=\"1\" class=\"dataframe\">\n",
       "  <thead>\n",
       "    <tr style=\"text-align: right;\">\n",
       "      <th></th>\n",
       "      <th>name</th>\n",
       "      <th>club</th>\n",
       "      <th>league</th>\n",
       "      <th>nationality</th>\n",
       "      <th>Position</th>\n",
       "    </tr>\n",
       "  </thead>\n",
       "  <tbody>\n",
       "    <tr>\n",
       "      <th>551</th>\n",
       "      <td>A. Romagnoli</td>\n",
       "      <td>Milan</td>\n",
       "      <td>Italian Serie A</td>\n",
       "      <td>Italy</td>\n",
       "      <td>Center-back</td>\n",
       "    </tr>\n",
       "    <tr>\n",
       "      <th>370</th>\n",
       "      <td>D. Astori</td>\n",
       "      <td>Fiorentina</td>\n",
       "      <td>Italian Serie A</td>\n",
       "      <td>Italy</td>\n",
       "      <td>Center-back</td>\n",
       "    </tr>\n",
       "    <tr>\n",
       "      <th>303</th>\n",
       "      <td>D. Sánchez</td>\n",
       "      <td>Tottenham Hotspur</td>\n",
       "      <td>English Premier League</td>\n",
       "      <td>Colombia</td>\n",
       "      <td>Center-back</td>\n",
       "    </tr>\n",
       "    <tr>\n",
       "      <th>417</th>\n",
       "      <td>M. Nastasić</td>\n",
       "      <td>FC Schalke 04</td>\n",
       "      <td>German Bundesliga</td>\n",
       "      <td>Serbia</td>\n",
       "      <td>Center-back</td>\n",
       "    </tr>\n",
       "    <tr>\n",
       "      <th>219</th>\n",
       "      <td>A. Rüdiger</td>\n",
       "      <td>Chelsea</td>\n",
       "      <td>English Premier League</td>\n",
       "      <td>Germany</td>\n",
       "      <td>Center-back</td>\n",
       "    </tr>\n",
       "  </tbody>\n",
       "</table>\n",
       "</div>"
      ],
      "text/plain": [
       "             name               club                  league nationality  \\\n",
       "551  A. Romagnoli              Milan         Italian Serie A       Italy   \n",
       "370     D. Astori         Fiorentina         Italian Serie A       Italy   \n",
       "303    D. Sánchez  Tottenham Hotspur  English Premier League    Colombia   \n",
       "417   M. Nastasić      FC Schalke 04       German Bundesliga      Serbia   \n",
       "219    A. Rüdiger            Chelsea  English Premier League     Germany   \n",
       "\n",
       "        Position  \n",
       "551  Center-back  \n",
       "370  Center-back  \n",
       "303  Center-back  \n",
       "417  Center-back  \n",
       "219  Center-back  "
      ]
     },
     "metadata": {},
     "output_type": "display_data"
    }
   ],
   "source": [
    "#My favorite defender, John Brooks\n",
    "similar_players('J. Brooks')"
   ]
  },
  {
   "cell_type": "code",
   "execution_count": 53,
   "metadata": {},
   "outputs": [
    {
     "data": {
      "text/html": [
       "<div>\n",
       "<style>\n",
       "    .dataframe thead tr:only-child th {\n",
       "        text-align: right;\n",
       "    }\n",
       "\n",
       "    .dataframe thead th {\n",
       "        text-align: left;\n",
       "    }\n",
       "\n",
       "    .dataframe tbody tr th {\n",
       "        vertical-align: top;\n",
       "    }\n",
       "</style>\n",
       "<table border=\"1\" class=\"dataframe\">\n",
       "  <thead>\n",
       "    <tr style=\"text-align: right;\">\n",
       "      <th></th>\n",
       "      <th>name</th>\n",
       "      <th>club</th>\n",
       "      <th>league</th>\n",
       "      <th>nationality</th>\n",
       "      <th>Position</th>\n",
       "    </tr>\n",
       "  </thead>\n",
       "  <tbody>\n",
       "    <tr>\n",
       "      <th>1484</th>\n",
       "      <td>Daniel Podence</td>\n",
       "      <td>Sporting CP</td>\n",
       "      <td>Portuguese Primeira Liga</td>\n",
       "      <td>Portugal</td>\n",
       "      <td>Forward</td>\n",
       "    </tr>\n",
       "    <tr>\n",
       "      <th>1207</th>\n",
       "      <td>L. Bailey</td>\n",
       "      <td>Bayer 04 Leverkusen</td>\n",
       "      <td>German Bundesliga</td>\n",
       "      <td>Jamaica</td>\n",
       "      <td>Outside-mid</td>\n",
       "    </tr>\n",
       "    <tr>\n",
       "      <th>835</th>\n",
       "      <td>L. Acosta</td>\n",
       "      <td>Club Atlético Lanús</td>\n",
       "      <td>Argentinian Superliga</td>\n",
       "      <td>Argentina</td>\n",
       "      <td>Outside-mid</td>\n",
       "    </tr>\n",
       "    <tr>\n",
       "      <th>1009</th>\n",
       "      <td>J. Aquino</td>\n",
       "      <td>Tigres U.A.N.L.</td>\n",
       "      <td>Mexican Liga MX</td>\n",
       "      <td>Mexico</td>\n",
       "      <td>Outside-mid</td>\n",
       "    </tr>\n",
       "    <tr>\n",
       "      <th>3303</th>\n",
       "      <td>B. Fernández</td>\n",
       "      <td>FC Metz</td>\n",
       "      <td>French Ligue 1</td>\n",
       "      <td>Argentina</td>\n",
       "      <td>Forward</td>\n",
       "    </tr>\n",
       "  </tbody>\n",
       "</table>\n",
       "</div>"
      ],
      "text/plain": [
       "                name                 club                    league  \\\n",
       "1484  Daniel Podence          Sporting CP  Portuguese Primeira Liga   \n",
       "1207       L. Bailey  Bayer 04 Leverkusen         German Bundesliga   \n",
       "835        L. Acosta  Club Atlético Lanús     Argentinian Superliga   \n",
       "1009       J. Aquino      Tigres U.A.N.L.           Mexican Liga MX   \n",
       "3303    B. Fernández              FC Metz            French Ligue 1   \n",
       "\n",
       "     nationality     Position  \n",
       "1484    Portugal      Forward  \n",
       "1207     Jamaica  Outside-mid  \n",
       "835    Argentina  Outside-mid  \n",
       "1009      Mexico  Outside-mid  \n",
       "3303   Argentina      Forward  "
      ]
     },
     "metadata": {},
     "output_type": "display_data"
    }
   ],
   "source": [
    "#Best American prospect, Christian Pulisic\n",
    "similar_players('C. Pulisic')"
   ]
  },
  {
   "cell_type": "code",
   "execution_count": 54,
   "metadata": {},
   "outputs": [
    {
     "data": {
      "text/html": [
       "<div>\n",
       "<style>\n",
       "    .dataframe thead tr:only-child th {\n",
       "        text-align: right;\n",
       "    }\n",
       "\n",
       "    .dataframe thead th {\n",
       "        text-align: left;\n",
       "    }\n",
       "\n",
       "    .dataframe tbody tr th {\n",
       "        vertical-align: top;\n",
       "    }\n",
       "</style>\n",
       "<table border=\"1\" class=\"dataframe\">\n",
       "  <thead>\n",
       "    <tr style=\"text-align: right;\">\n",
       "      <th></th>\n",
       "      <th>name</th>\n",
       "      <th>club</th>\n",
       "      <th>league</th>\n",
       "      <th>nationality</th>\n",
       "      <th>Position</th>\n",
       "    </tr>\n",
       "  </thead>\n",
       "  <tbody>\n",
       "    <tr>\n",
       "      <th>584</th>\n",
       "      <td>Y. Konoplyanka</td>\n",
       "      <td>FC Schalke 04</td>\n",
       "      <td>German Bundesliga</td>\n",
       "      <td>Ukraine</td>\n",
       "      <td>Outside-mid</td>\n",
       "    </tr>\n",
       "    <tr>\n",
       "      <th>560</th>\n",
       "      <td>E. Višća</td>\n",
       "      <td>İstanbul Başakşehir FK</td>\n",
       "      <td>Turkish Süper Lig</td>\n",
       "      <td>Bosnia Herzegovina</td>\n",
       "      <td>Outside-mid</td>\n",
       "    </tr>\n",
       "    <tr>\n",
       "      <th>965</th>\n",
       "      <td>Y. Salibur</td>\n",
       "      <td>En Avant de Guingamp</td>\n",
       "      <td>French Ligue 1</td>\n",
       "      <td>France</td>\n",
       "      <td>Outside-mid</td>\n",
       "    </tr>\n",
       "    <tr>\n",
       "      <th>607</th>\n",
       "      <td>A. Ljajić</td>\n",
       "      <td>Torino</td>\n",
       "      <td>Italian Serie A</td>\n",
       "      <td>Serbia</td>\n",
       "      <td>Center-mid</td>\n",
       "    </tr>\n",
       "    <tr>\n",
       "      <th>1989</th>\n",
       "      <td>M. Oršić</td>\n",
       "      <td>Ulsan Hyundai Horang-i</td>\n",
       "      <td>Korean K League Classic</td>\n",
       "      <td>Croatia</td>\n",
       "      <td>Outside-mid</td>\n",
       "    </tr>\n",
       "  </tbody>\n",
       "</table>\n",
       "</div>"
      ],
      "text/plain": [
       "                name                    club                   league  \\\n",
       "584   Y. Konoplyanka           FC Schalke 04        German Bundesliga   \n",
       "560         E. Višća  İstanbul Başakşehir FK        Turkish Süper Lig   \n",
       "965       Y. Salibur    En Avant de Guingamp           French Ligue 1   \n",
       "607        A. Ljajić                  Torino          Italian Serie A   \n",
       "1989        M. Oršić  Ulsan Hyundai Horang-i  Korean K League Classic   \n",
       "\n",
       "             nationality     Position  \n",
       "584              Ukraine  Outside-mid  \n",
       "560   Bosnia Herzegovina  Outside-mid  \n",
       "965               France  Outside-mid  \n",
       "607               Serbia   Center-mid  \n",
       "1989             Croatia  Outside-mid  "
      ]
     },
     "metadata": {},
     "output_type": "display_data"
    }
   ],
   "source": [
    "#Best player on the LA Galaxy (imo)\n",
    "similar_players('R. Alessandrini')"
   ]
  },
  {
   "cell_type": "code",
   "execution_count": 55,
   "metadata": {},
   "outputs": [
    {
     "data": {
      "text/html": [
       "<div>\n",
       "<style>\n",
       "    .dataframe thead tr:only-child th {\n",
       "        text-align: right;\n",
       "    }\n",
       "\n",
       "    .dataframe thead th {\n",
       "        text-align: left;\n",
       "    }\n",
       "\n",
       "    .dataframe tbody tr th {\n",
       "        vertical-align: top;\n",
       "    }\n",
       "</style>\n",
       "<table border=\"1\" class=\"dataframe\">\n",
       "  <thead>\n",
       "    <tr style=\"text-align: right;\">\n",
       "      <th></th>\n",
       "      <th>name</th>\n",
       "      <th>club</th>\n",
       "      <th>league</th>\n",
       "      <th>nationality</th>\n",
       "      <th>Position</th>\n",
       "    </tr>\n",
       "  </thead>\n",
       "  <tbody>\n",
       "    <tr>\n",
       "      <th>301</th>\n",
       "      <td>Malcom</td>\n",
       "      <td>Girondins de Bordeaux</td>\n",
       "      <td>French Ligue 1</td>\n",
       "      <td>Brazil</td>\n",
       "      <td>Outside-mid</td>\n",
       "    </tr>\n",
       "    <tr>\n",
       "      <th>354</th>\n",
       "      <td>R. Boudebouz</td>\n",
       "      <td>Real Betis Balompié</td>\n",
       "      <td>Spanish Primera División</td>\n",
       "      <td>Algeria</td>\n",
       "      <td>Center-mid</td>\n",
       "    </tr>\n",
       "    <tr>\n",
       "      <th>434</th>\n",
       "      <td>Pablo Sarabia</td>\n",
       "      <td>Sevilla FC</td>\n",
       "      <td>Spanish Primera División</td>\n",
       "      <td>Spain</td>\n",
       "      <td>Center-mid</td>\n",
       "    </tr>\n",
       "    <tr>\n",
       "      <th>607</th>\n",
       "      <td>A. Ljajić</td>\n",
       "      <td>Torino</td>\n",
       "      <td>Italian Serie A</td>\n",
       "      <td>Serbia</td>\n",
       "      <td>Center-mid</td>\n",
       "    </tr>\n",
       "    <tr>\n",
       "      <th>206</th>\n",
       "      <td>F. Bernardeschi</td>\n",
       "      <td>Juventus</td>\n",
       "      <td>Italian Serie A</td>\n",
       "      <td>Italy</td>\n",
       "      <td>Forward</td>\n",
       "    </tr>\n",
       "  </tbody>\n",
       "</table>\n",
       "</div>"
      ],
      "text/plain": [
       "                name                   club                    league  \\\n",
       "301           Malcom  Girondins de Bordeaux            French Ligue 1   \n",
       "354     R. Boudebouz    Real Betis Balompié  Spanish Primera División   \n",
       "434    Pablo Sarabia             Sevilla FC  Spanish Primera División   \n",
       "607        A. Ljajić                 Torino           Italian Serie A   \n",
       "206  F. Bernardeschi               Juventus           Italian Serie A   \n",
       "\n",
       "    nationality     Position  \n",
       "301      Brazil  Outside-mid  \n",
       "354     Algeria   Center-mid  \n",
       "434       Spain   Center-mid  \n",
       "607      Serbia   Center-mid  \n",
       "206       Italy      Forward  "
      ]
     },
     "metadata": {},
     "output_type": "display_data"
    }
   ],
   "source": [
    "#Best player in MLS\n",
    "similar_players('S. Giovinco')"
   ]
  },
  {
   "cell_type": "code",
   "execution_count": 56,
   "metadata": {},
   "outputs": [
    {
     "data": {
      "text/html": [
       "<div>\n",
       "<style>\n",
       "    .dataframe thead tr:only-child th {\n",
       "        text-align: right;\n",
       "    }\n",
       "\n",
       "    .dataframe thead th {\n",
       "        text-align: left;\n",
       "    }\n",
       "\n",
       "    .dataframe tbody tr th {\n",
       "        vertical-align: top;\n",
       "    }\n",
       "</style>\n",
       "<table border=\"1\" class=\"dataframe\">\n",
       "  <thead>\n",
       "    <tr style=\"text-align: right;\">\n",
       "      <th></th>\n",
       "      <th>name</th>\n",
       "      <th>club</th>\n",
       "      <th>league</th>\n",
       "      <th>nationality</th>\n",
       "      <th>Position</th>\n",
       "    </tr>\n",
       "  </thead>\n",
       "  <tbody>\n",
       "    <tr>\n",
       "      <th>3</th>\n",
       "      <td>L. Suárez</td>\n",
       "      <td>FC Barcelona</td>\n",
       "      <td>Spanish Primera División</td>\n",
       "      <td>Uruguay</td>\n",
       "      <td>Forward</td>\n",
       "    </tr>\n",
       "    <tr>\n",
       "      <th>5</th>\n",
       "      <td>R. Lewandowski</td>\n",
       "      <td>FC Bayern Munich</td>\n",
       "      <td>German Bundesliga</td>\n",
       "      <td>Poland</td>\n",
       "      <td>Forward</td>\n",
       "    </tr>\n",
       "    <tr>\n",
       "      <th>16</th>\n",
       "      <td>S. Agüero</td>\n",
       "      <td>Manchester City</td>\n",
       "      <td>English Premier League</td>\n",
       "      <td>Argentina</td>\n",
       "      <td>Forward</td>\n",
       "    </tr>\n",
       "    <tr>\n",
       "      <th>1</th>\n",
       "      <td>L. Messi</td>\n",
       "      <td>FC Barcelona</td>\n",
       "      <td>Spanish Primera División</td>\n",
       "      <td>Argentina</td>\n",
       "      <td>Forward</td>\n",
       "    </tr>\n",
       "    <tr>\n",
       "      <th>13</th>\n",
       "      <td>A. Sánchez</td>\n",
       "      <td>Arsenal</td>\n",
       "      <td>English Premier League</td>\n",
       "      <td>Chile</td>\n",
       "      <td>Forward</td>\n",
       "    </tr>\n",
       "  </tbody>\n",
       "</table>\n",
       "</div>"
      ],
      "text/plain": [
       "              name              club                    league nationality  \\\n",
       "3        L. Suárez      FC Barcelona  Spanish Primera División     Uruguay   \n",
       "5   R. Lewandowski  FC Bayern Munich         German Bundesliga      Poland   \n",
       "16       S. Agüero   Manchester City    English Premier League   Argentina   \n",
       "1         L. Messi      FC Barcelona  Spanish Primera División   Argentina   \n",
       "13      A. Sánchez           Arsenal    English Premier League       Chile   \n",
       "\n",
       "   Position  \n",
       "3   Forward  \n",
       "5   Forward  \n",
       "16  Forward  \n",
       "1   Forward  \n",
       "13  Forward  "
      ]
     },
     "metadata": {},
     "output_type": "display_data"
    }
   ],
   "source": [
    "#According to EA, the best player in the world\n",
    "similar_players('Cristiano Ronaldo')"
   ]
  },
  {
   "cell_type": "code",
   "execution_count": 57,
   "metadata": {},
   "outputs": [
    {
     "data": {
      "text/html": [
       "<div>\n",
       "<style>\n",
       "    .dataframe thead tr:only-child th {\n",
       "        text-align: right;\n",
       "    }\n",
       "\n",
       "    .dataframe thead th {\n",
       "        text-align: left;\n",
       "    }\n",
       "\n",
       "    .dataframe tbody tr th {\n",
       "        vertical-align: top;\n",
       "    }\n",
       "</style>\n",
       "<table border=\"1\" class=\"dataframe\">\n",
       "  <thead>\n",
       "    <tr style=\"text-align: right;\">\n",
       "      <th></th>\n",
       "      <th>name</th>\n",
       "      <th>club</th>\n",
       "      <th>league</th>\n",
       "      <th>nationality</th>\n",
       "      <th>Position</th>\n",
       "    </tr>\n",
       "  </thead>\n",
       "  <tbody>\n",
       "    <tr>\n",
       "      <th>983</th>\n",
       "      <td>D. Benaglio</td>\n",
       "      <td>AS Monaco</td>\n",
       "      <td>French Ligue 1</td>\n",
       "      <td>Switzerland</td>\n",
       "      <td>GK</td>\n",
       "    </tr>\n",
       "    <tr>\n",
       "      <th>673</th>\n",
       "      <td>I. Akinfeev</td>\n",
       "      <td>CSKA Moscow</td>\n",
       "      <td>Russian Premier League</td>\n",
       "      <td>Russia</td>\n",
       "      <td>GK</td>\n",
       "    </tr>\n",
       "    <tr>\n",
       "      <th>680</th>\n",
       "      <td>G. Ochoa</td>\n",
       "      <td>Standard de Liège</td>\n",
       "      <td>Belgian First Division A</td>\n",
       "      <td>Mexico</td>\n",
       "      <td>GK</td>\n",
       "    </tr>\n",
       "    <tr>\n",
       "      <th>384</th>\n",
       "      <td>C. Carrasso</td>\n",
       "      <td>Galatasaray SK</td>\n",
       "      <td>Turkish Süper Lig</td>\n",
       "      <td>France</td>\n",
       "      <td>GK</td>\n",
       "    </tr>\n",
       "    <tr>\n",
       "      <th>872</th>\n",
       "      <td>N. Guzmán</td>\n",
       "      <td>Tigres U.A.N.L.</td>\n",
       "      <td>Mexican Liga MX</td>\n",
       "      <td>Argentina</td>\n",
       "      <td>GK</td>\n",
       "    </tr>\n",
       "  </tbody>\n",
       "</table>\n",
       "</div>"
      ],
      "text/plain": [
       "            name               club                    league  nationality  \\\n",
       "983  D. Benaglio          AS Monaco            French Ligue 1  Switzerland   \n",
       "673  I. Akinfeev        CSKA Moscow    Russian Premier League       Russia   \n",
       "680     G. Ochoa  Standard de Liège  Belgian First Division A       Mexico   \n",
       "384  C. Carrasso     Galatasaray SK         Turkish Süper Lig       France   \n",
       "872    N. Guzmán    Tigres U.A.N.L.           Mexican Liga MX    Argentina   \n",
       "\n",
       "    Position  \n",
       "983       GK  \n",
       "673       GK  \n",
       "680       GK  \n",
       "384       GK  \n",
       "872       GK  "
      ]
     },
     "metadata": {},
     "output_type": "display_data"
    }
   ],
   "source": [
    "#American GK, hero of the 2016 WC\n",
    "similar_players('T. Howard')"
   ]
  },
  {
   "cell_type": "markdown",
   "metadata": {},
   "source": [
    "While not perfect, this is a fun function that can help fans discover new players. For example, next time the EPL is on TV, I'll keep a lookout for Davinson Sánchez, a Colombian CB for Tottenham Hotspur, since he apparently is a top match for my favorite defender, John Brooks."
   ]
  }
 ],
 "metadata": {
  "kernelspec": {
   "display_name": "Python 3",
   "language": "python",
   "name": "python3"
  },
  "language_info": {
   "codemirror_mode": {
    "name": "ipython",
    "version": 3
   },
   "file_extension": ".py",
   "mimetype": "text/x-python",
   "name": "python",
   "nbconvert_exporter": "python",
   "pygments_lexer": "ipython3",
   "version": "3.6.3"
  }
 },
 "nbformat": 4,
 "nbformat_minor": 2
}
