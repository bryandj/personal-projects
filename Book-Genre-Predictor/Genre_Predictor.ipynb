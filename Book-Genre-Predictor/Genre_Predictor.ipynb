{
 "cells": [
  {
   "cell_type": "markdown",
   "metadata": {},
   "source": [
    "\n",
    "# <center>Book Genre Predictor</center>\n",
    "\n",
    "## Introduction\n",
    "In this mini-project, we're going to use word-count frequencies from a variety of books (with labeled genres) to build a book genre predicting engine. The content in this mini-project was inspired by DataCamp's project *Word frequency in Moby Dick* and DataCamp's course *Unsupervised Learning in Python*.\n",
    "\n",
    "For the source of our books, we will be using [Project Gutenberg](http://www.gutenberg.org/), a fantastic website that offers over 56,000 free books for which copyright has expired (as such, these will generally be relatively old books). In the [terms of use](http://www.gutenberg.org/wiki/Gutenberg:Terms_of_Use), the website states that Project Gutenberg is intended for human users only; please don't use a crawler to directly download a massive amount of books--the bandwidth is expensive. Before seeing the ToS, I started writing a script that would download books for me and received a temporary IP ban, so I will not be providing any of that code here. Because of this, we will use only a small number books for both the training set and the test set.\n",
    "\n",
    "## Approach\n",
    "The overall plan is as follows:\n",
    "* **Gather books** We will obtain 5 books for each of 6 genres.\n",
    "* **Format books** To properly format the books, we first combine the 5 books per genre into one large file. We then extract all the individual words from the file, convert to lowercase, and remove common *stopwords*.\n",
    "* **TF-IDF** [(Term frequency-inverse document frequency)](https://en.wikipedia.org/wiki/Tf%E2%80%93idf) This step is equivalent to a count vectorizer followed by a TFIDF transform.\n",
    "* **NMF** [(Non-negative matrix factorization)](https://en.wikipedia.org/wiki/Non-negative_matrix_factorization) In this step, we reduce the massive dimensionality of the TF-IDF matrix to a very small feature matrix.\n",
    "* **Compute Similarity** Finally, we compute the similarity between the book of choice and the genres respective normalized features.\n",
    "\n",
    "Note that we will tie the final three steps all together in a function along with the test book.\n",
    "\n",
    "## Gather Books\n",
    "I have chosen 3 non-fiction and 3 fiction genres. We will use 5 books from each of these genres to build the vocabulary list. No author will have more than 1 book in the training set.\n",
    "\n",
    "**Classic Fiction**\n",
    "* \"Pride and Prejudice\" by Jane Austen\n",
    "* \"A Tale of Two Cities\" by Charles Dickens\n",
    "* \"Adventures of Huckleberry Finn\" by Mark Twain\n",
    "* \"Moby Dick; Or, The Whale\" by Herman Melville\n",
    "* \"Ulysses\" by James Joyce\n",
    "\n",
    "\n",
    "**Science Fiction**\n",
    "* \"The Time Machine\" by H. G. Wells\n",
    "* \"2 B R 0 2 B\" by Kurt Vonnegut\n",
    "* \"Second Variety\" by Philip K. Dick\n",
    "* \"Youth\" by Isaac Asimov\n",
    "* \"In the Year 2889\" by Jules Verne and Michel Verne\n",
    "\n",
    "\n",
    "**Crime**\n",
    "* \"Dead Men Tell No Tales\" by E. W. Hornung\n",
    "* \"Murder in the Gunroom\" by H. Beam Piper\n",
    "* \"Arsene Lupin\" by Maurice Leblanc\n",
    "* \"The Amateur Cracksman\" by E. W. Hornung\n",
    "* \"An African Millionaire: Episodes in the Life of the Illustrious Colonel Clay\" by Grant Allen\n",
    "\n",
    "\n",
    "**Politics**\n",
    "* \"Leviathan\" by Thomas Hobbes\n",
    "* \"The Communist Manifesto\" by Friedrich Engels and Karl Marx\n",
    "* \"Second Treatise of Government\" by John Locke\n",
    "* \"Utopia\" by Saint Thomas More\n",
    "* \"The Declaration of Independence of The United States of America\" by Thomas Jefferson\n",
    "\n",
    "\n",
    "**Biography**\n",
    "* \"Real Soldiers of Fortune\" by Richard Harding Davis\n",
    "* \"Queen Victoria\" by Lytton Strachey\n",
    "* \"The Every-day Life of Abraham Lincoln\" by Francis F. Browne\n",
    "* \"Famous Men of the Middle Ages\" by John H. Haaren and Addison B. Poland\n",
    "* \"Susan B. Anthony\" by Alma Lutz\n",
    "\n",
    "\n",
    "**Mathematics/Science**\n",
    "* \"The Meaning of Relativity by Albert Einstein\n",
    "* \"An Investigation of the Laws of Thought\" by George Boole\n",
    "* \"Flatland: A Romance of Many Dimensions\" by Edwin Abbott Abbott\n",
    "* \"A Treatise on Probability\" by John Maynard Keynes\n",
    "* \"On the Study and Difficulties of Mathematics\" by Augustus De Morgan\n",
    "\n",
    "It is difficult to get a good representation of a genre with only 5 books. When possible, I have chosen books from different time frames concerning different subjects. Also note that books do not solely belong to just one genre, thus making this classification problem a little muddier.\n",
    "\n",
    "We will be referring to the books by their ID number in Project Gutenberg."
   ]
  },
  {
   "cell_type": "code",
   "execution_count": 1,
   "metadata": {
    "collapsed": true
   },
   "outputs": [],
   "source": [
    "genres_dict = {'Classic Fiction':['1342','98','76','2701','4300'],\n",
    "               'Science Fiction':['35','21279','32032','31547','19362'],\n",
    "               'Crime':['1703','17866','4014','706','4715'],\n",
    "               'Politics':['3207','61','16780','7370','2130'],\n",
    "               'Biography':['3029','1265','14004','3725','20439'],\n",
    "               'Mathematics':['36276','15114','97','32625','39088']}"
   ]
  },
  {
   "cell_type": "markdown",
   "metadata": {},
   "source": [
    "Let's create a function that outputs a list with the correct filenames for each book to make reading them in easier."
   ]
  },
  {
   "cell_type": "code",
   "execution_count": 2,
   "metadata": {
    "collapsed": true
   },
   "outputs": [],
   "source": [
    "def file_namer(genre):\n",
    "    tmp_list=[]\n",
    "    for idx in genres_dict[genre]:\n",
    "        filename = 'books/' + idx + '.txt'\n",
    "        tmp_list.append(filename)\n",
    "    return tmp_list\n",
    "    \n",
    "classic_files = file_namer('Classic Fiction')\n",
    "science_files = file_namer('Science Fiction')\n",
    "crime_files = file_namer('Crime')\n",
    "politics_files = file_namer('Politics')\n",
    "bio_files = file_namer('Biography')\n",
    "math_files = file_namer('Mathematics')"
   ]
  },
  {
   "cell_type": "markdown",
   "metadata": {},
   "source": [
    "Similarly, let's write and use a function to combine the files into a single text file for each genre."
   ]
  },
  {
   "cell_type": "code",
   "execution_count": 3,
   "metadata": {
    "collapsed": true
   },
   "outputs": [],
   "source": [
    "def combine_files(genre_files, name):\n",
    "    output_file = 'books_combined/' + name + '.txt'\n",
    "    with open(output_file, 'w') as outfile:\n",
    "        for fname in genre_files:\n",
    "            with open(fname) as infile:\n",
    "                outfile.write(infile.read())\n",
    "                \n",
    "combine_files(classic_files, 'classic_texts')\n",
    "combine_files(science_files, 'scifi_texts')\n",
    "combine_files(crime_files, 'crime_texts')\n",
    "combine_files(politics_files, 'politics_texts')\n",
    "combine_files(bio_files, 'bio_texts')\n",
    "combine_files(math_files, 'math_texts')"
   ]
  },
  {
   "cell_type": "markdown",
   "metadata": {},
   "source": [
    "## Format Books\n",
    "Now that we have the books within each genre combined, it's time to extract the words. We write the following function to perform a number of tasks. First, it extracts just the alpha-numeric words. Second, it makes all cases lowercase (we don't want to treat a words differently solely because it appeared at the beginning of a sentence). Third, it eliminates any *stopwords*--as defined in the nltk library--which consist of 179 common words such as *me* and *is* which don't add much to the context. Removing these words can help to eliminate bias introduced from a specific writer's writing style. Lastly, since we manually copied/pasted the text from plain text UTF-8 encoding, there are plenty of underscores to indicate italics and other special fonts."
   ]
  },
  {
   "cell_type": "code",
   "execution_count": 4,
   "metadata": {},
   "outputs": [
    {
     "name": "stdout",
     "output_type": "stream",
     "text": [
      "[nltk_data] Downloading package stopwords to\n",
      "[nltk_data]     C:\\Users\\cscho\\AppData\\Roaming\\nltk_data...\n",
      "[nltk_data]   Package stopwords is already up-to-date!\n"
     ]
    }
   ],
   "source": [
    "import nltk\n",
    "from nltk.corpus import stopwords\n",
    "nltk.download('stopwords')\n",
    "sw = stopwords.words('english')\n",
    "\n",
    "def clean_tokenize(filename):\n",
    "    tokenizer = nltk.tokenize.RegexpTokenizer('\\w+')\n",
    "    with open (filename) as fin:\n",
    "        tokens = tokenizer.tokenize(fin.read())\n",
    "    words = []\n",
    "    for word in tokens:\n",
    "        words.append(word.lower())\n",
    "    words_ns = []\n",
    "    for word in words:\n",
    "        if word not in sw:\n",
    "            words_ns.append(word)\n",
    "    words_final = list(map(lambda x:x.strip('_'), words_ns))\n",
    "    return words_final\n",
    "\n",
    "classic_tokens = clean_tokenize('books_combined/classic_texts.txt')\n",
    "scifi_tokens = clean_tokenize('books_combined/scifi_texts.txt')\n",
    "crime_tokens = clean_tokenize('books_combined/crime_texts.txt')\n",
    "politics_tokens = clean_tokenize('books_combined/politics_texts.txt')\n",
    "bio_tokens = clean_tokenize('books_combined/bio_texts.txt')\n",
    "math_tokens = clean_tokenize('books_combined/math_texts.txt')"
   ]
  },
  {
   "cell_type": "markdown",
   "metadata": {},
   "source": [
    "Before building the genre predictor, let's investigate the data a bit. First, we print out the size of each of the token list and the size of the unique tokens."
   ]
  },
  {
   "cell_type": "code",
   "execution_count": 5,
   "metadata": {},
   "outputs": [
    {
     "name": "stdout",
     "output_type": "stream",
     "text": [
      "424409\n"
     ]
    }
   ],
   "source": [
    "print(len(classic_tokens))"
   ]
  },
  {
   "cell_type": "code",
   "execution_count": 6,
   "metadata": {},
   "outputs": [
    {
     "name": "stdout",
     "output_type": "stream",
     "text": [
      "39684\n"
     ]
    }
   ],
   "source": [
    "print(len(set(classic_tokens)))"
   ]
  },
  {
   "cell_type": "markdown",
   "metadata": {},
   "source": [
    "In our 5 classic fiction novels, there are a total of 424,409 total words, with 39,684 unique words. Let's take a look at the 25 most frequent words."
   ]
  },
  {
   "cell_type": "code",
   "execution_count": 7,
   "metadata": {},
   "outputs": [
    {
     "data": {
      "image/png": "[encoded data removed]",
      "text/plain": [
       "<matplotlib.figure.Figure at 0x1e71580ffd0>"
      ]
     },
     "metadata": {},
     "output_type": "display_data"
    }
   ],
   "source": [
    "freqdist = nltk.FreqDist(classic_tokens)\n",
    "freqdist.plot(25)"
   ]
  },
  {
   "cell_type": "markdown",
   "metadata": {
    "collapsed": true
   },
   "source": [
    "It is apparent that using 5 books as a representation of a genre probably isn't sufficient. Observe that *whale* is the 17th most frequent word, obviously overfitting to Moby Dick. This is problematic because any book that deals with whales will be categorized as classic fiction. Getting a much larger set of books for the training set would solve this issue.\n",
    "\n",
    "Let's explore the top 25 words for a few other genres."
   ]
  },
  {
   "cell_type": "code",
   "execution_count": 8,
   "metadata": {},
   "outputs": [
    {
     "data": {
      "image/png": "[encoded data removed]",
      "text/plain": [
       "<matplotlib.figure.Figure at 0x1e71b6aa1d0>"
      ]
     },
     "metadata": {},
     "output_type": "display_data"
    }
   ],
   "source": [
    "freqdist = nltk.FreqDist(politics_tokens)\n",
    "freqdist.plot(25)"
   ]
  },
  {
   "cell_type": "code",
   "execution_count": 9,
   "metadata": {},
   "outputs": [
    {
     "data": {
      "image/png": "[encoded data removed]",
      "text/plain": [
       "<matplotlib.figure.Figure at 0x1e71b6be9e8>"
      ]
     },
     "metadata": {},
     "output_type": "display_data"
    }
   ],
   "source": [
    "freqdist = nltk.FreqDist(math_tokens)\n",
    "freqdist.plot(25)"
   ]
  },
  {
   "cell_type": "markdown",
   "metadata": {},
   "source": [
    "From a quick glance, the plot for the political genre seems to agree with preconceived notions of political words. The plot for the mathematics genre makes it obvious that we should be able to easily identify these books since they have a large percentage of tokens that are just letters and numbers, specifically *1*, *x*, and *0*.\n",
    "\n",
    "## Predictor\n",
    "Let's first write the function and go through a few of the details before using it."
   ]
  },
  {
   "cell_type": "code",
   "execution_count": 10,
   "metadata": {
    "collapsed": true
   },
   "outputs": [],
   "source": [
    "from sklearn.feature_extraction.text import TfidfVectorizer\n",
    "from sklearn.decomposition import NMF\n",
    "import pandas as pd\n",
    "from sklearn.preprocessing import normalize"
   ]
  },
  {
   "cell_type": "code",
   "execution_count": 11,
   "metadata": {
    "collapsed": true
   },
   "outputs": [],
   "source": [
    "total_strings = [' '.join(classic_tokens),\n",
    "                 ' '.join(scifi_tokens),\n",
    "                 ' '.join(crime_tokens),\n",
    "                 ' '.join(politics_tokens),\n",
    "                 ' '.join(bio_tokens),\n",
    "                 ' '.join(math_tokens),]"
   ]
  },
  {
   "cell_type": "code",
   "execution_count": 12,
   "metadata": {
    "collapsed": true
   },
   "outputs": [],
   "source": [
    "def genre_similarity(filename, title):\n",
    "    cur_token = clean_tokenize(filename)\n",
    "    cur_strings = total_strings.copy()\n",
    "    cur_strings.append(' '.join(cur_token))\n",
    "    \n",
    "    tfidf = TfidfVectorizer()\n",
    "    genre_csr_mat = tfidf.fit_transform(cur_strings)\n",
    "    model = NMF(n_components=3)\n",
    "    model.fit(genre_csr_mat)\n",
    "    nmf_features = model.transform(genre_csr_mat)\n",
    "    norm_features = normalize(nmf_features)\n",
    "    \n",
    "    df = pd.DataFrame(norm_features, index=[*list(genres_dict.keys()), title])\n",
    "    similarities = df.dot(df.loc[title])\n",
    "    print(similarities.nlargest(7))"
   ]
  },
  {
   "cell_type": "markdown",
   "metadata": {},
   "source": [
    "We pass in the filename and desired title of the book whose genre we are predicting. Then, the book is added to the list containing the words of every genre. TfidfVectorizer is used to create the tf-idf matrix (which is stored as a sparse matrix for performance reasons). We run the NMF algorithm on the tf-idf matrix, making sure to normalize the results so that the genres with fewer words aren't overpowered by the other genres solely because of raw word count. Lastly, we take the dot product (representing the cosine similarity) between the normalized NMF features of the book of interest with the normalized NMF features of the genres. The only hyper-parameter in our function is the number of components in the NMF algorithm.\n",
    "\n",
    "The results are printed out in order of most similar genre to least (with the book itself automatically getting 1.0000). The scores are not probabilities, rather, they are a version of the cosine similarity metric, ranging from 0 to 1.\n",
    "\n",
    "As a first test, let's use a mathematics books, which the function should easily be able to identify as such: \"A First Book in Algebra\" by Wallace C. Boyden"
   ]
  },
  {
   "cell_type": "code",
   "execution_count": 13,
   "metadata": {},
   "outputs": [
    {
     "name": "stdout",
     "output_type": "stream",
     "text": [
      "A First Book in Algebra    1.000000\n",
      "Mathematics                0.089910\n",
      "Biography                  0.021788\n",
      "Classic Fiction            0.014969\n",
      "Science Fiction            0.000000\n",
      "Crime                      0.000000\n",
      "Politics                   0.000000\n",
      "dtype: float64\n"
     ]
    }
   ],
   "source": [
    "genre_similarity('books_test/13309.txt', 'A First Book in Algebra')"
   ]
  },
  {
   "cell_type": "markdown",
   "metadata": {},
   "source": [
    "Nice! The function worked great and mathematics is the highest scorer out of all the genres. Let's turn our attention to politics and use \"The Federalist Papers\" by Alexander Hamilton, John Jay, and James Madison."
   ]
  },
  {
   "cell_type": "code",
   "execution_count": 14,
   "metadata": {},
   "outputs": [
    {
     "name": "stdout",
     "output_type": "stream",
     "text": [
      "The Federalist Papers    1.000000\n",
      "Politics                 0.993682\n",
      "Biography                0.769261\n",
      "Classic Fiction          0.158235\n",
      "Mathematics              0.101860\n",
      "Science Fiction          0.001538\n",
      "Crime                    0.000000\n",
      "dtype: float64\n"
     ]
    }
   ],
   "source": [
    "genre_similarity('books_test/18.txt', 'The Federalist Papers')"
   ]
  },
  {
   "cell_type": "markdown",
   "metadata": {},
   "source": [
    "Awesome, there is a very high similarity score with the politics genre. However, one of the 5 training books we used was \"The Declaration of Independence of The United States of America\" by Thomas Jefferson, written around the same time/place as The Federalist Papers. Thus, it is possible that the high similarity is due to the period and not necessarily the subject of the words themselves. For this reason, let's test a much older political document: \"Politics: A Treatise on Government\" by Aristotle"
   ]
  },
  {
   "cell_type": "code",
   "execution_count": 15,
   "metadata": {},
   "outputs": [
    {
     "name": "stdout",
     "output_type": "stream",
     "text": [
      "Politics: A Treatise on Government    1.000000\n",
      "Politics                              0.996311\n",
      "Biography                             0.590749\n",
      "Classic Fiction                       0.180402\n",
      "Mathematics                           0.085821\n",
      "Science Fiction                       0.000465\n",
      "Crime                                 0.000000\n",
      "dtype: float64\n"
     ]
    }
   ],
   "source": [
    "genre_similarity('books_test/6762.txt', 'Politics: A Treatise on Government')"
   ]
  },
  {
   "cell_type": "markdown",
   "metadata": {},
   "source": [
    "Great, once again the function correctly predicted Politics as the genre. Let's now move to the biography genre with: Life of Harriet Beecher Stowe by Harriet Beecher Stowe"
   ]
  },
  {
   "cell_type": "code",
   "execution_count": 16,
   "metadata": {},
   "outputs": [
    {
     "name": "stdout",
     "output_type": "stream",
     "text": [
      "Life of Harriet Beecher Stowe    1.000000\n",
      "Biography                        0.999912\n",
      "Politics                         0.944810\n",
      "Classic Fiction                  0.608663\n",
      "Crime                            0.318949\n",
      "Science Fiction                  0.318933\n",
      "Mathematics                      0.001031\n",
      "dtype: float64\n"
     ]
    }
   ],
   "source": [
    "genre_similarity('books_test/6702.txt', 'Life of Harriet Beecher Stowe')"
   ]
  },
  {
   "cell_type": "markdown",
   "metadata": {},
   "source": [
    "Once again, the function has correctly marked Biography as the most likely genre. It is interesting to note that the Politics genre also got a very high score, which makes sense considering the life of Harriet Beecher Stowe has far reaching implications in the political developments of the time. \n",
    "\n",
    "Let's take a look at some books whose genre is not as clear cut. For example \"The Woman in White\" by Wilkie Collins (1859) is considered one of the earliest mystery books. It has some elements of classic fiction and crime."
   ]
  },
  {
   "cell_type": "code",
   "execution_count": 17,
   "metadata": {},
   "outputs": [
    {
     "name": "stdout",
     "output_type": "stream",
     "text": [
      "The Woman in White    1.000000\n",
      "Science Fiction       0.999861\n",
      "Crime                 0.999849\n",
      "Classic Fiction       0.980024\n",
      "Biography             0.600952\n",
      "Mathematics           0.017383\n",
      "Politics              0.000000\n",
      "dtype: float64\n"
     ]
    }
   ],
   "source": [
    "genre_similarity('books_test/583.txt', 'The Woman in White')"
   ]
  },
  {
   "cell_type": "markdown",
   "metadata": {},
   "source": [
    "The results indicate essentially a tie between Science Fiction and Crime, with Classic Fiction right behind them. There aren't really any science fiction elements to the story, so these results miss the mark. Let's try another tricky one. Mary Shelley's \"Frankenstein\" is definitely classic fiction, and has some elements of soft science fiction, although it's closer to gothic fiction or mythology and folk tales."
   ]
  },
  {
   "cell_type": "code",
   "execution_count": 18,
   "metadata": {},
   "outputs": [
    {
     "name": "stdout",
     "output_type": "stream",
     "text": [
      "Frankenstein       1.000000\n",
      "Biography          0.996442\n",
      "Classic Fiction    0.832730\n",
      "Science Fiction    0.742630\n",
      "Crime              0.742630\n",
      "Politics           0.663562\n",
      "Mathematics        0.090482\n",
      "dtype: float64\n"
     ]
    }
   ],
   "source": [
    "genre_similarity('books_test/84.txt', 'Frankenstein')"
   ]
  },
  {
   "cell_type": "markdown",
   "metadata": {},
   "source": [
    "The high biography result is puzzling. However, it makes sense that the science fiction result is relatively low considering that the 5 sci-fi books we choose were by authors such as Asimov and Vonnegut who didn't have monsters in their stories.\n",
    "\n",
    "Lastly, let's see the results for \"Walden, and On The Duty Of Civil Disobedience\" by Henry David Thoreau. This book is an American classic and blends many different genres. Part of it can be classified as a biography since the memoir describes his own experience in nature. Additionally, there is an abundance of philosophy and advice which can blend with certain political ideas."
   ]
  },
  {
   "cell_type": "code",
   "execution_count": 19,
   "metadata": {},
   "outputs": [
    {
     "name": "stdout",
     "output_type": "stream",
     "text": [
      "Walden             1.000000\n",
      "Biography          0.993749\n",
      "Classic Fiction    0.796409\n",
      "Science Fiction    0.707655\n",
      "Crime              0.707655\n",
      "Politics           0.700547\n",
      "Mathematics        0.091967\n",
      "dtype: float64\n"
     ]
    }
   ],
   "source": [
    "genre_similarity('books_test/205.txt', 'Walden')"
   ]
  },
  {
   "cell_type": "markdown",
   "metadata": {},
   "source": [
    "## Afterword\n",
    "In this simple 1-day project, we built a rudimentary genre predictor for books. While the predictor works reasonably well, it can be made much more robust through a number of additional careful considerations and experiments. First, a *much* larger sample size of labeled books would help immensely. Instead of 5 books in each genre, the top 5000 books of each genre would build a much more reliable engine by sufficiently capturing the language of the particular genre. Secondly, with more in-depth machine learning algorithms, we could properly sweep through and optimize the hyper-parameters.\n",
    "\n",
    "Overall, this was a fun and insightful mini-project with thanks owed to Project Guttenberg as well as DataCamp."
   ]
  }
 ],
 "metadata": {
  "kernelspec": {
   "display_name": "Python 3",
   "language": "python",
   "name": "python3"
  },
  "language_info": {
   "codemirror_mode": {
    "name": "ipython",
    "version": 3
   },
   "file_extension": ".py",
   "mimetype": "text/x-python",
   "name": "python",
   "nbconvert_exporter": "python",
   "pygments_lexer": "ipython3",
   "version": "3.6.3"
  }
 },
 "nbformat": 4,
 "nbformat_minor": 2
}
