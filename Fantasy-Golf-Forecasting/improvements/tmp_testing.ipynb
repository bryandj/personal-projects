{
 "cells": [
  {
   "cell_type": "code",
   "execution_count": 1,
   "metadata": {},
   "outputs": [],
   "source": [
    "# %% Reading in and formatting individual stats\n",
    "import pandas as pd\n",
    "\n",
    "df_bog = pd.read_csv('raw_2017/bogey_2017.csv', header=0, index_col='PLAYER NAME', usecols=['PLAYER NAME', 'TOTAL BOGEYS', 'ROUNDS PLAYED'])\n",
    "df_bog = df_bog.rename(index=str, columns={'TOTAL BOGEYS': 'B', 'ROUNDS PLAYED': 'Rounds'})\n",
    "\n",
    "df_db = pd.read_csv('raw_2017/doublebogey_2017.csv', header=0, index_col='PLAYER NAME', usecols=['PLAYER NAME', 'TOTAL BOGEYS AND WORSE'])\n",
    "df_db = df_db.rename(index=str, columns={'TOTAL BOGEYS AND WORSE': 'DBoW'})\n",
    "\n",
    "df_bir3 = pd.read_csv('raw_2017/par3_bird_2017.csv', header=0, index_col='PLAYER NAME', usecols=['PLAYER NAME', 'PAR 3 BIRDIES OR BETTER', 'PAR 3 HOLES'])\n",
    "df_bir3 = df_bir3.rename(index=str, columns={'PAR 3 BIRDIES OR BETTER': 'P3b', 'PAR 3 HOLES': 'P3H'})\n",
    "\n",
    "df_eag4 = pd.read_csv('raw_2017/par4_eag_2017.csv', header=0, index_col='PLAYER NAME', usecols=['PLAYER NAME', 'TOTAL'])\n",
    "df_eag4 = df_eag4.rename(index=str, columns={'TOTAL': 'P4e'})\n",
    "\n",
    "df_bir4 = pd.read_csv('raw_2017/par4_bird_2017.csv', header=0, index_col='PLAYER NAME', usecols=['PLAYER NAME', 'PAR 4 BIRDIES OR BETTER', 'PAR 4 HOLES'])\n",
    "if df_bir4['PAR 4 HOLES'].dtype == 'O':  # need this if the number includes commas and quotes\n",
    "    df_bir4['PAR 4 HOLES'] = df_bir4['PAR 4 HOLES'].str.replace(',', '').astype(float)\n",
    "df_bir4 = df_bir4.rename(index=str, columns={'PAR 4 BIRDIES OR BETTER': 'P4be', 'PAR 4 HOLES': 'P4H'})\n",
    "\n",
    "df_eag5 = pd.read_csv('raw_2017/par5_eag_2017.csv', header=0, index_col='PLAYER NAME', usecols=['PLAYER NAME', 'TOTAL'])\n",
    "df_eag5 = df_eag5.rename(index=str, columns={'TOTAL': 'P5e'})\n",
    "\n",
    "df_bir5 = pd.read_csv('raw_2017/par5_bird_2017.csv', header=0, index_col='PLAYER NAME', usecols=['PLAYER NAME', 'PAR 5 BIRDIES OR BETTER', 'PAR 5 HOLES'])\n",
    "df_bir5 = df_bir5.rename(index=str, columns={'PAR 5 BIRDIES OR BETTER': 'P5be', 'PAR 5 HOLES': 'P5H'})\n",
    "\n",
    "# %% Joining to create overall dataframe\n",
    "# Now I join them all\n",
    "df = df_bog.join(df_db).join(df_bir3).join(df_eag4).join(df_bir4).join(df_eag5).join(df_bir5)\n",
    "df = df.fillna(0)  # this is just for eagle\n",
    "\n",
    "# Now subtract eagles from birdies or better to get just birdies\n",
    "df['P4b'] = df['P4be'].subtract(df['P4e'])\n",
    "df = df.drop('P4be', axis=1)\n",
    "\n",
    "df['P5b'] = df['P5be'].subtract(df['P5e'])\n",
    "df = df.drop('P5be', axis=1)\n",
    "\n",
    "# Now subtract bogeys from bogeys or worse to get double bogeys (or worse)\n",
    "df['DB'] = df['DBoW'].subtract(df['B'])\n",
    "df = df.drop('DBoW', axis=1)"
   ]
  },
  {
   "cell_type": "code",
   "execution_count": 2,
   "metadata": {},
   "outputs": [
    {
     "data": {
      "text/html": [
       "<div>\n",
       "<style scoped>\n",
       "    .dataframe tbody tr th:only-of-type {\n",
       "        vertical-align: middle;\n",
       "    }\n",
       "\n",
       "    .dataframe tbody tr th {\n",
       "        vertical-align: top;\n",
       "    }\n",
       "\n",
       "    .dataframe thead th {\n",
       "        text-align: right;\n",
       "    }\n",
       "</style>\n",
       "<table border=\"1\" class=\"dataframe\">\n",
       "  <thead>\n",
       "    <tr style=\"text-align: right;\">\n",
       "      <th></th>\n",
       "      <th>B</th>\n",
       "      <th>Rounds</th>\n",
       "      <th>P3b</th>\n",
       "      <th>P3H</th>\n",
       "      <th>P4e</th>\n",
       "      <th>P4H</th>\n",
       "      <th>P5e</th>\n",
       "      <th>P5H</th>\n",
       "      <th>P4b</th>\n",
       "      <th>P5b</th>\n",
       "      <th>DB</th>\n",
       "    </tr>\n",
       "    <tr>\n",
       "      <th>PLAYER NAME</th>\n",
       "      <th></th>\n",
       "      <th></th>\n",
       "      <th></th>\n",
       "      <th></th>\n",
       "      <th></th>\n",
       "      <th></th>\n",
       "      <th></th>\n",
       "      <th></th>\n",
       "      <th></th>\n",
       "      <th></th>\n",
       "      <th></th>\n",
       "    </tr>\n",
       "  </thead>\n",
       "  <tbody>\n",
       "    <tr>\n",
       "      <th>Jordan Spieth</th>\n",
       "      <td>160</td>\n",
       "      <td>78</td>\n",
       "      <td>52</td>\n",
       "      <td>309</td>\n",
       "      <td>2.0</td>\n",
       "      <td>867.0</td>\n",
       "      <td>6.0</td>\n",
       "      <td>228</td>\n",
       "      <td>189.0</td>\n",
       "      <td>109.0</td>\n",
       "      <td>21</td>\n",
       "    </tr>\n",
       "    <tr>\n",
       "      <th>Paul Casey</th>\n",
       "      <td>190</td>\n",
       "      <td>90</td>\n",
       "      <td>49</td>\n",
       "      <td>360</td>\n",
       "      <td>3.0</td>\n",
       "      <td>980.0</td>\n",
       "      <td>7.0</td>\n",
       "      <td>280</td>\n",
       "      <td>184.0</td>\n",
       "      <td>115.0</td>\n",
       "      <td>22</td>\n",
       "    </tr>\n",
       "    <tr>\n",
       "      <th>Chad Campbell</th>\n",
       "      <td>211</td>\n",
       "      <td>97</td>\n",
       "      <td>48</td>\n",
       "      <td>392</td>\n",
       "      <td>1.0</td>\n",
       "      <td>1062.0</td>\n",
       "      <td>6.0</td>\n",
       "      <td>292</td>\n",
       "      <td>160.0</td>\n",
       "      <td>118.0</td>\n",
       "      <td>17</td>\n",
       "    </tr>\n",
       "    <tr>\n",
       "      <th>Dustin Johnson</th>\n",
       "      <td>154</td>\n",
       "      <td>70</td>\n",
       "      <td>43</td>\n",
       "      <td>277</td>\n",
       "      <td>1.0</td>\n",
       "      <td>763.0</td>\n",
       "      <td>8.0</td>\n",
       "      <td>220</td>\n",
       "      <td>136.0</td>\n",
       "      <td>100.0</td>\n",
       "      <td>16</td>\n",
       "    </tr>\n",
       "    <tr>\n",
       "      <th>Chez Reavie</th>\n",
       "      <td>209</td>\n",
       "      <td>95</td>\n",
       "      <td>66</td>\n",
       "      <td>385</td>\n",
       "      <td>0.0</td>\n",
       "      <td>1027.0</td>\n",
       "      <td>8.0</td>\n",
       "      <td>298</td>\n",
       "      <td>178.0</td>\n",
       "      <td>106.0</td>\n",
       "      <td>26</td>\n",
       "    </tr>\n",
       "  </tbody>\n",
       "</table>\n",
       "</div>"
      ],
      "text/plain": [
       "                  B  Rounds  P3b  P3H  P4e     P4H  P5e  P5H    P4b    P5b  DB\n",
       "PLAYER NAME                                                                   \n",
       "Jordan Spieth   160      78   52  309  2.0   867.0  6.0  228  189.0  109.0  21\n",
       "Paul Casey      190      90   49  360  3.0   980.0  7.0  280  184.0  115.0  22\n",
       "Chad Campbell   211      97   48  392  1.0  1062.0  6.0  292  160.0  118.0  17\n",
       "Dustin Johnson  154      70   43  277  1.0   763.0  8.0  220  136.0  100.0  16\n",
       "Chez Reavie     209      95   66  385  0.0  1027.0  8.0  298  178.0  106.0  26"
      ]
     },
     "execution_count": 2,
     "metadata": {},
     "output_type": "execute_result"
    }
   ],
   "source": [
    "df.head()"
   ]
  },
  {
   "cell_type": "code",
   "execution_count": 8,
   "metadata": {},
   "outputs": [],
   "source": [
    "import numpy as np"
   ]
  },
  {
   "cell_type": "code",
   "execution_count": 65,
   "metadata": {},
   "outputs": [],
   "source": [
    "df2 = df.copy()"
   ]
  },
  {
   "cell_type": "code",
   "execution_count": 66,
   "metadata": {},
   "outputs": [],
   "source": [
    "df2['P3b'] = df2['P3b'] + (np.sum(df['P3b'])/np.sum(df['P3H'])) * df['P3H'].median() / 6\n",
    "df2['P3H'] = df2['P3H'] + df['P3H'].median() / 6"
   ]
  },
  {
   "cell_type": "code",
   "execution_count": 67,
   "metadata": {},
   "outputs": [],
   "source": [
    "df2['P4b'] = df2['P4b'] + (np.sum(df['P4b'])/np.sum(df['P4H'])) * df['P4H'].median() / 6\n",
    "df2['P4e'] = df2['P4e'] + (np.sum(df['P4e'])/np.sum(df['P4H'])) * df['P4H'].median() / 6\n",
    "df2['P4H'] = df2['P4H'] + df['P4H'].median() / 6"
   ]
  },
  {
   "cell_type": "code",
   "execution_count": 68,
   "metadata": {},
   "outputs": [],
   "source": [
    "df2['P5b'] = df2['P5b'] + (np.sum(df['P5b'])/np.sum(df['P5H'])) * df['P5H'].median() / 6\n",
    "df2['P5e'] = df2['P5e'] + (np.sum(df['P5e'])/np.sum(df['P5H'])) * df['P5H'].median() / 6\n",
    "df2['P5H'] = df2['P5H'] + df['P5H'].median() / 6"
   ]
  },
  {
   "cell_type": "code",
   "execution_count": 79,
   "metadata": {},
   "outputs": [],
   "source": [
    "df2['B'] = df2['B'] + (np.sum(df['B'])/np.sum(df['Rounds'])) * df['Rounds'].median() / 6\n",
    "df2['DB'] = df2['DB'] + (np.sum(df['DB'])/np.sum(df['Rounds'])) * df['Rounds'].median() / 6\n",
    "df2['Rounds'] = df2['Rounds'] + df['Rounds'].median() / 6"
   ]
  },
  {
   "cell_type": "code",
   "execution_count": 80,
   "metadata": {},
   "outputs": [
    {
     "data": {
      "text/html": [
       "<div>\n",
       "<style scoped>\n",
       "    .dataframe tbody tr th:only-of-type {\n",
       "        vertical-align: middle;\n",
       "    }\n",
       "\n",
       "    .dataframe tbody tr th {\n",
       "        vertical-align: top;\n",
       "    }\n",
       "\n",
       "    .dataframe thead th {\n",
       "        text-align: right;\n",
       "    }\n",
       "</style>\n",
       "<table border=\"1\" class=\"dataframe\">\n",
       "  <thead>\n",
       "    <tr style=\"text-align: right;\">\n",
       "      <th></th>\n",
       "      <th>B</th>\n",
       "      <th>Rounds</th>\n",
       "      <th>P3b</th>\n",
       "      <th>P3H</th>\n",
       "      <th>P4e</th>\n",
       "      <th>P4H</th>\n",
       "      <th>P5e</th>\n",
       "      <th>P5H</th>\n",
       "      <th>P4b</th>\n",
       "      <th>P5b</th>\n",
       "      <th>DB</th>\n",
       "    </tr>\n",
       "    <tr>\n",
       "      <th>PLAYER NAME</th>\n",
       "      <th></th>\n",
       "      <th></th>\n",
       "      <th></th>\n",
       "      <th></th>\n",
       "      <th></th>\n",
       "      <th></th>\n",
       "      <th></th>\n",
       "      <th></th>\n",
       "      <th></th>\n",
       "      <th></th>\n",
       "      <th></th>\n",
       "    </tr>\n",
       "  </thead>\n",
       "  <tbody>\n",
       "    <tr>\n",
       "      <th>Jordan Spieth</th>\n",
       "      <td>193.612275</td>\n",
       "      <td>90.666667</td>\n",
       "      <td>58.906861</td>\n",
       "      <td>360.166667</td>\n",
       "      <td>2.171539</td>\n",
       "      <td>1005.333333</td>\n",
       "      <td>6.873229</td>\n",
       "      <td>267.666667</td>\n",
       "      <td>211.637023</td>\n",
       "      <td>124.785165</td>\n",
       "      <td>25.363998</td>\n",
       "    </tr>\n",
       "    <tr>\n",
       "      <th>Paul Casey</th>\n",
       "      <td>223.612275</td>\n",
       "      <td>102.666667</td>\n",
       "      <td>55.906861</td>\n",
       "      <td>411.166667</td>\n",
       "      <td>3.171539</td>\n",
       "      <td>1118.333333</td>\n",
       "      <td>7.873229</td>\n",
       "      <td>319.666667</td>\n",
       "      <td>206.637023</td>\n",
       "      <td>130.785165</td>\n",
       "      <td>26.363998</td>\n",
       "    </tr>\n",
       "    <tr>\n",
       "      <th>Chad Campbell</th>\n",
       "      <td>244.612275</td>\n",
       "      <td>109.666667</td>\n",
       "      <td>54.906861</td>\n",
       "      <td>443.166667</td>\n",
       "      <td>1.171539</td>\n",
       "      <td>1200.333333</td>\n",
       "      <td>6.873229</td>\n",
       "      <td>331.666667</td>\n",
       "      <td>182.637023</td>\n",
       "      <td>133.785165</td>\n",
       "      <td>21.363998</td>\n",
       "    </tr>\n",
       "    <tr>\n",
       "      <th>Dustin Johnson</th>\n",
       "      <td>187.612275</td>\n",
       "      <td>82.666667</td>\n",
       "      <td>49.906861</td>\n",
       "      <td>328.166667</td>\n",
       "      <td>1.171539</td>\n",
       "      <td>901.333333</td>\n",
       "      <td>8.873229</td>\n",
       "      <td>259.666667</td>\n",
       "      <td>158.637023</td>\n",
       "      <td>115.785165</td>\n",
       "      <td>20.363998</td>\n",
       "    </tr>\n",
       "    <tr>\n",
       "      <th>Chez Reavie</th>\n",
       "      <td>242.612275</td>\n",
       "      <td>107.666667</td>\n",
       "      <td>72.906861</td>\n",
       "      <td>436.166667</td>\n",
       "      <td>0.171539</td>\n",
       "      <td>1165.333333</td>\n",
       "      <td>8.873229</td>\n",
       "      <td>337.666667</td>\n",
       "      <td>200.637023</td>\n",
       "      <td>121.785165</td>\n",
       "      <td>30.363998</td>\n",
       "    </tr>\n",
       "  </tbody>\n",
       "</table>\n",
       "</div>"
      ],
      "text/plain": [
       "                         B      Rounds        P3b         P3H       P4e  \\\n",
       "PLAYER NAME                                                               \n",
       "Jordan Spieth   193.612275   90.666667  58.906861  360.166667  2.171539   \n",
       "Paul Casey      223.612275  102.666667  55.906861  411.166667  3.171539   \n",
       "Chad Campbell   244.612275  109.666667  54.906861  443.166667  1.171539   \n",
       "Dustin Johnson  187.612275   82.666667  49.906861  328.166667  1.171539   \n",
       "Chez Reavie     242.612275  107.666667  72.906861  436.166667  0.171539   \n",
       "\n",
       "                        P4H       P5e         P5H         P4b         P5b  \\\n",
       "PLAYER NAME                                                                 \n",
       "Jordan Spieth   1005.333333  6.873229  267.666667  211.637023  124.785165   \n",
       "Paul Casey      1118.333333  7.873229  319.666667  206.637023  130.785165   \n",
       "Chad Campbell   1200.333333  6.873229  331.666667  182.637023  133.785165   \n",
       "Dustin Johnson   901.333333  8.873229  259.666667  158.637023  115.785165   \n",
       "Chez Reavie     1165.333333  8.873229  337.666667  200.637023  121.785165   \n",
       "\n",
       "                       DB  \n",
       "PLAYER NAME                \n",
       "Jordan Spieth   25.363998  \n",
       "Paul Casey      26.363998  \n",
       "Chad Campbell   21.363998  \n",
       "Dustin Johnson  20.363998  \n",
       "Chez Reavie     30.363998  "
      ]
     },
     "execution_count": 80,
     "metadata": {},
     "output_type": "execute_result"
    }
   ],
   "source": [
    "df2.head()"
   ]
  },
  {
   "cell_type": "code",
   "execution_count": 52,
   "metadata": {},
   "outputs": [
    {
     "data": {
      "text/plain": [
       "39.666666666666664"
      ]
     },
     "execution_count": 52,
     "metadata": {},
     "output_type": "execute_result"
    }
   ],
   "source": [
    "df['P5H'].median() / 6"
   ]
  },
  {
   "cell_type": "code",
   "execution_count": 71,
   "metadata": {},
   "outputs": [
    {
     "data": {
      "text/plain": [
       "0.39414928292046936"
      ]
     },
     "execution_count": 71,
     "metadata": {},
     "output_type": "execute_result"
    }
   ],
   "source": [
    "np.median(df['P5b']/df['P5H'])"
   ]
  },
  {
   "cell_type": "code",
   "execution_count": 54,
   "metadata": {},
   "outputs": [
    {
     "data": {
      "text/plain": [
       "0.16364112856832388"
      ]
     },
     "execution_count": 54,
     "metadata": {},
     "output_type": "execute_result"
    }
   ],
   "source": [
    "np.sum(df['P4b'])/np.sum(df['P4H'])"
   ]
  },
  {
   "cell_type": "code",
   "execution_count": 81,
   "metadata": {},
   "outputs": [],
   "source": [
    "aa = df['B']/df['Rounds']"
   ]
  },
  {
   "cell_type": "code",
   "execution_count": 82,
   "metadata": {},
   "outputs": [],
   "source": [
    "bb = df2['B']/df2['Rounds']"
   ]
  },
  {
   "cell_type": "code",
   "execution_count": 83,
   "metadata": {},
   "outputs": [
    {
     "data": {
      "text/plain": [
       "count    190.000000\n",
       "mean       2.669209\n",
       "std        0.262525\n",
       "min        2.051282\n",
       "25%        2.495787\n",
       "50%        2.652248\n",
       "75%        2.791215\n",
       "max        3.745455\n",
       "dtype: float64"
      ]
     },
     "execution_count": 83,
     "metadata": {},
     "output_type": "execute_result"
    }
   ],
   "source": [
    "aa.describe()"
   ]
  },
  {
   "cell_type": "code",
   "execution_count": 84,
   "metadata": {},
   "outputs": [
    {
     "data": {
      "text/plain": [
       "count    190.000000\n",
       "mean       2.664920\n",
       "std        0.221373\n",
       "min        2.135430\n",
       "25%        2.516923\n",
       "50%        2.652424\n",
       "75%        2.768315\n",
       "max        3.541068\n",
       "dtype: float64"
      ]
     },
     "execution_count": 84,
     "metadata": {},
     "output_type": "execute_result"
    }
   ],
   "source": [
    "bb.describe()"
   ]
  },
  {
   "cell_type": "code",
   "execution_count": 85,
   "metadata": {},
   "outputs": [
    {
     "data": {
      "text/plain": [
       "PLAYER NAME\n",
       "Jordan Spieth            2.051282\n",
       "Paul Casey               2.111111\n",
       "Chad Campbell            2.175258\n",
       "Dustin Johnson           2.200000\n",
       "Chez Reavie              2.200000\n",
       "Patrick Cantlay          2.208333\n",
       "Webb Simpson             2.232323\n",
       "Lucas Glover             2.233333\n",
       "Rickie Fowler            2.236842\n",
       "Hideki Matsuyama         2.263158\n",
       "Zac Blair                2.303030\n",
       "Matt Kuchar              2.315217\n",
       "Adam Hadwin              2.316327\n",
       "Charles Howell III       2.317073\n",
       "Tony Finau               2.317308\n",
       "Jon Rahm                 2.325301\n",
       "Sergio Garcia            2.338710\n",
       "Martin Flores            2.345679\n",
       "Ian Poulter              2.352941\n",
       "Justin Thomas            2.367089\n",
       "Cameron Percy            2.369231\n",
       "Louis Oosthuizen         2.370968\n",
       "Pat Perez                2.388889\n",
       "John Huh                 2.397727\n",
       "Bill Haas                2.400000\n",
       "Brian Harman             2.400000\n",
       "Marc Leishman            2.411111\n",
       "Tom Hoge                 2.413043\n",
       "J.T. Poston              2.413793\n",
       "Brian Gay                2.423077\n",
       "                           ...   \n",
       "Kevin Chappell           2.888889\n",
       "Boo Weekley              2.890411\n",
       "Patton Kizzire           2.894737\n",
       "SebastiÃ¡n MuÃ±oz        2.897959\n",
       "Derek Fathauer           2.906667\n",
       "Grayson Murray           2.911111\n",
       "Ken Duke                 2.915493\n",
       "Russell Knox             2.928571\n",
       "Jason Kokrak             2.936842\n",
       "Dominic Bozzelli         2.953846\n",
       "Brett Stegmaier          2.960526\n",
       "Greg Chalmers            2.971831\n",
       "Graeme McDowell          2.982143\n",
       "Miguel Angel Carballo    2.982456\n",
       "Jimmy Walker             3.015385\n",
       "Jonathan Randolph        3.031746\n",
       "Byeong Hun An            3.069444\n",
       "Kelly Kraft              3.112676\n",
       "Patrick Rodgers          3.148649\n",
       "Ernie Els                3.173077\n",
       "Brad Fritsch             3.173077\n",
       "Bubba Watson             3.190476\n",
       "Si Woo Kim               3.226667\n",
       "Scott Piercy             3.238806\n",
       "SÃ¸ren Kjeldsen          3.244898\n",
       "Rod Pampling             3.253521\n",
       "Carl Pettersson          3.406780\n",
       "Matt Every               3.457143\n",
       "Andrew Loupe             3.461538\n",
       "Steven Bowditch          3.745455\n",
       "Length: 190, dtype: float64"
      ]
     },
     "execution_count": 85,
     "metadata": {},
     "output_type": "execute_result"
    }
   ],
   "source": [
    "aa.sort_values()"
   ]
  },
  {
   "cell_type": "code",
   "execution_count": 86,
   "metadata": {},
   "outputs": [
    {
     "data": {
      "text/plain": [
       "PLAYER NAME\n",
       "Jordan Spieth            2.135430\n",
       "Paul Casey               2.178042\n",
       "Chad Campbell            2.230507\n",
       "Chez Reavie              2.253365\n",
       "Dustin Johnson           2.269503\n",
       "Webb Simpson             2.280110\n",
       "Lucas Glover             2.285184\n",
       "Rickie Fowler            2.296379\n",
       "Patrick Cantlay          2.301301\n",
       "Hideki Matsuyama         2.318935\n",
       "Zac Blair                2.342796\n",
       "Tony Finau               2.353820\n",
       "Adam Hadwin              2.354930\n",
       "Matt Kuchar              2.356168\n",
       "Charles Howell III       2.362101\n",
       "Jon Rahm                 2.368769\n",
       "Martin Flores            2.387320\n",
       "Sergio Garcia            2.392129\n",
       "Ian Poulter              2.400152\n",
       "Justin Thomas            2.406679\n",
       "Cameron Percy            2.415609\n",
       "Louis Oosthuizen         2.418914\n",
       "Pat Perez                2.421548\n",
       "Brian Harman             2.428511\n",
       "John Huh                 2.429923\n",
       "Bill Haas                2.432890\n",
       "Marc Leishman            2.441029\n",
       "J.T. Poston              2.444270\n",
       "Brian Gay                2.455282\n",
       "Seamus Power             2.456248\n",
       "                           ...   \n",
       "Hunter Mahan             2.851940\n",
       "Boo Weekley              2.855396\n",
       "Kevin Chappell           2.859860\n",
       "Patton Kizzire           2.860289\n",
       "Derek Fathauer           2.870102\n",
       "Ken Duke                 2.875844\n",
       "Grayson Murray           2.879340\n",
       "Russell Knox             2.886439\n",
       "Jason Kokrak             2.903520\n",
       "Dominic Bozzelli         2.904879\n",
       "Brett Stegmaier          2.916680\n",
       "Graeme McDowell          2.921538\n",
       "Miguel Angel Carballo    2.922664\n",
       "Greg Chalmers            2.923653\n",
       "Jimmy Walker             2.956381\n",
       "Jonathan Randolph        2.968444\n",
       "Byeong Hun An            3.007232\n",
       "Kelly Kraft              3.043175\n",
       "Ernie Els                3.071324\n",
       "Brad Fritsch             3.071324\n",
       "Patrick Rodgers          3.076295\n",
       "Bubba Watson             3.100603\n",
       "SÃ¸ren Kjeldsen          3.123442\n",
       "Si Woo Kim               3.143866\n",
       "Scott Piercy             3.145761\n",
       "Rod Pampling             3.162697\n",
       "Carl Pettersson          3.273660\n",
       "Andrew Loupe             3.303283\n",
       "Matt Every               3.334019\n",
       "Steven Bowditch          3.541068\n",
       "Length: 190, dtype: float64"
      ]
     },
     "execution_count": 86,
     "metadata": {},
     "output_type": "execute_result"
    }
   ],
   "source": [
    "bb.sort_values()"
   ]
  },
  {
   "cell_type": "code",
   "execution_count": 16,
   "metadata": {},
   "outputs": [
    {
     "data": {
      "text/plain": [
       "B         170.0\n",
       "Rounds     76.0\n",
       "P3b        54.0\n",
       "P3H       304.0\n",
       "P4e         3.0\n",
       "P4H       832.0\n",
       "P5e         3.0\n",
       "P5H       232.0\n",
       "P4b       157.0\n",
       "P5b       114.0\n",
       "DB         25.0\n",
       "Name: Rickie Fowler, dtype: float64"
      ]
     },
     "execution_count": 16,
     "metadata": {},
     "output_type": "execute_result"
    }
   ],
   "source": [
    "df.loc['Rickie Fowler']"
   ]
  },
  {
   "cell_type": "code",
   "execution_count": 87,
   "metadata": {},
   "outputs": [
    {
     "data": {
      "text/plain": [
       "B         163.0\n",
       "Rounds     59.0\n",
       "P3b        40.0\n",
       "P3H       237.0\n",
       "P4e         1.0\n",
       "P4H       636.0\n",
       "P5e         6.0\n",
       "P5H       189.0\n",
       "P4b       109.0\n",
       "P5b        71.0\n",
       "DB         15.0\n",
       "Name: Tag Ridings, dtype: float64"
      ]
     },
     "execution_count": 87,
     "metadata": {},
     "output_type": "execute_result"
    }
   ],
   "source": [
    "df.loc['Tag Ridings']"
   ]
  },
  {
   "cell_type": "code",
   "execution_count": 43,
   "metadata": {},
   "outputs": [
    {
     "data": {
      "text/plain": [
       "PLAYER NAME\n",
       "Si Woo Kim           0.085652\n",
       "Roberto Castro       0.086088\n",
       "Chad Collins         0.092356\n",
       "Hunter Mahan         0.099677\n",
       "Branden Grace        0.099967\n",
       "Ryan Moore           0.100518\n",
       "Rory McIlroy         0.102427\n",
       "Brandon Hagy         0.102472\n",
       "Bubba Watson         0.102624\n",
       "Louis Oosthuizen     0.103310\n",
       "Ryo Ishikawa         0.103547\n",
       "Kyle Reifers         0.105379\n",
       "Steven Bowditch      0.105435\n",
       "Jimmy Walker         0.106783\n",
       "Boo Weekley          0.106925\n",
       "Charl Schwartzel     0.108098\n",
       "FabiÃ¡n GÃ³mez       0.109147\n",
       "Rod Pampling         0.109787\n",
       "Pat Perez            0.110021\n",
       "SÃ¸ren Kjeldsen      0.111109\n",
       "Patrick Rodgers      0.111428\n",
       "Ken Duke             0.112095\n",
       "Jason Bohn           0.112095\n",
       "Morgan Hoffmann      0.112471\n",
       "Ryan Palmer          0.113212\n",
       "Zach Johnson         0.113894\n",
       "Xander Schauffele    0.114019\n",
       "Seamus Power         0.114063\n",
       "Andrew Loupe         0.114076\n",
       "Ernie Els            0.114513\n",
       "                       ...   \n",
       "Dustin Johnson       0.152078\n",
       "Matt Every           0.152340\n",
       "Cameron Tringale     0.152543\n",
       "Zac Blair            0.153070\n",
       "Bryson DeChambeau    0.155051\n",
       "Emiliano Grillo      0.155090\n",
       "J.J. Spaun           0.155480\n",
       "Brian Harman         0.156470\n",
       "Wesley Bryan         0.157233\n",
       "J.T. Poston          0.158120\n",
       "Brooks Koepka        0.158707\n",
       "Brett Stegmaier      0.161676\n",
       "Peter Malnati        0.162132\n",
       "Robert Garrigus      0.162441\n",
       "Tag Ridings          0.162777\n",
       "Jordan Spieth        0.163554\n",
       "Cameron Smith        0.163749\n",
       "Patton Kizzire       0.164928\n",
       "Seung-Yul Noh        0.166366\n",
       "Chez Reavie          0.167154\n",
       "Blayne Barber        0.167784\n",
       "Ryan Armour          0.169717\n",
       "Luke List            0.169751\n",
       "Rickie Fowler        0.171488\n",
       "Scott Piercy         0.176638\n",
       "Brandt Snedeker      0.176925\n",
       "Camilo Villegas      0.179578\n",
       "Nicholas Lindheim    0.184334\n",
       "Graeme McDowell      0.193099\n",
       "Tom Hoge             0.198618\n",
       "Length: 190, dtype: float64"
      ]
     },
     "execution_count": 43,
     "metadata": {},
     "output_type": "execute_result"
    }
   ],
   "source": [
    "bb = df2['P3b']/df2['P3H']\n",
    "bb.sort_values()"
   ]
  },
  {
   "cell_type": "code",
   "execution_count": 48,
   "metadata": {},
   "outputs": [
    {
     "data": {
      "text/plain": [
       "PLAYER NAME\n",
       "Tom Hoge            -0.017599\n",
       "Graeme McDowell     -0.013041\n",
       "Nicholas Lindheim   -0.011222\n",
       "Brandt Snedeker     -0.010892\n",
       "Camilo Villegas     -0.007922\n",
       "Scott Piercy        -0.007864\n",
       "Ryan Armour         -0.007498\n",
       "Rickie Fowler       -0.006143\n",
       "Tag Ridings         -0.006000\n",
       "Blayne Barber       -0.005827\n",
       "Patton Kizzire      -0.005006\n",
       "Robert Garrigus     -0.004794\n",
       "Jordan Spieth       -0.004730\n",
       "Seung-Yul Noh       -0.004574\n",
       "Luke List           -0.004492\n",
       "Brett Stegmaier     -0.004448\n",
       "Cameron Smith       -0.004419\n",
       "Chez Reavie         -0.004275\n",
       "Peter Malnati       -0.004049\n",
       "Matt Jones          -0.003811\n",
       "Brooks Koepka       -0.003793\n",
       "Adam Scott          -0.003647\n",
       "Retief Goosen       -0.003355\n",
       "J.T. Poston         -0.003353\n",
       "Steven Alker        -0.003224\n",
       "Dustin Johnson      -0.003157\n",
       "Matt Every          -0.003137\n",
       "Wesley Bryan        -0.003093\n",
       "J.J. Spaun          -0.003022\n",
       "Emiliano Grillo     -0.002956\n",
       "                       ...   \n",
       "Shawn Stefani        0.003438\n",
       "Zach Johnson         0.003504\n",
       "Pat Perez            0.003578\n",
       "Patrick Rodgers      0.004045\n",
       "Jason Bohn           0.004081\n",
       "Ken Duke             0.004081\n",
       "Kyle Reifers         0.004256\n",
       "Rod Pampling         0.004524\n",
       "Boo Weekley          0.004884\n",
       "Jim Furyk            0.004905\n",
       "Ernie Els            0.004989\n",
       "Andrew Loupe         0.005071\n",
       "Ryan Palmer          0.005231\n",
       "Steve Wheatcroft     0.005291\n",
       "Brandon Hagy         0.005384\n",
       "Ryan Moore           0.005581\n",
       "Jimmy Walker         0.005615\n",
       "Charl Schwartzel     0.005639\n",
       "FabiÃ¡n GÃ³mez       0.005699\n",
       "SÃ¸ren Kjeldsen      0.006109\n",
       "Hunter Mahan         0.006252\n",
       "Louis Oosthuizen     0.006536\n",
       "Bubba Watson         0.006624\n",
       "Steven Bowditch      0.006781\n",
       "Ryo Ishikawa         0.007056\n",
       "Branden Grace        0.007225\n",
       "Si Woo Kim           0.008471\n",
       "Rory McIlroy         0.008677\n",
       "Chad Collins         0.008691\n",
       "Roberto Castro       0.009165\n",
       "Length: 190, dtype: float64"
      ]
     },
     "execution_count": 48,
     "metadata": {},
     "output_type": "execute_result"
    }
   ],
   "source": [
    "(bb-aa).sort_values()"
   ]
  }
 ],
 "metadata": {
  "kernelspec": {
   "display_name": "Python 3",
   "language": "python",
   "name": "python3"
  },
  "language_info": {
   "codemirror_mode": {
    "name": "ipython",
    "version": 3
   },
   "file_extension": ".py",
   "mimetype": "text/x-python",
   "name": "python",
   "nbconvert_exporter": "python",
   "pygments_lexer": "ipython3",
   "version": "3.6.2"
  }
 },
 "nbformat": 4,
 "nbformat_minor": 2
}
